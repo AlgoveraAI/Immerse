{
 "cells": [
  {
   "cell_type": "markdown",
   "id": "0cc5783d-a497-4eba-af23-cf8f5acfe407",
   "metadata": {},
   "source": [
    "# Goal Build all pinning services into more abstract API to upload and download dataset\n",
    "\n",
    "* NFT Storage\n",
    "* Pinata\n",
    "* Eternum\n",
    "* Estuary"
   ]
  },
  {
   "cell_type": "markdown",
   "id": "4df9818b-8d61-4b56-89bc-cb84d0f9a50c",
   "metadata": {
    "jp-MarkdownHeadingCollapsed": true,
    "tags": []
   },
   "source": [
    "## NFT Storage"
   ]
  },
  {
   "cell_type": "code",
   "execution_count": 13,
   "id": "2fe33573-b35c-41d9-a319-d177a7522b66",
   "metadata": {},
   "outputs": [],
   "source": [
    "import nftstorage"
   ]
  },
  {
   "cell_type": "code",
   "execution_count": 14,
   "id": "dbd4769f-7d40-465b-b1c3-1b7ae23e049d",
   "metadata": {},
   "outputs": [],
   "source": [
    "nft_storage = nftstorage.NFTStorage()"
   ]
  },
  {
   "cell_type": "code",
   "execution_count": 15,
   "id": "8c60fdc2-94b7-46b2-8f1b-000c536af493",
   "metadata": {},
   "outputs": [],
   "source": [
    "cred = nft_storage.get_creds()"
   ]
  },
  {
   "cell_type": "code",
   "execution_count": 16,
   "id": "be8fadf4-8cd7-4429-9c9a-49d06b4363c9",
   "metadata": {},
   "outputs": [
    {
     "data": {
      "text/plain": [
       "({'ok': True,\n",
       "  'value': {'cid': 'bafybeif36uqfqj5on23qfdl3nglc7ncgcbnz4ixpleomskg7pqn3xmlgfi',\n",
       "   'created': '2022-03-09T04:03:21.867+00:00',\n",
       "   'type': 'form-data',\n",
       "   'scope': 'audiocentive',\n",
       "   'files': [],\n",
       "   'size': 2086898,\n",
       "   'pin': {'cid': 'bafybeif36uqfqj5on23qfdl3nglc7ncgcbnz4ixpleomskg7pqn3xmlgfi',\n",
       "    'created': '2022-03-09T04:03:21.867+00:00',\n",
       "    'size': 2086898,\n",
       "    'status': 'pinned'},\n",
       "   'deals': [{'status': 'active',\n",
       "     'lastChanged': '2022-03-09T11:01:51.318299+00:00',\n",
       "     'chainDealID': 4380122,\n",
       "     'datamodelSelector': 'Links/92/Hash/Links/193/Hash/Links/1/Hash',\n",
       "     'statusText': 'containing sector active as of 2022-03-09 22:18:30 at epoch 1618597',\n",
       "     'dealActivation': '2022-03-10T19:13:30+00:00',\n",
       "     'dealExpiration': '2023-08-02T19:13:30+00:00',\n",
       "     'miner': 'f01199442',\n",
       "     'pieceCid': 'baga6ea4seaqlt3op73vmsqcservja27nsqjv32itwmwc46rjc5nfb7hp5agmeey',\n",
       "     'batchRootCid': 'bafybeiepq37bwmlpinstbug2nr2ohob34wi5nt3mnmnjkqtxu3da6ruupi'},\n",
       "    {'status': 'active',\n",
       "     'lastChanged': '2022-03-09T11:17:25.209892+00:00',\n",
       "     'chainDealID': 4380455,\n",
       "     'datamodelSelector': 'Links/92/Hash/Links/193/Hash/Links/1/Hash',\n",
       "     'statusText': 'containing sector active as of 2022-03-09 23:40:00 at epoch 1618760',\n",
       "     'dealActivation': '2022-03-10T19:34:30+00:00',\n",
       "     'dealExpiration': '2023-08-02T19:34:30+00:00',\n",
       "     'miner': 'f02620',\n",
       "     'pieceCid': 'baga6ea4seaqlt3op73vmsqcservja27nsqjv32itwmwc46rjc5nfb7hp5agmeey',\n",
       "     'batchRootCid': 'bafybeiepq37bwmlpinstbug2nr2ohob34wi5nt3mnmnjkqtxu3da6ruupi'},\n",
       "    {'status': 'active',\n",
       "     'lastChanged': '2022-03-09T11:57:07.491654+00:00',\n",
       "     'chainDealID': 4381188,\n",
       "     'datamodelSelector': 'Links/92/Hash/Links/193/Hash/Links/1/Hash',\n",
       "     'statusText': 'containing sector active as of 2022-03-09 12:35:30 at epoch 1617431',\n",
       "     'dealActivation': '2022-03-10T22:13:30+00:00',\n",
       "     'dealExpiration': '2023-08-02T22:13:30+00:00',\n",
       "     'miner': 'f010088',\n",
       "     'pieceCid': 'baga6ea4seaqlt3op73vmsqcservja27nsqjv32itwmwc46rjc5nfb7hp5agmeey',\n",
       "     'batchRootCid': 'bafybeiepq37bwmlpinstbug2nr2ohob34wi5nt3mnmnjkqtxu3da6ruupi'}]}},\n",
       " 200)"
      ]
     },
     "execution_count": 16,
     "metadata": {},
     "output_type": "execute_result"
    }
   ],
   "source": [
    "nft_storage.upload_file(\"IMG_3990.JPG\",cred)"
   ]
  },
  {
   "cell_type": "code",
   "execution_count": 334,
   "id": "edcb9662-0fbb-42d1-b509-19c3fccf9d6e",
   "metadata": {},
   "outputs": [
    {
     "data": {
      "text/plain": [
       "{'ok': True,\n",
       " 'value': {'cid': 'bafkreigjqslso7qcejebq6vuyg5ezzkdja5euughikfga3hky2knwzmmhi',\n",
       "  'created': '2022-03-09T02:06:48.313+00:00',\n",
       "  'type': 'form-data',\n",
       "  'scope': 'audiocentive',\n",
       "  'files': [],\n",
       "  'size': 9876,\n",
       "  'pin': {'cid': 'bafkreigjqslso7qcejebq6vuyg5ezzkdja5euughikfga3hky2knwzmmhi',\n",
       "   'created': '2022-03-09T02:06:48.313+00:00',\n",
       "   'size': 9876,\n",
       "   'status': 'pinned'},\n",
       "  'deals': [{'status': 'active',\n",
       "    'lastChanged': '2022-03-09T07:37:02.292312+00:00',\n",
       "    'chainDealID': 4376541,\n",
       "    'datamodelSelector': 'Links/108/Hash/Links/210/Hash/Links/1/Hash',\n",
       "    'statusText': 'containing sector active as of 2022-03-09 12:27:30 at epoch 1617415',\n",
       "    'dealActivation': '2022-03-10T13:09:30+00:00',\n",
       "    'dealExpiration': '2023-08-02T13:09:30+00:00',\n",
       "    'miner': 'f01611097',\n",
       "    'pieceCid': 'baga6ea4seaqm5qvqfegcm7xhuedaehf77amqe4sji3qpz52iz4v3xwjsg6q6uki',\n",
       "    'batchRootCid': 'bafybeifodhtjg5nj4ao7pfcowezsb7c5d3xpayq7bhhbg3qaxbsum4qs5q'},\n",
       "   {'status': 'published',\n",
       "    'lastChanged': '2022-03-09T07:56:51.8062+00:00',\n",
       "    'chainDealID': 4376893,\n",
       "    'datamodelSelector': 'Links/108/Hash/Links/210/Hash/Links/1/Hash',\n",
       "    'statusText': None,\n",
       "    'dealActivation': '2022-03-10T16:08:30+00:00',\n",
       "    'dealExpiration': '2023-08-02T16:08:30+00:00',\n",
       "    'miner': 'f01199430',\n",
       "    'pieceCid': 'baga6ea4seaqm5qvqfegcm7xhuedaehf77amqe4sji3qpz52iz4v3xwjsg6q6uki',\n",
       "    'batchRootCid': 'bafybeifodhtjg5nj4ao7pfcowezsb7c5d3xpayq7bhhbg3qaxbsum4qs5q'},\n",
       "   {'status': 'active',\n",
       "    'lastChanged': '2022-03-09T08:57:03.278848+00:00',\n",
       "    'chainDealID': 4377951,\n",
       "    'datamodelSelector': 'Links/108/Hash/Links/210/Hash/Links/1/Hash',\n",
       "    'statusText': 'containing sector active as of 2022-03-09 13:27:00 at epoch 1617534',\n",
       "    'dealActivation': '2022-03-10T16:59:30+00:00',\n",
       "    'dealExpiration': '2023-08-02T16:59:30+00:00',\n",
       "    'miner': 'f0840770',\n",
       "    'pieceCid': 'baga6ea4seaqm5qvqfegcm7xhuedaehf77amqe4sji3qpz52iz4v3xwjsg6q6uki',\n",
       "    'batchRootCid': 'bafybeifodhtjg5nj4ao7pfcowezsb7c5d3xpayq7bhhbg3qaxbsum4qs5q'}]}}"
      ]
     },
     "execution_count": 334,
     "metadata": {},
     "output_type": "execute_result"
    }
   ],
   "source": [
    "nft_storage.get_file(\"bafkreigjqslso7qcejebq6vuyg5ezzkdja5euughikfga3hky2knwzmmhi\",cred)"
   ]
  },
  {
   "cell_type": "markdown",
   "id": "7ba348ba-819d-4030-bde8-21189fd0486f",
   "metadata": {
    "jp-MarkdownHeadingCollapsed": true,
    "tags": []
   },
   "source": [
    "# IPFS"
   ]
  },
  {
   "cell_type": "code",
   "execution_count": 17,
   "id": "885322ac-55e2-4d07-ab26-1cd37f978ffb",
   "metadata": {},
   "outputs": [],
   "source": [
    "import ipfs\n",
    "\n",
    "ipfs = ipfs.IPFS()"
   ]
  },
  {
   "cell_type": "code",
   "execution_count": 18,
   "id": "37f26bdb-abc7-447d-9384-46298dc40230",
   "metadata": {},
   "outputs": [],
   "source": [
    "# w = ipfs.add(\"All_Gateway_Properties.csv\")\n",
    "\n",
    "# w.json()"
   ]
  },
  {
   "cell_type": "code",
   "execution_count": 19,
   "id": "85a3cacf-6d4c-4625-947b-116992ab6c03",
   "metadata": {},
   "outputs": [
    {
     "name": "stdout",
     "output_type": "stream",
     "text": [
      "Retrieved file hash bafybeif36uqfqj5on23qfdl3nglc7ncgcbnz4ixpleomskg7pqn3xmlgfi from https://dweb.link Response 200\n"
     ]
    }
   ],
   "source": [
    "f_name = ipfs.get_file(\"bafybeif36uqfqj5on23qfdl3nglc7ncgcbnz4ixpleomskg7pqn3xmlgfi\",local_node=False)"
   ]
  },
  {
   "cell_type": "code",
   "execution_count": 20,
   "id": "24dc2aa3-aaec-4f2c-96de-c6de80a65330",
   "metadata": {},
   "outputs": [],
   "source": [
    "response = f_name.content"
   ]
  },
  {
   "cell_type": "code",
   "execution_count": 105,
   "id": "4cefb884-ebd4-49ca-a440-4441f67da5db",
   "metadata": {},
   "outputs": [
    {
     "data": {
      "text/html": [
       "<div>\n",
       "<style scoped>\n",
       "    .dataframe tbody tr th:only-of-type {\n",
       "        vertical-align: middle;\n",
       "    }\n",
       "\n",
       "    .dataframe tbody tr th {\n",
       "        vertical-align: top;\n",
       "    }\n",
       "\n",
       "    .dataframe thead th {\n",
       "        text-align: right;\n",
       "    }\n",
       "</style>\n",
       "<table border=\"1\" class=\"dataframe\">\n",
       "  <thead>\n",
       "    <tr style=\"text-align: right;\">\n",
       "      <th></th>\n",
       "      <th>No.</th>\n",
       "      <th>Address</th>\n",
       "      <th>City/State/Zip</th>\n",
       "    </tr>\n",
       "  </thead>\n",
       "  <tbody>\n",
       "    <tr>\n",
       "      <th>0</th>\n",
       "      <td>1</td>\n",
       "      <td>7178 COLUMBIA GATEWAY DR</td>\n",
       "      <td>COLUMBIA, MD 21046</td>\n",
       "    </tr>\n",
       "    <tr>\n",
       "      <th>1</th>\n",
       "      <td>2</td>\n",
       "      <td>7220 LEE DEFOREST DR</td>\n",
       "      <td>COLUMBIA, MD 21046</td>\n",
       "    </tr>\n",
       "    <tr>\n",
       "      <th>2</th>\n",
       "      <td>3</td>\n",
       "      <td>7224 SOLAR WALK</td>\n",
       "      <td>COLUMBIA, MD 21046</td>\n",
       "    </tr>\n",
       "    <tr>\n",
       "      <th>3</th>\n",
       "      <td>4</td>\n",
       "      <td>7230 LEE DEFOREST DR</td>\n",
       "      <td>COLUMBIA, MD 21046</td>\n",
       "    </tr>\n",
       "    <tr>\n",
       "      <th>4</th>\n",
       "      <td>5</td>\n",
       "      <td>7061 COLUMBIA GATEWAY DR</td>\n",
       "      <td>COLUMBIA, MD 21046</td>\n",
       "    </tr>\n",
       "    <tr>\n",
       "      <th>...</th>\n",
       "      <td>...</td>\n",
       "      <td>...</td>\n",
       "      <td>...</td>\n",
       "    </tr>\n",
       "    <tr>\n",
       "      <th>208</th>\n",
       "      <td>209</td>\n",
       "      <td>7277 CALM SUNSET</td>\n",
       "      <td>COLUMBIA, MD 21046</td>\n",
       "    </tr>\n",
       "    <tr>\n",
       "      <th>209</th>\n",
       "      <td>210</td>\n",
       "      <td>9161 COMMERCE CENTER DR</td>\n",
       "      <td>COLUMBIA, MD 21046</td>\n",
       "    </tr>\n",
       "    <tr>\n",
       "      <th>210</th>\n",
       "      <td>211</td>\n",
       "      <td>8601 ROBERT FULTON DR</td>\n",
       "      <td>COLUMBIA, MD 21046</td>\n",
       "    </tr>\n",
       "    <tr>\n",
       "      <th>211</th>\n",
       "      <td>212</td>\n",
       "      <td>6741 COLUMBIA GATEWAY DR</td>\n",
       "      <td>COLUMBIA, MD 21046</td>\n",
       "    </tr>\n",
       "    <tr>\n",
       "      <th>212</th>\n",
       "      <td>213</td>\n",
       "      <td>9131 COMMERCE CENTER DR</td>\n",
       "      <td>COLUMBIA, MD 21046</td>\n",
       "    </tr>\n",
       "  </tbody>\n",
       "</table>\n",
       "<p>213 rows × 3 columns</p>\n",
       "</div>"
      ],
      "text/plain": [
       "     No.                   Address      City/State/Zip\n",
       "0      1  7178 COLUMBIA GATEWAY DR  COLUMBIA, MD 21046\n",
       "1      2      7220 LEE DEFOREST DR  COLUMBIA, MD 21046\n",
       "2      3           7224 SOLAR WALK  COLUMBIA, MD 21046\n",
       "3      4      7230 LEE DEFOREST DR  COLUMBIA, MD 21046\n",
       "4      5  7061 COLUMBIA GATEWAY DR  COLUMBIA, MD 21046\n",
       "..   ...                       ...                 ...\n",
       "208  209          7277 CALM SUNSET  COLUMBIA, MD 21046\n",
       "209  210   9161 COMMERCE CENTER DR  COLUMBIA, MD 21046\n",
       "210  211     8601 ROBERT FULTON DR  COLUMBIA, MD 21046\n",
       "211  212  6741 COLUMBIA GATEWAY DR  COLUMBIA, MD 21046\n",
       "212  213   9131 COMMERCE CENTER DR  COLUMBIA, MD 21046\n",
       "\n",
       "[213 rows x 3 columns]"
      ]
     },
     "execution_count": 105,
     "metadata": {},
     "output_type": "execute_result"
    }
   ],
   "source": [
    "read_file(response)"
   ]
  },
  {
   "cell_type": "markdown",
   "id": "c3418d0b-e21f-41ff-8965-ce27dd704115",
   "metadata": {
    "tags": []
   },
   "source": [
    "# Pinata"
   ]
  },
  {
   "cell_type": "code",
   "execution_count": 94,
   "id": "a9b3bb0e-efb2-4d48-9e5c-68cb104e98d7",
   "metadata": {},
   "outputs": [],
   "source": [
    "import requests\n",
    "import json\n",
    "\n",
    "#Old API - https://docs.pinata.cloud/api-pinning/pinning-services-api\n",
    "#New API - https://managed.mypinata.cloud/api/v1/api-docs/#/\n",
    "\n",
    "#https://medium.com/pinata/how-to-pin-to-ipfs-effortlessly-ba3437b33885\n",
    "class PinataV1:\n",
    "    \n",
    "    def get_creds(self):\n",
    "\n",
    "        with open(\"creds.json\") as f:\n",
    "\n",
    "            cred = json.loads(f.read())\n",
    "\n",
    "        return cred[\"Pinata\"]\n",
    "\n",
    "    def upload_file(self,fn,cred):\n",
    "\n",
    "        base_url = \"https://api.pinata.cloud/pinning/pinFileToIPFS\"\n",
    "\n",
    "        header = {\n",
    "                  \"pinata_api_key\":cred[\"API Key\"],\n",
    "                    \"pinata_secret_api_key\":cred[\"API Secret\"]\n",
    "                  }\n",
    "        \n",
    "        \n",
    "        #Filename,file, content_type, cookie expiration?\n",
    "        files = {'file': (fn, open(fn, 'rb'),\n",
    "                          \"multipart/form-data\", {'Expires': '0'})\n",
    "                }\n",
    "\n",
    "\n",
    "        response = requests.post(base_url, headers=header,files=files)\n",
    "\n",
    "        return response.json(),response.status_code\n",
    "    \n",
    "    \n",
    "    def pin(self,fn,cid,cred):\n",
    "\n",
    "        base_url = \"https://api.pinata.cloud/pinning/pinByHash\"\n",
    "\n",
    "        header = {\n",
    "                  \"pinata_api_key\":cred[\"API Key\"],\n",
    "                    \"pinata_secret_api_key\":cred[\"API Secret\"]\n",
    "                  }\n",
    "        \n",
    "        data = {\n",
    "                    # The \"pinataMetadata\" object will not be part of your content added to IPFS\n",
    "                    # Pinata simply stores the metadata provided to help you easily query the content you've pinned with Pinata\n",
    "                    \"pinataMetadata\": {\n",
    "                        \"name\": fn,\n",
    "                        \"keyvalues\": {}\n",
    "                    },\n",
    "                    \"hashToPin\": cid\n",
    "            }\n",
    "    \n",
    "\n",
    "\n",
    "        response = requests.post(base_url, headers=header,json=data)\n",
    "\n",
    "        return response.json(),response.status_code\n",
    "    \n",
    "    \n",
    "    #Appears in documentation, but invalid endpoint\n",
    "    def unpin(self,cid,cred):\n",
    "\n",
    "        base_url = \"https://api.pinata.cloud/pinning/unpin\"\n",
    "\n",
    "        header = {\n",
    "                  \"pinata_api_key\":cred[\"API Key\"],\n",
    "                    \"pinata_secret_api_key\":cred[\"API Secret\"]\n",
    "                  }\n",
    "        \n",
    "        data = {\"hashToUnpin\":cid} #The hash of the content you wish to have Pinata unpin from its nodes.\n",
    "    \n",
    "\n",
    "\n",
    "        response = requests.delete(base_url, headers=header,data=data)\n",
    "\n",
    "        return response.json(),response.status_code\n",
    "    \n",
    "    \n",
    "    #Appears in documentation, but invalid endpoint\n",
    "    def edit_hash(self,fn,cid,cred):\n",
    "\n",
    "        base_url = \"https://api.pinata.cloud/pinning/hashMetadata\"\n",
    "\n",
    "        header = {\n",
    "                  \"pinata_api_key\":cred[\"API Key\"],\n",
    "                    \"pinata_secret_api_key\":cred[\"API Secret\"]\n",
    "                  }\n",
    "        \n",
    "        data = {\n",
    "        \"ipfsPinHash\": cid,\n",
    "        \"name\": fn,\n",
    "        \"keyvalues\": {\n",
    "            \"newKey\": 'newValue',\n",
    "            \"existingKey\": 'newValue',\n",
    "            \"existingKeyToRemove\": None\n",
    "            }\n",
    "        }\n",
    "    \n",
    "\n",
    "\n",
    "        response = requests.put(base_url, headers=header,data=data)\n",
    "\n",
    "        return response.status_code\n",
    "    \n",
    "    def pin_policy(self,cid,cred,region=\"NYC1\",replications=2):\n",
    "        \n",
    "        \"\"\"\n",
    "        FRA1 - Frankfurt, Germany (max 2 replications)\n",
    "        NYC1 - New York City, USA (max 2 replications)\n",
    "        \"\"\"\n",
    "        \n",
    "        base_url = \"https://api.pinata.cloud/pinning/hashPinPolicy\"\n",
    "\n",
    "        header = {\n",
    "                  \"pinata_api_key\":cred[\"API Key\"],\n",
    "                    \"pinata_secret_api_key\":cred[\"API Secret\"]\n",
    "                  }\n",
    "        \n",
    "        data = {\n",
    "                \"ipfsPinHash\": cid,\n",
    "                \"newPinPolicy\": {\n",
    "                    \"regions\": [\n",
    "                        {\n",
    "                            \"id\": region,\n",
    "                            \"desiredReplicationCount\": replications\n",
    "                        },\n",
    "                    ]\n",
    "                }\n",
    "            }\n",
    "        \n",
    "        \n",
    "        response = requests.put(base_url, headers=header,data=data)\n",
    "\n",
    "        return response.json(),response.status_code\n",
    "        \n",
    "        \n",
    "    def globalpin_policy(self,cred,region=\"NYC1\",replications=2):\n",
    "        \n",
    "        \"\"\"\n",
    "        FRA1 - Frankfurt, Germany (max 2 replications)\n",
    "        NYC1 - New York City, USA (max 2 replications)\n",
    "        \"\"\"\n",
    "        \n",
    "        base_url = \"https://api.pinata.cloud/pinning/userPinPolicy\"\n",
    "\n",
    "        header = {\n",
    "                  \"pinata_api_key\":cred[\"API Key\"],\n",
    "                    \"pinata_secret_api_key\":cred[\"API Secret\"]\n",
    "                  }\n",
    "        \n",
    "        data = {\n",
    "                \"newPinPolicy\": {\n",
    "                    \"regions\": [\n",
    "                        {\n",
    "                            \"id\": region,\n",
    "                            \"desiredReplicationCount\": replications\n",
    "                        },\n",
    "                    ]\n",
    "                }\n",
    "            }\n",
    "        \n",
    "        \n",
    "        response = requests.put(base_url, headers=header,data=data)\n",
    "\n",
    "        return response.json(),response.status_code\n",
    "    \n",
    "    \n",
    "    def get_pinned_jobs(self,cred,params):\n",
    "        \n",
    "        \"\"\"\n",
    "        \"sort\" - Sort the results by the date added to the pinning queue (see value options below)\n",
    "        \"ASC\" - Sort by ascending dates\n",
    "        \"DESC\" - Sort by descending dates\n",
    "        \"status\" - Filter by the status of the job in the pinning queue (see potential statuses below)\n",
    "        \"prechecking\" - Pinata is running preliminary validations on your pin request.\n",
    "        \"searching\" - Pinata is actively searching for your content on the IPFS network. This may take some time if your content is isolated.\n",
    "        \"retrieving\" - Pinata has located your content and is now in the process of retrieving it.\n",
    "        \"expired\" - Pinata wasn't able to find your content after a day of searching the IPFS network. Please make sure your content is hosted on the IPFS network before trying to pin again.\n",
    "        \"over_free_limit\" - Pinning this object would put you over the free tier limit. Please add a credit card to continue pinning content.\n",
    "        \"over_max_size\" - This object is too large of an item to pin. If you're seeing this, please contact us for a more custom solution.\n",
    "        \"invalid_object\" - The object you're attempting to pin isn't readable by IPFS nodes. Please contact us if you receive this, as we'd like to better understand what you're attempting to pin.\n",
    "        \"bad_host_node\" - You provided a host node that was either invalid or unreachable. Please make sure all provided host nodes are online and reachable.\n",
    "        \"ipfs_pin_hash\" - Retrieve the record for a specific IPFS hash\n",
    "        \"limit\" - Limit the amount of results returned per page of results (default is 5, and max is 1000)\n",
    "        \"offset\" - Provide the record offset for records being returned. This is how you retrieve records on additional pages (default is 0)\n",
    "        \"\"\"\n",
    "        \n",
    "        base_url = \"https://api.pinata.cloud/pinning/pinJobs/\"\n",
    "        \n",
    "        header = {\n",
    "                  \"pinata_api_key\":cred[\"API Key\"],\n",
    "                    \"pinata_secret_api_key\":cred[\"API Secret\"]\n",
    "                  }\n",
    "        \n",
    "        \n",
    "        response = requests.get(base_url, headers=header,params=params)\n",
    "\n",
    "        return response.json(),response.status_code\n",
    "        \n",
    "    \n",
    "    def get_pinned_files(self,cred,params):\n",
    "        \n",
    "        \"\"\"\n",
    "        Query Parameters = params\n",
    "        \n",
    "        hashContains: (string) - Filter on alphanumeric characters inside of pin hashes. Hashes which do not include the characters passed in will not be returned.\n",
    "\n",
    "        pinStart: (must be in ISO_8601 format) - Exclude pin records that were pinned before the passed in \"pinStart\" datetime.\n",
    "\n",
    "        pinEnd: (must be in ISO_8601 format) - Exclude pin records that were pinned after the passed in \"pinEnd\" datetime.\n",
    "\n",
    "        unpinStart: (must be in ISO_8601 format) - Exclude pin records that were unpinned before the passed in \"unpinStart\" datetime.\n",
    "\n",
    "        unpinEnd: (must be in ISO_8601 format) - Exclude pin records that were unpinned after the passed in \"unpinEnd\" datetime.\n",
    "\n",
    "        pinSizeMin: (integer) - The minimum byte size that pin record you're looking for can have\n",
    "\n",
    "        pinSizeMax: (integer) - The maximum byte size that pin record you're looking for can have\n",
    "\n",
    "        status: (string) -\n",
    "            * Pass in \"all\" for both pinned and unpinned records\n",
    "            * Pass in \"pinned\" for just pinned records (hashes that are currently pinned)\n",
    "            * Pass in \"unpinned\" for just unpinned records (previous hashes that are no longer being pinned on pinata)\n",
    "\n",
    "        pageLimit: (integer) - This sets the amount of records that will be returned per API response. (Max 1000)\n",
    "\n",
    "        pageOffset: (integer) - This tells the API how far to offset the record responses. For example, \n",
    "        if there's 30 records that match your query, and you passed in a pageLimit of 10, providing a pageOffset of 10 would return records 11-20.\n",
    "        \"\"\"\n",
    "        \n",
    "        base_url = \"https://api.pinata.cloud/data/pinList?\"\n",
    "        \n",
    "        header = {\n",
    "                  \"pinata_api_key\":cred[\"API Key\"],\n",
    "                    \"pinata_secret_api_key\":cred[\"API Secret\"]\n",
    "                  }\n",
    "        \n",
    "        \n",
    "        response = requests.get(base_url, headers=header,params=params)\n",
    "\n",
    "        return response.json(),response.status_code\n",
    "    \n",
    "    \n",
    "    def get_datausage(self,cred):\n",
    "                \n",
    "        header = {\n",
    "                  \"pinata_api_key\":cred[\"API Key\"],\n",
    "                    \"pinata_secret_api_key\":cred[\"API Secret\"]\n",
    "                  }\n",
    "        \n",
    "        base_url = \"https://api.pinata.cloud/data/userPinnedDataTotal\"\n",
    "        \n",
    "        \n",
    "        response = requests.get(base_url, headers=header,params=params)\n",
    "\n",
    "        return response.json(),response.status_code\n",
    "\n",
    "        \n",
    "        "
   ]
  },
  {
   "cell_type": "code",
   "execution_count": 96,
   "id": "69826175-5a34-44f9-832f-2f950e764f7e",
   "metadata": {},
   "outputs": [],
   "source": [
    "pinata = PinataV1()"
   ]
  },
  {
   "cell_type": "code",
   "execution_count": 97,
   "id": "bcc097d4-cc54-489c-90c6-a4479cfdd7cf",
   "metadata": {},
   "outputs": [],
   "source": [
    "cred = pinata.get_creds()"
   ]
  },
  {
   "cell_type": "code",
   "execution_count": 84,
   "id": "a739dfb8-54b4-4c68-9a92-b85811486630",
   "metadata": {},
   "outputs": [
    {
     "data": {
      "text/plain": [
       "({'IpfsHash': 'QmRxu3HoofyTntXhCSXBv98tPDWLdgNee32Z1nMQcCbxU7',\n",
       "  'PinSize': 1640,\n",
       "  'Timestamp': '2022-03-11T20:21:21.515Z'},\n",
       " 200)"
      ]
     },
     "execution_count": 84,
     "metadata": {},
     "output_type": "execute_result"
    }
   ],
   "source": [
    "pinata.upload_file(\"storage/ipfs.py\",cred)"
   ]
  },
  {
   "cell_type": "code",
   "execution_count": 87,
   "id": "359e04fe-9ad4-413d-a09a-7c19919fca46",
   "metadata": {},
   "outputs": [
    {
     "data": {
      "text/plain": [
       "({'id': 'dca644fe-7a6f-4d21-b203-8dba54e7060f',\n",
       "  'ipfsHash': 'QmRxu3HoofyTntXhCSXBv98tPDWLdgNee32Z1nMQcCbxU7',\n",
       "  'status': 'prechecking',\n",
       "  'name': 'test1.py'},\n",
       " 200)"
      ]
     },
     "execution_count": 87,
     "metadata": {},
     "output_type": "execute_result"
    }
   ],
   "source": [
    "pinata.pin(\"test1.py\",\"QmRxu3HoofyTntXhCSXBv98tPDWLdgNee32Z1nMQcCbxU7\",cred)"
   ]
  },
  {
   "cell_type": "code",
   "execution_count": 76,
   "id": "452236e5-5088-4c35-bba7-8a5ab5fbe12f",
   "metadata": {},
   "outputs": [
    {
     "data": {
      "text/plain": [
       "({'error': {'reason': 'INVALID_ROUTE',\n",
       "   'details': 'The provided route does not match a valid Pinata endpoint'}},\n",
       " 404)"
      ]
     },
     "execution_count": 76,
     "metadata": {},
     "output_type": "execute_result"
    }
   ],
   "source": [
    "pinata.unpin(\"bafybeif36uqfqj5on23qfdl3nglc7ncgcbnz4ixpleomskg7pqn3xmlgfi\",cred)"
   ]
  },
  {
   "cell_type": "code",
   "execution_count": 78,
   "id": "d734e0df-009e-4b60-8d15-d0cd35986264",
   "metadata": {},
   "outputs": [
    {
     "data": {
      "text/plain": [
       "200"
      ]
     },
     "execution_count": 78,
     "metadata": {},
     "output_type": "execute_result"
    }
   ],
   "source": [
    "pinata.edit_hash(\"test.py\",\"bafybeif36uqfqj5on23qfdl3nglc7ncgcbnz4ixpleomskg7pqn3xmlgfi\",cred)"
   ]
  },
  {
   "cell_type": "code",
   "execution_count": 79,
   "id": "0653634d-82a5-42c1-914b-3b382c8b38e4",
   "metadata": {},
   "outputs": [
    {
     "ename": "NameError",
     "evalue": "name 'ipfs' is not defined",
     "output_type": "error",
     "traceback": [
      "\u001b[0;31m---------------------------------------------------------------------------\u001b[0m",
      "\u001b[0;31mNameError\u001b[0m                                 Traceback (most recent call last)",
      "\u001b[0;32m/var/folders/bw/949q2z111js28qksbjv6ww_m0000gn/T/ipykernel_1874/2700115187.py\u001b[0m in \u001b[0;36m<module>\u001b[0;34m\u001b[0m\n\u001b[0;32m----> 1\u001b[0;31m \u001b[0mf_name\u001b[0m \u001b[0;34m=\u001b[0m \u001b[0mipfs\u001b[0m\u001b[0;34m.\u001b[0m\u001b[0mget_file\u001b[0m\u001b[0;34m(\u001b[0m\u001b[0;34m\"QmZ8bNMNXodiWRJDvDHNCAE1EsnbaiTZaQJafm2pSTYBFh\"\u001b[0m\u001b[0;34m,\u001b[0m\u001b[0mlocal_node\u001b[0m\u001b[0;34m=\u001b[0m\u001b[0;32mFalse\u001b[0m\u001b[0;34m)\u001b[0m\u001b[0;34m\u001b[0m\u001b[0;34m\u001b[0m\u001b[0m\n\u001b[0m\u001b[1;32m      2\u001b[0m \u001b[0;34m\u001b[0m\u001b[0m\n\u001b[1;32m      3\u001b[0m \u001b[0mread_file\u001b[0m\u001b[0;34m(\u001b[0m\u001b[0mf_name\u001b[0m\u001b[0;34m.\u001b[0m\u001b[0mcontent\u001b[0m\u001b[0;34m)\u001b[0m\u001b[0;34m\u001b[0m\u001b[0;34m\u001b[0m\u001b[0m\n",
      "\u001b[0;31mNameError\u001b[0m: name 'ipfs' is not defined"
     ]
    }
   ],
   "source": [
    "f_name = ipfs.get_file(\"QmZ8bNMNXodiWRJDvDHNCAE1EsnbaiTZaQJafm2pSTYBFh\",local_node=False)\n",
    "\n",
    "read_file(f_name.content)"
   ]
  },
  {
   "cell_type": "code",
   "execution_count": 80,
   "id": "f3c954b3-4d63-48f3-b449-5ae7f9e90b7d",
   "metadata": {},
   "outputs": [
    {
     "data": {
      "text/plain": [
       "({'error': 'Pin policy is invalid. Please provide a valid pin policy',\n",
       "  'message': 'Corrupted pin policy'},\n",
       " 400)"
      ]
     },
     "execution_count": 80,
     "metadata": {},
     "output_type": "execute_result"
    }
   ],
   "source": [
    "pinata.pin_policy(\"bafybeif36uqfqj5on23qfdl3nglc7ncgcbnz4ixpleomskg7pqn3xmlgfi\",cred,region=\"FRA1\",replications=1)"
   ]
  },
  {
   "cell_type": "code",
   "execution_count": 81,
   "id": "f97a06d3-effd-44a6-94b2-baf6a4823fc7",
   "metadata": {},
   "outputs": [
    {
     "data": {
      "text/plain": [
       "({'error': {'reason': 'NOT_PERMITTED',\n",
       "   'details': 'API key does not have required permissions for this endpoint'}},\n",
       " 403)"
      ]
     },
     "execution_count": 81,
     "metadata": {},
     "output_type": "execute_result"
    }
   ],
   "source": [
    "pinata.globalpin_policy(cred,region=\"FRA1\",replications=1)"
   ]
  },
  {
   "cell_type": "markdown",
   "id": "7d96f948-251c-4677-a527-0db88fc09b0e",
   "metadata": {
    "tags": []
   },
   "source": [
    "## Request Files"
   ]
  },
  {
   "cell_type": "code",
   "execution_count": 85,
   "id": "76af2563-15a7-4356-8896-70347db710a7",
   "metadata": {},
   "outputs": [
    {
     "data": {
      "text/html": [
       "<div>\n",
       "<style scoped>\n",
       "    .dataframe tbody tr th:only-of-type {\n",
       "        vertical-align: middle;\n",
       "    }\n",
       "\n",
       "    .dataframe tbody tr th {\n",
       "        vertical-align: top;\n",
       "    }\n",
       "\n",
       "    .dataframe thead th {\n",
       "        text-align: right;\n",
       "    }\n",
       "</style>\n",
       "<table border=\"1\" class=\"dataframe\">\n",
       "  <thead>\n",
       "    <tr style=\"text-align: right;\">\n",
       "      <th></th>\n",
       "      <th>id</th>\n",
       "      <th>ipfs_pin_hash</th>\n",
       "      <th>size</th>\n",
       "      <th>user_id</th>\n",
       "      <th>date_pinned</th>\n",
       "      <th>date_unpinned</th>\n",
       "      <th>metadata</th>\n",
       "      <th>regions</th>\n",
       "    </tr>\n",
       "  </thead>\n",
       "  <tbody>\n",
       "    <tr>\n",
       "      <th>0</th>\n",
       "      <td>a4f39d27-00b9-4092-83e6-3a4d9d9e202d</td>\n",
       "      <td>QmRxu3HoofyTntXhCSXBv98tPDWLdgNee32Z1nMQcCbxU7</td>\n",
       "      <td>1640</td>\n",
       "      <td>d28f20cf-dfe0-4c8f-9272-26b9c2d8a3cd</td>\n",
       "      <td>2022-03-11T20:21:21.515Z</td>\n",
       "      <td>None</td>\n",
       "      <td>{'name': 'storage', 'keyvalues': None}</td>\n",
       "      <td>[{'regionId': 'NYC1', 'currentReplicationCount...</td>\n",
       "    </tr>\n",
       "    <tr>\n",
       "      <th>1</th>\n",
       "      <td>926f2e41-2420-4535-82c9-14e9f244a435</td>\n",
       "      <td>QmRE9W9efQjWgb9rABf4gU2SG48aabfvApUYJJBFE1BSzP</td>\n",
       "      <td>2350</td>\n",
       "      <td>d28f20cf-dfe0-4c8f-9272-26b9c2d8a3cd</td>\n",
       "      <td>2022-03-11T20:20:00.213Z</td>\n",
       "      <td>None</td>\n",
       "      <td>{'name': 'storage', 'keyvalues': None}</td>\n",
       "      <td>[{'regionId': 'NYC1', 'currentReplicationCount...</td>\n",
       "    </tr>\n",
       "    <tr>\n",
       "      <th>2</th>\n",
       "      <td>721300ed-fd44-43ef-87a4-9ed2c3c3e2b9</td>\n",
       "      <td>bafybeif36uqfqj5on23qfdl3nglc7ncgcbnz4ixpleoms...</td>\n",
       "      <td>2086898</td>\n",
       "      <td>d28f20cf-dfe0-4c8f-9272-26b9c2d8a3cd</td>\n",
       "      <td>2022-03-11T02:14:04.863Z</td>\n",
       "      <td>None</td>\n",
       "      <td>{'name': 'test.py', 'keyvalues': {'0': 'newKey...</td>\n",
       "      <td>[{'regionId': 'NYC1', 'currentReplicationCount...</td>\n",
       "    </tr>\n",
       "    <tr>\n",
       "      <th>3</th>\n",
       "      <td>3a79ae10-7392-4f0f-bafc-70543bdd6ada</td>\n",
       "      <td>QmWvvVY9meNZ6b6UXr8Vy7J2Z4eSS4YpPJ5nyrgfd7ZFMP</td>\n",
       "      <td>2290</td>\n",
       "      <td>d28f20cf-dfe0-4c8f-9272-26b9c2d8a3cd</td>\n",
       "      <td>2022-03-10T16:49:18.236Z</td>\n",
       "      <td>None</td>\n",
       "      <td>{'name': 'happy.py', 'keyvalues': {'0': 'newKe...</td>\n",
       "      <td>[{'regionId': 'NYC1', 'currentReplicationCount...</td>\n",
       "    </tr>\n",
       "    <tr>\n",
       "      <th>4</th>\n",
       "      <td>147797ca-a95a-4be0-8acd-5242d31cfe8f</td>\n",
       "      <td>QmZ8bNMNXodiWRJDvDHNCAE1EsnbaiTZaQJafm2pSTYBFh</td>\n",
       "      <td>9887</td>\n",
       "      <td>d28f20cf-dfe0-4c8f-9272-26b9c2d8a3cd</td>\n",
       "      <td>2022-03-10T15:57:40.831Z</td>\n",
       "      <td>None</td>\n",
       "      <td>{'name': 'All_Gateway_Properties.csv', 'keyval...</td>\n",
       "      <td>[{'regionId': 'NYC1', 'currentReplicationCount...</td>\n",
       "    </tr>\n",
       "  </tbody>\n",
       "</table>\n",
       "</div>"
      ],
      "text/plain": [
       "                                     id  \\\n",
       "0  a4f39d27-00b9-4092-83e6-3a4d9d9e202d   \n",
       "1  926f2e41-2420-4535-82c9-14e9f244a435   \n",
       "2  721300ed-fd44-43ef-87a4-9ed2c3c3e2b9   \n",
       "3  3a79ae10-7392-4f0f-bafc-70543bdd6ada   \n",
       "4  147797ca-a95a-4be0-8acd-5242d31cfe8f   \n",
       "\n",
       "                                       ipfs_pin_hash     size  \\\n",
       "0     QmRxu3HoofyTntXhCSXBv98tPDWLdgNee32Z1nMQcCbxU7     1640   \n",
       "1     QmRE9W9efQjWgb9rABf4gU2SG48aabfvApUYJJBFE1BSzP     2350   \n",
       "2  bafybeif36uqfqj5on23qfdl3nglc7ncgcbnz4ixpleoms...  2086898   \n",
       "3     QmWvvVY9meNZ6b6UXr8Vy7J2Z4eSS4YpPJ5nyrgfd7ZFMP     2290   \n",
       "4     QmZ8bNMNXodiWRJDvDHNCAE1EsnbaiTZaQJafm2pSTYBFh     9887   \n",
       "\n",
       "                                user_id               date_pinned  \\\n",
       "0  d28f20cf-dfe0-4c8f-9272-26b9c2d8a3cd  2022-03-11T20:21:21.515Z   \n",
       "1  d28f20cf-dfe0-4c8f-9272-26b9c2d8a3cd  2022-03-11T20:20:00.213Z   \n",
       "2  d28f20cf-dfe0-4c8f-9272-26b9c2d8a3cd  2022-03-11T02:14:04.863Z   \n",
       "3  d28f20cf-dfe0-4c8f-9272-26b9c2d8a3cd  2022-03-10T16:49:18.236Z   \n",
       "4  d28f20cf-dfe0-4c8f-9272-26b9c2d8a3cd  2022-03-10T15:57:40.831Z   \n",
       "\n",
       "  date_unpinned                                           metadata  \\\n",
       "0          None             {'name': 'storage', 'keyvalues': None}   \n",
       "1          None             {'name': 'storage', 'keyvalues': None}   \n",
       "2          None  {'name': 'test.py', 'keyvalues': {'0': 'newKey...   \n",
       "3          None  {'name': 'happy.py', 'keyvalues': {'0': 'newKe...   \n",
       "4          None  {'name': 'All_Gateway_Properties.csv', 'keyval...   \n",
       "\n",
       "                                             regions  \n",
       "0  [{'regionId': 'NYC1', 'currentReplicationCount...  \n",
       "1  [{'regionId': 'NYC1', 'currentReplicationCount...  \n",
       "2  [{'regionId': 'NYC1', 'currentReplicationCount...  \n",
       "3  [{'regionId': 'NYC1', 'currentReplicationCount...  \n",
       "4  [{'regionId': 'NYC1', 'currentReplicationCount...  "
      ]
     },
     "execution_count": 85,
     "metadata": {},
     "output_type": "execute_result"
    }
   ],
   "source": [
    "import pandas as pd\n",
    "params = {\"status\":\"pinned\",\"hashContains\":None,\"pinStart\":None,\n",
    "          \"pinEnd\":None, \"unpinStart\":None,\"unpinEnd\":None,\n",
    "         \"pinSizeMin\":None,\"pinSizeMax\":None,\"pageLimit\":None,\n",
    "          \"pageOffset\":None,\n",
    "         }\n",
    "\n",
    "pf,status = pinata.get_pinned_files(cred,params)\n",
    "pd.DataFrame(pf[\"rows\"])"
   ]
  },
  {
   "cell_type": "markdown",
   "id": "77dbea05-d398-47b5-8e2e-ea7c1743bb54",
   "metadata": {
    "tags": []
   },
   "source": [
    "## Requesting Pin Jobs"
   ]
  },
  {
   "cell_type": "code",
   "execution_count": 89,
   "id": "214b10d8-12c1-4095-a89b-d7b4282ea3db",
   "metadata": {},
   "outputs": [
    {
     "data": {
      "text/plain": [
       "{'count': 0, 'rows': []}"
      ]
     },
     "execution_count": 89,
     "metadata": {},
     "output_type": "execute_result"
    }
   ],
   "source": [
    "import pandas as pd\n",
    "\n",
    "\"\"\"\n",
    "\"sort\" - Sort the results by the date added to the pinning queue (see value options below)\n",
    "\"ASC\" - Sort by ascending dates\n",
    "\"DESC\" - Sort by descending dates\n",
    "\"status\" - Filter by the status of the job in the pinning queue (see potential statuses below)\n",
    "\"prechecking\" - Pinata is running preliminary validations on your pin request.\n",
    "\"searching\" - Pinata is actively searching for your content on the IPFS network. This may take some time if your content is isolated.\n",
    "\"retrieving\" - Pinata has located your content and is now in the process of retrieving it.\n",
    "\"expired\" - Pinata wasn't able to find your content after a day of searching the IPFS network. Please make sure your content is hosted on the IPFS network before trying to pin again.\n",
    "\"over_free_limit\" - Pinning this object would put you over the free tier limit. Please add a credit card to continue pinning content.\n",
    "\"over_max_size\" - This object is too large of an item to pin. If you're seeing this, please contact us for a more custom solution.\n",
    "\"invalid_object\" - The object you're attempting to pin isn't readable by IPFS nodes. Please contact us if you receive this, as we'd like to better understand what you're attempting to pin.\n",
    "\"bad_host_node\" - You provided a host node that was either invalid or unreachable. Please make sure all provided host nodes are online and reachable.\n",
    "\"ipfs_pin_hash\" - Retrieve the record for a specific IPFS hash\n",
    "\"limit\" - Limit the amount of results returned per page of results (default is 5, and max is 1000)\n",
    "\"offset\" - Provide the record offset for records being returned. This is how you retrieve records on additional pages (default is 0)\n",
    "\"\"\"\n",
    "params = {\"sort\":\"DESC\",\"status\":None,\"prechecking\":None,\n",
    "          \"searching\":None,\"retrieving\":None,\n",
    "          \"expired\":None,\"over_free_limit\":None,\n",
    "          \"over_max_size\":None,\"invalid_object\":None,\n",
    "          \"bad_host_node\":None,\"ipfs_pin_hash\":None,\n",
    "          \"limit\":None,\"offset\":None\n",
    "         }\n",
    "\n",
    "pf,status = pinata.get_pinned_jobs(cred,params)\n",
    "pf"
   ]
  },
  {
   "cell_type": "code",
   "execution_count": 98,
   "id": "803da7a1-fddc-4dac-ab84-81d25e5e2192",
   "metadata": {},
   "outputs": [
    {
     "data": {
      "text/plain": [
       "({'pin_count': 5,\n",
       "  'pin_size_total': '2103065',\n",
       "  'pin_size_with_replications_total': '2103065'},\n",
       " 200)"
      ]
     },
     "execution_count": 98,
     "metadata": {},
     "output_type": "execute_result"
    }
   ],
   "source": [
    "pinata.get_datausage(cred)"
   ]
  },
  {
   "cell_type": "code",
   "execution_count": 104,
   "id": "1f58ab73-4267-4795-88e3-6b58296b962e",
   "metadata": {},
   "outputs": [
    {
     "data": {
      "text/plain": [
       "2.103065"
      ]
     },
     "execution_count": 104,
     "metadata": {},
     "output_type": "execute_result"
    }
   ],
   "source": [
    "#convert bytes to MB\n",
    "\n",
    "2103065 * 10**-6"
   ]
  },
  {
   "cell_type": "code",
   "execution_count": null,
   "id": "282293d8-f159-4161-ac61-fe466d244f88",
   "metadata": {},
   "outputs": [],
   "source": []
  }
 ],
 "metadata": {
  "kernelspec": {
   "display_name": "Python 3 (ipykernel)",
   "language": "python",
   "name": "python3"
  },
  "language_info": {
   "codemirror_mode": {
    "name": "ipython",
    "version": 3
   },
   "file_extension": ".py",
   "mimetype": "text/x-python",
   "name": "python",
   "nbconvert_exporter": "python",
   "pygments_lexer": "ipython3",
   "version": "3.9.7"
  }
 },
 "nbformat": 4,
 "nbformat_minor": 5
}
