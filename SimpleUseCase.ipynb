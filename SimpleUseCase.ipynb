{
 "cells": [
  {
   "cell_type": "code",
   "execution_count": 1,
   "id": "7385fde8-48f0-4016-be2c-54e3535e6bd7",
   "metadata": {},
   "outputs": [],
   "source": [
    "#main protocol\n",
    "from storage.ipfs import IPFS\n",
    "\n",
    "#pinning providers\n",
    "from storage.nftstorage import NFTStorage\n",
    "from storage.pinataV1 import PinataV1\n",
    "\n",
    "\n",
    "#helpers\n",
    "from helpers.helper import read_file\n",
    "import pandas as pd"
   ]
  },
  {
   "cell_type": "code",
   "execution_count": 19,
   "id": "b709d22e-973a-49c4-aff4-eaa557008a9e",
   "metadata": {},
   "outputs": [],
   "source": [
    "#Load in credentials - Not an optimal solution and can investigate a better solution with something like Lit Protocol\n",
    "\n",
    "nft_storage = NFTStorage()\n",
    "nft_storage_creds = nft_storage.get_creds()\n",
    "ipfs = IPFS()\n",
    "pinata = PinataV1()\n",
    "pinata_creds = pinata.get_creds()"
   ]
  },
  {
   "cell_type": "markdown",
   "id": "1821aaa2-ef70-4a24-96e6-1b9b61a346dc",
   "metadata": {},
   "source": [
    "# Able to take a standard file/directory/dataset and put it on IPFS purely through python"
   ]
  },
  {
   "cell_type": "code",
   "execution_count": 4,
   "id": "ade1297e-ce83-4ffc-9117-700113a50092",
   "metadata": {},
   "outputs": [],
   "source": [
    "#Able to take a standard file/directory/dataset and put it on IPFS purely through python and use one of the pinning services (eg Pinata)"
   ]
  },
  {
   "cell_type": "code",
   "execution_count": 11,
   "id": "ec62ab74-3953-4a67-9979-1bb6cf274806",
   "metadata": {},
   "outputs": [
    {
     "name": "stdout",
     "output_type": "stream",
     "text": [
      "Help on method upload_file in module storage.pinataV1:\n",
      "\n",
      "upload_file(cred, path, fn, pinataMetadata={}) method of storage.pinataV1.PinataV1 instance\n",
      "\n"
     ]
    }
   ],
   "source": [
    "help(pinata.upload_file)"
   ]
  },
  {
   "cell_type": "code",
   "execution_count": 15,
   "id": "e3f05313-965c-4812-833d-301458085f69",
   "metadata": {},
   "outputs": [
    {
     "data": {
      "text/plain": [
       "({'IpfsHash': 'QmWAQjxm6CKaAjHjwPSqWmN8RMecuHS1bxEufqCNVSq96e',\n",
       "  'PinSize': 5985301,\n",
       "  'Timestamp': '2022-03-29T17:28:48.909Z',\n",
       "  'isDuplicate': True},\n",
       " 200)"
      ]
     },
     "execution_count": 15,
     "metadata": {},
     "output_type": "execute_result"
    }
   ],
   "source": [
    "pinata.upload_file(pinata_creds,\"dataset/compound.csv\",\"compound.csv\",pinataMetadata={\"DAO\":\"DeepDefi\"})"
   ]
  },
  {
   "cell_type": "code",
   "execution_count": 16,
   "id": "fad1f2a7-88fc-4e6c-a6ee-4b2826a01821",
   "metadata": {},
   "outputs": [
    {
     "name": "stdout",
     "output_type": "stream",
     "text": [
      "Help on method upload_file in module storage.nftstorage:\n",
      "\n",
      "upload_file(cred, fn) method of storage.nftstorage.NFTStorage instance\n",
      "\n"
     ]
    }
   ],
   "source": [
    "help(nft_storage.upload_file)"
   ]
  },
  {
   "cell_type": "code",
   "execution_count": 21,
   "id": "b02d4dea-4ae8-4656-8e9e-f96aa7ec09e4",
   "metadata": {},
   "outputs": [
    {
     "data": {
      "text/plain": [
       "({'ok': True,\n",
       "  'value': {'cid': 'bafybeie4yihf42kahspmhqkmovpxt2iliqqikbriwsglb6reujvzsnp5ke',\n",
       "   'created': '2022-03-22T16:39:29.612+00:00',\n",
       "   'type': 'form-data',\n",
       "   'scope': 'audiocentive',\n",
       "   'files': [],\n",
       "   'size': 5985025,\n",
       "   'name': 'Upload at 2022-05-17T18:44:57.682Z',\n",
       "   'pin': {'cid': 'bafybeie4yihf42kahspmhqkmovpxt2iliqqikbriwsglb6reujvzsnp5ke',\n",
       "    'created': '2022-03-22T16:39:29.612+00:00',\n",
       "    'size': 5985025,\n",
       "    'status': 'pinned'},\n",
       "   'deals': [{'status': 'active',\n",
       "     'lastChanged': '2022-03-22T20:07:34.079473+00:00',\n",
       "     'chainDealID': 4773994,\n",
       "     'datamodelSelector': 'Links/128/Hash/Links/2/Hash/Links/0/Hash',\n",
       "     'statusText': 'containing sector active as of 2022-03-23 01:42:30 at epoch 1656445',\n",
       "     'dealActivation': '2022-03-24T04:12:30+00:00',\n",
       "     'dealExpiration': '2023-08-16T04:12:30+00:00',\n",
       "     'miner': 'f010446',\n",
       "     'pieceCid': 'baga6ea4seaqalwflqmv7tzz6tfyp463iuvfsxmjfikzp2lmig576ojwjliiw4gy',\n",
       "     'batchRootCid': 'bafybeidf7wexllianrxbvq326ql3t42x5uvhqwnjdpumph4td23e4hwkmm'},\n",
       "    {'status': 'active',\n",
       "     'lastChanged': '2022-03-22T20:27:01.689594+00:00',\n",
       "     'chainDealID': 4774537,\n",
       "     'datamodelSelector': 'Links/128/Hash/Links/2/Hash/Links/0/Hash',\n",
       "     'statusText': 'containing sector active as of 2022-03-23 01:22:00 at epoch 1656404',\n",
       "     'dealActivation': '2022-03-23T05:13:00+00:00',\n",
       "     'dealExpiration': '2023-08-15T05:13:00+00:00',\n",
       "     'miner': 'f01345523',\n",
       "     'pieceCid': 'baga6ea4seaqalwflqmv7tzz6tfyp463iuvfsxmjfikzp2lmig576ojwjliiw4gy',\n",
       "     'batchRootCid': 'bafybeidf7wexllianrxbvq326ql3t42x5uvhqwnjdpumph4td23e4hwkmm'},\n",
       "    {'status': 'active',\n",
       "     'lastChanged': '2022-03-22T21:17:45.741429+00:00',\n",
       "     'chainDealID': 4775851,\n",
       "     'datamodelSelector': 'Links/128/Hash/Links/2/Hash/Links/0/Hash',\n",
       "     'statusText': 'containing sector active as of 2022-03-23 02:40:00 at epoch 1656560',\n",
       "     'dealActivation': '2022-03-23T13:07:30+00:00',\n",
       "     'dealExpiration': '2023-08-15T13:07:30+00:00',\n",
       "     'miner': 'f032824',\n",
       "     'pieceCid': 'baga6ea4seaqalwflqmv7tzz6tfyp463iuvfsxmjfikzp2lmig576ojwjliiw4gy',\n",
       "     'batchRootCid': 'bafybeidf7wexllianrxbvq326ql3t42x5uvhqwnjdpumph4td23e4hwkmm'}]}},\n",
       " 200)"
      ]
     },
     "execution_count": 21,
     "metadata": {},
     "output_type": "execute_result"
    }
   ],
   "source": [
    "#Able to take a standard file/directory/dataset and put it on IPFS purely through python and use one of the long-term storage (eg Estuary)\n",
    "\n",
    "nft_storage.upload_file(nft_storage_creds,\"dataset/compound.csv\")"
   ]
  },
  {
   "cell_type": "code",
   "execution_count": 6,
   "id": "2900635f-2ac6-4a7a-83da-fdd6c2f1998b",
   "metadata": {},
   "outputs": [],
   "source": [
    "#Able to locate a file/directory/dataset on the public/private gateway/pinning services/long-term storage and pull/download through python\n"
   ]
  },
  {
   "cell_type": "code",
   "execution_count": 8,
   "id": "2fe6759f-9857-494f-9bc1-fc343928c392",
   "metadata": {},
   "outputs": [],
   "source": [
    "#Able to add a dataset to a discovery platform"
   ]
  },
  {
   "cell_type": "code",
   "execution_count": 9,
   "id": "223454a2-c7de-479d-8806-2c661dd9a9f8",
   "metadata": {},
   "outputs": [],
   "source": [
    "#Able to build a discovery platform (?)"
   ]
  },
  {
   "cell_type": "code",
   "execution_count": 7,
   "id": "4879c80b-ef7d-4151-a910-c19dd585bed7",
   "metadata": {},
   "outputs": [],
   "source": [
    "#Able to add identified access control (eg ocean or other encryption/decryption) and able to do (a) - (d)"
   ]
  },
  {
   "cell_type": "code",
   "execution_count": null,
   "id": "8ab2755e-becb-4426-ac08-af02586f48af",
   "metadata": {},
   "outputs": [],
   "source": []
  }
 ],
 "metadata": {
  "kernelspec": {
   "display_name": "Python 3 (ipykernel)",
   "language": "python",
   "name": "python3"
  },
  "language_info": {
   "codemirror_mode": {
    "name": "ipython",
    "version": 3
   },
   "file_extension": ".py",
   "mimetype": "text/x-python",
   "name": "python",
   "nbconvert_exporter": "python",
   "pygments_lexer": "ipython3",
   "version": "3.9.7"
  }
 },
 "nbformat": 4,
 "nbformat_minor": 5
}
