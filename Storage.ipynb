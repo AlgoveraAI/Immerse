{
 "cells": [
  {
   "cell_type": "markdown",
   "id": "0cc5783d-a497-4eba-af23-cf8f5acfe407",
   "metadata": {
    "tags": []
   },
   "source": [
    "# Goal Build all pinning services into more abstract API to upload and download dataset\n",
    "\n",
    "* NFT Storage\n",
    "* Pinata\n",
    "* Estuary"
   ]
  },
  {
   "cell_type": "code",
   "execution_count": 1,
   "id": "2293e361-f924-42ca-8668-48061f01d604",
   "metadata": {},
   "outputs": [],
   "source": [
    "import pandas as pd"
   ]
  },
  {
   "cell_type": "markdown",
   "id": "4df9818b-8d61-4b56-89bc-cb84d0f9a50c",
   "metadata": {
    "tags": []
   },
   "source": [
    "## NFT Storage"
   ]
  },
  {
   "cell_type": "code",
   "execution_count": 1,
   "id": "2fe33573-b35c-41d9-a319-d177a7522b66",
   "metadata": {},
   "outputs": [],
   "source": [
    "from storage.nftstorage import NFTStorage"
   ]
  },
  {
   "cell_type": "code",
   "execution_count": 2,
   "id": "dbd4769f-7d40-465b-b1c3-1b7ae23e049d",
   "metadata": {},
   "outputs": [],
   "source": [
    "nft_storage = NFTStorage()"
   ]
  },
  {
   "cell_type": "code",
   "execution_count": 3,
   "id": "8c60fdc2-94b7-46b2-8f1b-000c536af493",
   "metadata": {},
   "outputs": [],
   "source": [
    "cred = nft_storage.get_creds()"
   ]
  },
  {
   "cell_type": "code",
   "execution_count": 6,
   "id": "be8fadf4-8cd7-4429-9c9a-49d06b4363c9",
   "metadata": {},
   "outputs": [],
   "source": [
    "response,status = nft_storage.upload_file(\"dataset/sample/ens_airdrop.json\",cred)"
   ]
  },
  {
   "cell_type": "code",
   "execution_count": 7,
   "id": "edcb9662-0fbb-42d1-b509-19c3fccf9d6e",
   "metadata": {},
   "outputs": [],
   "source": [
    "check_file = nft_storage.get_file(response[\"value\"][\"cid\"],cred)"
   ]
  },
  {
   "cell_type": "code",
   "execution_count": 9,
   "id": "c4dca054-7379-460c-87d0-b09e538419a1",
   "metadata": {},
   "outputs": [
    {
     "data": {
      "text/plain": [
       "<Response [202]>"
      ]
     },
     "execution_count": 9,
     "metadata": {},
     "output_type": "execute_result"
    }
   ],
   "source": [
    "nft_storage.unpin(\"bafybeie4yihf42kahspmhqkmovpxt2iliqqikbriwsglb6reujvzsnp5ke\",cred)"
   ]
  },
  {
   "cell_type": "markdown",
   "id": "7ba348ba-819d-4030-bde8-21189fd0486f",
   "metadata": {
    "tags": []
   },
   "source": [
    "# IPFS"
   ]
  },
  {
   "cell_type": "code",
   "execution_count": 1,
   "id": "885322ac-55e2-4d07-ab26-1cd37f978ffb",
   "metadata": {},
   "outputs": [],
   "source": [
    "from storage.ipfs import IPFS\n",
    "from storage.ipfs import read_file\n",
    "\n",
    "ipfs = IPFS()"
   ]
  },
  {
   "cell_type": "code",
   "execution_count": 2,
   "id": "37f26bdb-abc7-447d-9384-46298dc40230",
   "metadata": {},
   "outputs": [],
   "source": [
    "# w = ipfs.add(\"All_Gateway_Properties.csv\")\n",
    "\n",
    "# w.json()"
   ]
  },
  {
   "cell_type": "code",
   "execution_count": 17,
   "id": "85a3cacf-6d4c-4625-947b-116992ab6c03",
   "metadata": {},
   "outputs": [
    {
     "name": "stdout",
     "output_type": "stream",
     "text": [
      "Retrieved file hash QmWAQjxm6CKaAjHjwPSqWmN8RMecuHS1bxEufqCNVSq96e from https://infura-ipfs.io Response 504\n"
     ]
    }
   ],
   "source": [
    "f_name = ipfs.get_file(\"QmWAQjxm6CKaAjHjwPSqWmN8RMecuHS1bxEufqCNVSq96e\",local_node=False)"
   ]
  },
  {
   "cell_type": "code",
   "execution_count": 20,
   "id": "24dc2aa3-aaec-4f2c-96de-c6de80a65330",
   "metadata": {},
   "outputs": [],
   "source": [
    "response = f_name.content"
   ]
  },
  {
   "cell_type": "code",
   "execution_count": 21,
   "id": "4cefb884-ebd4-49ca-a440-4441f67da5db",
   "metadata": {},
   "outputs": [
    {
     "data": {
      "text/html": [
       "<div>\n",
       "<style scoped>\n",
       "    .dataframe tbody tr th:only-of-type {\n",
       "        vertical-align: middle;\n",
       "    }\n",
       "\n",
       "    .dataframe tbody tr th {\n",
       "        vertical-align: top;\n",
       "    }\n",
       "\n",
       "    .dataframe thead th {\n",
       "        text-align: right;\n",
       "    }\n",
       "</style>\n",
       "<table border=\"1\" class=\"dataframe\">\n",
       "  <thead>\n",
       "    <tr style=\"text-align: right;\">\n",
       "      <th></th>\n",
       "      <th>Gateway Timeout</th>\n",
       "    </tr>\n",
       "  </thead>\n",
       "  <tbody>\n",
       "  </tbody>\n",
       "</table>\n",
       "</div>"
      ],
      "text/plain": [
       "Empty DataFrame\n",
       "Columns: [Gateway Timeout]\n",
       "Index: []"
      ]
     },
     "execution_count": 21,
     "metadata": {},
     "output_type": "execute_result"
    }
   ],
   "source": [
    "read_file(response)"
   ]
  },
  {
   "cell_type": "code",
   "execution_count": 4,
   "id": "5cb45b5d-0b67-43d9-9386-5ef74082a43a",
   "metadata": {},
   "outputs": [],
   "source": [
    "\n",
    "df_peers = pd.DataFrame(ipfs.get_peers()[\"Peers\"]).dropna()\n",
    "\n",
    "df_peers[\"Latency\"] = df_peers[\"Latency\"].replace(\"n/a\",None)\n",
    "\n",
    "df_peers[\"Latency_float\"] = df_peers[\"Latency\"].str.strip(\"ms\").astype(\"float64\")\n",
    "\n",
    "df_peers[\"Stream_Count\"] = df_peers[\"Streams\"].apply(lambda x: len(x))\n",
    "\n",
    "peers = df_peers[\"Peer\"].to_list()"
   ]
  },
  {
   "cell_type": "code",
   "execution_count": 5,
   "id": "c445d8a1-aef9-4c9e-88b3-b006cec0e70a",
   "metadata": {},
   "outputs": [
    {
     "data": {
      "text/plain": [
       "'QmdEw6VDrpxW5MgrTgd2w7sNPEdhuyy4Ckzz3ZTofiU53x'"
      ]
     },
     "execution_count": 5,
     "metadata": {},
     "output_type": "execute_result"
    }
   ],
   "source": [
    "peers[0]"
   ]
  },
  {
   "cell_type": "code",
   "execution_count": 6,
   "id": "979fcc57-3c73-4782-96ed-10d9fc1e9a9f",
   "metadata": {},
   "outputs": [],
   "source": [
    "dht = ipfs.get_dht(peers[0])"
   ]
  },
  {
   "cell_type": "code",
   "execution_count": 151,
   "id": "09490788-5f62-41e6-be07-e74757bcdfed",
   "metadata": {},
   "outputs": [
    {
     "ename": "NameError",
     "evalue": "name 'dht' is not defined",
     "output_type": "error",
     "traceback": [
      "\u001b[0;31m---------------------------------------------------------------------------\u001b[0m",
      "\u001b[0;31mNameError\u001b[0m                                 Traceback (most recent call last)",
      "\u001b[0;32m/var/folders/bw/949q2z111js28qksbjv6ww_m0000gn/T/ipykernel_10163/1761220333.py\u001b[0m in \u001b[0;36m<module>\u001b[0;34m\u001b[0m\n\u001b[0;32m----> 1\u001b[0;31m \u001b[0mdht_content\u001b[0m \u001b[0;34m=\u001b[0m \u001b[0mdht\u001b[0m\u001b[0;34m.\u001b[0m\u001b[0mcontent\u001b[0m\u001b[0;34m\u001b[0m\u001b[0;34m\u001b[0m\u001b[0m\n\u001b[0m",
      "\u001b[0;31mNameError\u001b[0m: name 'dht' is not defined"
     ]
    }
   ],
   "source": [
    "dht_content = dht.content"
   ]
  },
  {
   "cell_type": "code",
   "execution_count": 42,
   "id": "1d442bee-6d6d-49fa-ac4a-fddaafd7cf82",
   "metadata": {},
   "outputs": [
    {
     "data": {
      "image/png": "[encoded data removed]",
      "text/plain": [
       "<Figure size 432x288 with 1 Axes>"
      ]
     },
     "metadata": {
      "needs_background": "light"
     },
     "output_type": "display_data"
    }
   ],
   "source": [
    "_ = df_peers[\"Latency_float\"].hist()"
   ]
  },
  {
   "cell_type": "code",
   "execution_count": 43,
   "id": "9475a947-cd1a-4665-a210-7bb1814dff58",
   "metadata": {},
   "outputs": [
    {
     "data": {
      "text/html": [
       "<div>\n",
       "<style scoped>\n",
       "    .dataframe tbody tr th:only-of-type {\n",
       "        vertical-align: middle;\n",
       "    }\n",
       "\n",
       "    .dataframe tbody tr th {\n",
       "        vertical-align: top;\n",
       "    }\n",
       "\n",
       "    .dataframe thead th {\n",
       "        text-align: right;\n",
       "    }\n",
       "</style>\n",
       "<table border=\"1\" class=\"dataframe\">\n",
       "  <thead>\n",
       "    <tr style=\"text-align: right;\">\n",
       "      <th></th>\n",
       "      <th>Direction</th>\n",
       "      <th>Latency_float</th>\n",
       "      <th>Stream_Count</th>\n",
       "    </tr>\n",
       "  </thead>\n",
       "  <tbody>\n",
       "    <tr>\n",
       "      <th>count</th>\n",
       "      <td>1032.000000</td>\n",
       "      <td>1032.000000</td>\n",
       "      <td>1032.000000</td>\n",
       "    </tr>\n",
       "    <tr>\n",
       "      <th>mean</th>\n",
       "      <td>1.521318</td>\n",
       "      <td>174.539774</td>\n",
       "      <td>1.572674</td>\n",
       "    </tr>\n",
       "    <tr>\n",
       "      <th>std</th>\n",
       "      <td>0.499788</td>\n",
       "      <td>143.459465</td>\n",
       "      <td>0.612313</td>\n",
       "    </tr>\n",
       "    <tr>\n",
       "      <th>min</th>\n",
       "      <td>1.000000</td>\n",
       "      <td>1.007211</td>\n",
       "      <td>1.000000</td>\n",
       "    </tr>\n",
       "    <tr>\n",
       "      <th>25%</th>\n",
       "      <td>1.000000</td>\n",
       "      <td>76.994446</td>\n",
       "      <td>1.000000</td>\n",
       "    </tr>\n",
       "    <tr>\n",
       "      <th>50%</th>\n",
       "      <td>2.000000</td>\n",
       "      <td>124.478240</td>\n",
       "      <td>2.000000</td>\n",
       "    </tr>\n",
       "    <tr>\n",
       "      <th>75%</th>\n",
       "      <td>2.000000</td>\n",
       "      <td>253.772358</td>\n",
       "      <td>2.000000</td>\n",
       "    </tr>\n",
       "    <tr>\n",
       "      <th>max</th>\n",
       "      <td>2.000000</td>\n",
       "      <td>955.782999</td>\n",
       "      <td>4.000000</td>\n",
       "    </tr>\n",
       "  </tbody>\n",
       "</table>\n",
       "</div>"
      ],
      "text/plain": [
       "         Direction  Latency_float  Stream_Count\n",
       "count  1032.000000    1032.000000   1032.000000\n",
       "mean      1.521318     174.539774      1.572674\n",
       "std       0.499788     143.459465      0.612313\n",
       "min       1.000000       1.007211      1.000000\n",
       "25%       1.000000      76.994446      1.000000\n",
       "50%       2.000000     124.478240      2.000000\n",
       "75%       2.000000     253.772358      2.000000\n",
       "max       2.000000     955.782999      4.000000"
      ]
     },
     "execution_count": 43,
     "metadata": {},
     "output_type": "execute_result"
    }
   ],
   "source": [
    "df_peers.describe()"
   ]
  },
  {
   "cell_type": "code",
   "execution_count": 44,
   "id": "2d31304f-b909-47b4-b0fa-6bacbe1b0e59",
   "metadata": {},
   "outputs": [
    {
     "data": {
      "text/html": [
       "<div>\n",
       "<style scoped>\n",
       "    .dataframe tbody tr th:only-of-type {\n",
       "        vertical-align: middle;\n",
       "    }\n",
       "\n",
       "    .dataframe tbody tr th {\n",
       "        vertical-align: top;\n",
       "    }\n",
       "\n",
       "    .dataframe thead th {\n",
       "        text-align: right;\n",
       "    }\n",
       "</style>\n",
       "<table border=\"1\" class=\"dataframe\">\n",
       "  <thead>\n",
       "    <tr style=\"text-align: right;\">\n",
       "      <th></th>\n",
       "      <th>Addr</th>\n",
       "      <th>Peer</th>\n",
       "      <th>Latency</th>\n",
       "      <th>Muxer</th>\n",
       "      <th>Direction</th>\n",
       "      <th>Streams</th>\n",
       "      <th>Latency_float</th>\n",
       "      <th>Stream_Count</th>\n",
       "    </tr>\n",
       "  </thead>\n",
       "  <tbody>\n",
       "    <tr>\n",
       "      <th>0</th>\n",
       "      <td>/ip4/1.0.156.91/udp/9029/quic</td>\n",
       "      <td>12D3KooWMitEf9Xt1oTAYT7mEnnQKs5SPs34PmXn51yF1D...</td>\n",
       "      <td>361.619481ms</td>\n",
       "      <td></td>\n",
       "      <td>1</td>\n",
       "      <td>[{'Protocol': '/ipfs/bitswap/1.2.0'}]</td>\n",
       "      <td>361.619481</td>\n",
       "      <td>1</td>\n",
       "    </tr>\n",
       "    <tr>\n",
       "      <th>1</th>\n",
       "      <td>/ip4/1.15.231.16/udp/4001/quic</td>\n",
       "      <td>12D3KooWKyKhHtNmzDNQkxBYNttmhS5y5ZrPyrMxC24n9t...</td>\n",
       "      <td>283.074195ms</td>\n",
       "      <td></td>\n",
       "      <td>2</td>\n",
       "      <td>[{'Protocol': '/ipfs/bitswap/1.2.0'}, {'Protoc...</td>\n",
       "      <td>283.074195</td>\n",
       "      <td>2</td>\n",
       "    </tr>\n",
       "    <tr>\n",
       "      <th>2</th>\n",
       "      <td>/ip4/1.175.130.41/tcp/39845</td>\n",
       "      <td>QmTsBFNNY6EivZvYmt2tbn2HevLjrh2Mf1dUGtZNHWf6mk</td>\n",
       "      <td>284.000379ms</td>\n",
       "      <td></td>\n",
       "      <td>2</td>\n",
       "      <td>[{'Protocol': '/ipfs/kad/1.0.0'}]</td>\n",
       "      <td>284.000379</td>\n",
       "      <td>1</td>\n",
       "    </tr>\n",
       "    <tr>\n",
       "      <th>5</th>\n",
       "      <td>/ip4/103.1.33.178/udp/3026/quic</td>\n",
       "      <td>12D3KooWBUk5PqRPysNNJ4bPkL3ceUKxsKvt1YMFJ6RPFz...</td>\n",
       "      <td>223.167747ms</td>\n",
       "      <td></td>\n",
       "      <td>1</td>\n",
       "      <td>[{'Protocol': '/ipfs/bitswap/1.2.0'}]</td>\n",
       "      <td>223.167747</td>\n",
       "      <td>1</td>\n",
       "    </tr>\n",
       "    <tr>\n",
       "      <th>6</th>\n",
       "      <td>/ip4/103.146.40.138/udp/4001/quic</td>\n",
       "      <td>12D3KooWSpVv9Y7mmD8LHMMqoKtKYpSFgZ9sDP3XfxFhgX...</td>\n",
       "      <td>269.893795ms</td>\n",
       "      <td></td>\n",
       "      <td>2</td>\n",
       "      <td>[{'Protocol': '/ipfs/bitswap/1.2.0'}, {'Protoc...</td>\n",
       "      <td>269.893795</td>\n",
       "      <td>2</td>\n",
       "    </tr>\n",
       "    <tr>\n",
       "      <th>...</th>\n",
       "      <td>...</td>\n",
       "      <td>...</td>\n",
       "      <td>...</td>\n",
       "      <td>...</td>\n",
       "      <td>...</td>\n",
       "      <td>...</td>\n",
       "      <td>...</td>\n",
       "      <td>...</td>\n",
       "    </tr>\n",
       "    <tr>\n",
       "      <th>1083</th>\n",
       "      <td>/ip4/96.47.235.220/udp/4001/quic</td>\n",
       "      <td>12D3KooWBX4j9hGGYmRDnioddVdTPFyXesYeuHRC7Q87hk...</td>\n",
       "      <td>25.682061ms</td>\n",
       "      <td></td>\n",
       "      <td>1</td>\n",
       "      <td>[{'Protocol': '/ipfs/bitswap/1.2.0'}, {'Protoc...</td>\n",
       "      <td>25.682061</td>\n",
       "      <td>2</td>\n",
       "    </tr>\n",
       "    <tr>\n",
       "      <th>1084</th>\n",
       "      <td>/ip4/97.94.246.88/udp/2363/quic</td>\n",
       "      <td>12D3KooWBvSHjSvqnM2mGWAT8UB1KGcxPYvuW1MGMBvdSE...</td>\n",
       "      <td>118.607928ms</td>\n",
       "      <td></td>\n",
       "      <td>1</td>\n",
       "      <td>[{'Protocol': '/ipfs/bitswap/1.2.0'}]</td>\n",
       "      <td>118.607928</td>\n",
       "      <td>1</td>\n",
       "    </tr>\n",
       "    <tr>\n",
       "      <th>1085</th>\n",
       "      <td>/ip4/98.13.43.201/udp/60021/quic</td>\n",
       "      <td>12D3KooWEAP3iyUat8NAQMjFdfwmf7MnDpsRXSNjn1LU4Z...</td>\n",
       "      <td>47.731414ms</td>\n",
       "      <td></td>\n",
       "      <td>1</td>\n",
       "      <td>[{'Protocol': '/ipfs/bitswap/1.2.0'}, {'Protoc...</td>\n",
       "      <td>47.731414</td>\n",
       "      <td>2</td>\n",
       "    </tr>\n",
       "    <tr>\n",
       "      <th>1086</th>\n",
       "      <td>/ip4/98.186.153.34/udp/4001/quic</td>\n",
       "      <td>12D3KooWN5LzhgUGeRo4hfzkhWwkvp6F8rem5w1FuwoxyM...</td>\n",
       "      <td>107.901504ms</td>\n",
       "      <td></td>\n",
       "      <td>1</td>\n",
       "      <td>[{'Protocol': '/ipfs/bitswap/1.2.0'}, {'Protoc...</td>\n",
       "      <td>107.901504</td>\n",
       "      <td>2</td>\n",
       "    </tr>\n",
       "    <tr>\n",
       "      <th>1087</th>\n",
       "      <td>/ip4/98.195.81.64/udp/4001/quic</td>\n",
       "      <td>12D3KooWBXFEWo4bUzzRFSsTyH45Ab9GMH9kVm8ocXAyYf...</td>\n",
       "      <td>97.69348ms</td>\n",
       "      <td></td>\n",
       "      <td>1</td>\n",
       "      <td>[{'Protocol': '/ipfs/bitswap/1.2.0'}]</td>\n",
       "      <td>97.693480</td>\n",
       "      <td>1</td>\n",
       "    </tr>\n",
       "  </tbody>\n",
       "</table>\n",
       "<p>1032 rows × 8 columns</p>\n",
       "</div>"
      ],
      "text/plain": [
       "                                   Addr  \\\n",
       "0         /ip4/1.0.156.91/udp/9029/quic   \n",
       "1        /ip4/1.15.231.16/udp/4001/quic   \n",
       "2           /ip4/1.175.130.41/tcp/39845   \n",
       "5       /ip4/103.1.33.178/udp/3026/quic   \n",
       "6     /ip4/103.146.40.138/udp/4001/quic   \n",
       "...                                 ...   \n",
       "1083   /ip4/96.47.235.220/udp/4001/quic   \n",
       "1084    /ip4/97.94.246.88/udp/2363/quic   \n",
       "1085   /ip4/98.13.43.201/udp/60021/quic   \n",
       "1086   /ip4/98.186.153.34/udp/4001/quic   \n",
       "1087    /ip4/98.195.81.64/udp/4001/quic   \n",
       "\n",
       "                                                   Peer       Latency Muxer  \\\n",
       "0     12D3KooWMitEf9Xt1oTAYT7mEnnQKs5SPs34PmXn51yF1D...  361.619481ms         \n",
       "1     12D3KooWKyKhHtNmzDNQkxBYNttmhS5y5ZrPyrMxC24n9t...  283.074195ms         \n",
       "2        QmTsBFNNY6EivZvYmt2tbn2HevLjrh2Mf1dUGtZNHWf6mk  284.000379ms         \n",
       "5     12D3KooWBUk5PqRPysNNJ4bPkL3ceUKxsKvt1YMFJ6RPFz...  223.167747ms         \n",
       "6     12D3KooWSpVv9Y7mmD8LHMMqoKtKYpSFgZ9sDP3XfxFhgX...  269.893795ms         \n",
       "...                                                 ...           ...   ...   \n",
       "1083  12D3KooWBX4j9hGGYmRDnioddVdTPFyXesYeuHRC7Q87hk...   25.682061ms         \n",
       "1084  12D3KooWBvSHjSvqnM2mGWAT8UB1KGcxPYvuW1MGMBvdSE...  118.607928ms         \n",
       "1085  12D3KooWEAP3iyUat8NAQMjFdfwmf7MnDpsRXSNjn1LU4Z...   47.731414ms         \n",
       "1086  12D3KooWN5LzhgUGeRo4hfzkhWwkvp6F8rem5w1FuwoxyM...  107.901504ms         \n",
       "1087  12D3KooWBXFEWo4bUzzRFSsTyH45Ab9GMH9kVm8ocXAyYf...    97.69348ms         \n",
       "\n",
       "      Direction                                            Streams  \\\n",
       "0             1              [{'Protocol': '/ipfs/bitswap/1.2.0'}]   \n",
       "1             2  [{'Protocol': '/ipfs/bitswap/1.2.0'}, {'Protoc...   \n",
       "2             2                  [{'Protocol': '/ipfs/kad/1.0.0'}]   \n",
       "5             1              [{'Protocol': '/ipfs/bitswap/1.2.0'}]   \n",
       "6             2  [{'Protocol': '/ipfs/bitswap/1.2.0'}, {'Protoc...   \n",
       "...         ...                                                ...   \n",
       "1083          1  [{'Protocol': '/ipfs/bitswap/1.2.0'}, {'Protoc...   \n",
       "1084          1              [{'Protocol': '/ipfs/bitswap/1.2.0'}]   \n",
       "1085          1  [{'Protocol': '/ipfs/bitswap/1.2.0'}, {'Protoc...   \n",
       "1086          1  [{'Protocol': '/ipfs/bitswap/1.2.0'}, {'Protoc...   \n",
       "1087          1              [{'Protocol': '/ipfs/bitswap/1.2.0'}]   \n",
       "\n",
       "      Latency_float  Stream_Count  \n",
       "0        361.619481             1  \n",
       "1        283.074195             2  \n",
       "2        284.000379             1  \n",
       "5        223.167747             1  \n",
       "6        269.893795             2  \n",
       "...             ...           ...  \n",
       "1083      25.682061             2  \n",
       "1084     118.607928             1  \n",
       "1085      47.731414             2  \n",
       "1086     107.901504             2  \n",
       "1087      97.693480             1  \n",
       "\n",
       "[1032 rows x 8 columns]"
      ]
     },
     "execution_count": 44,
     "metadata": {},
     "output_type": "execute_result"
    }
   ],
   "source": [
    "df_peers"
   ]
  },
  {
   "cell_type": "markdown",
   "id": "c3418d0b-e21f-41ff-8965-ce27dd704115",
   "metadata": {
    "tags": []
   },
   "source": [
    "# Pinata"
   ]
  },
  {
   "cell_type": "code",
   "execution_count": 1,
   "id": "69826175-5a34-44f9-832f-2f950e764f7e",
   "metadata": {},
   "outputs": [],
   "source": [
    "from storage.pinataV1 import PinataV1\n",
    "\n",
    "pinata = PinataV1()"
   ]
  },
  {
   "cell_type": "code",
   "execution_count": 2,
   "id": "bcc097d4-cc54-489c-90c6-a4479cfdd7cf",
   "metadata": {},
   "outputs": [],
   "source": [
    "cred = pinata.get_creds()"
   ]
  },
  {
   "cell_type": "code",
   "execution_count": 3,
   "id": "a739dfb8-54b4-4c68-9a92-b85811486630",
   "metadata": {},
   "outputs": [
    {
     "data": {
      "text/plain": [
       "({'IpfsHash': 'QmQwwMbykhX3wyCdC5yBRXV4JQRe5FFLiyynaUiLbmvLzn',\n",
       "  'PinSize': 10013,\n",
       "  'Timestamp': '2022-03-25T14:00:17.329Z',\n",
       "  'isDuplicate': True},\n",
       " 200)"
      ]
     },
     "execution_count": 3,
     "metadata": {},
     "output_type": "execute_result"
    }
   ],
   "source": [
    "pinata.upload_file(\"dataset/sample/All_Gateway_Properties.csv\",cred)"
   ]
  },
  {
   "cell_type": "code",
   "execution_count": 4,
   "id": "359e04fe-9ad4-413d-a09a-7c19919fca46",
   "metadata": {},
   "outputs": [
    {
     "data": {
      "text/plain": [
       "({'id': '6dda7d70-d214-457e-8d51-8b168bf95319',\n",
       "  'ipfsHash': 'QmQwwMbykhX3wyCdC5yBRXV4JQRe5FFLiyynaUiLbmvLzn',\n",
       "  'status': 'prechecking',\n",
       "  'name': 'All_Gateway_Properties.csv'},\n",
       " 200)"
      ]
     },
     "execution_count": 4,
     "metadata": {},
     "output_type": "execute_result"
    }
   ],
   "source": [
    "pinata.pin(\"All_Gateway_Properties.csv\",\"QmQwwMbykhX3wyCdC5yBRXV4JQRe5FFLiyynaUiLbmvLzn\",cred)"
   ]
  },
  {
   "cell_type": "code",
   "execution_count": 5,
   "id": "452236e5-5088-4c35-bba7-8a5ab5fbe12f",
   "metadata": {},
   "outputs": [
    {
     "data": {
      "text/plain": [
       "200"
      ]
     },
     "execution_count": 5,
     "metadata": {},
     "output_type": "execute_result"
    }
   ],
   "source": [
    "pinata.unpin(\"QmQwwMbykhX3wyCdC5yBRXV4JQRe5FFLiyynaUiLbmvLzn\",cred)"
   ]
  },
  {
   "cell_type": "code",
   "execution_count": 4,
   "id": "e6b984f7-bf23-42cf-bcc9-0c87c57aa0cb",
   "metadata": {},
   "outputs": [
    {
     "data": {
      "text/plain": [
       "<Response [200]>"
      ]
     },
     "execution_count": 4,
     "metadata": {},
     "output_type": "execute_result"
    }
   ],
   "source": [
    "import requests\n",
    "header = {\n",
    "          \"pinata_api_key\":cred[\"API Key\"],\n",
    "            \"pinata_secret_api_key\":cred[\"API Secret\"]\n",
    "          }\n",
    "\n",
    "requests.delete(\"https://api.pinata.cloud/pinning/unpin/QmQwwMbykhX3wyCdC5yBRXV4JQRe5FFLiyynaUiLbmvLzn\",headers=header)"
   ]
  },
  {
   "cell_type": "code",
   "execution_count": 38,
   "id": "d734e0df-009e-4b60-8d15-d0cd35986264",
   "metadata": {},
   "outputs": [
    {
     "data": {
      "text/plain": [
       "200"
      ]
     },
     "execution_count": 38,
     "metadata": {},
     "output_type": "execute_result"
    }
   ],
   "source": [
    "pinata.edit_hash(\"Popcorn Limited - Dune Dashboards - 03182022.pdf\",\"bafkreief472lhr6b54baq4oansiwor4ed2te2xztwgjqez2btrns5d6dxi\",cred)"
   ]
  },
  {
   "cell_type": "code",
   "execution_count": 4,
   "id": "0653634d-82a5-42c1-914b-3b382c8b38e4",
   "metadata": {},
   "outputs": [
    {
     "ename": "NameError",
     "evalue": "name 'ipfs' is not defined",
     "output_type": "error",
     "traceback": [
      "\u001b[0;31m---------------------------------------------------------------------------\u001b[0m",
      "\u001b[0;31mNameError\u001b[0m                                 Traceback (most recent call last)",
      "\u001b[0;32m/var/folders/bw/949q2z111js28qksbjv6ww_m0000gn/T/ipykernel_47777/2263759919.py\u001b[0m in \u001b[0;36m<module>\u001b[0;34m\u001b[0m\n\u001b[0;32m----> 1\u001b[0;31m \u001b[0mf_name\u001b[0m \u001b[0;34m=\u001b[0m \u001b[0mipfs\u001b[0m\u001b[0;34m.\u001b[0m\u001b[0mget_file\u001b[0m\u001b[0;34m(\u001b[0m\u001b[0;34m\"QmQwwMbykhX3wyCdC5yBRXV4JQRe5FFLiyynaUiLbmvLzn\"\u001b[0m\u001b[0;34m,\u001b[0m\u001b[0mlocal_node\u001b[0m\u001b[0;34m=\u001b[0m\u001b[0;32mFalse\u001b[0m\u001b[0;34m)\u001b[0m\u001b[0;34m\u001b[0m\u001b[0;34m\u001b[0m\u001b[0m\n\u001b[0m",
      "\u001b[0;31mNameError\u001b[0m: name 'ipfs' is not defined"
     ]
    }
   ],
   "source": [
    "f_name = ipfs.get_file(\"QmQwwMbykhX3wyCdC5yBRXV4JQRe5FFLiyynaUiLbmvLzn\",local_node=False)\n"
   ]
  },
  {
   "cell_type": "code",
   "execution_count": 321,
   "id": "f3c954b3-4d63-48f3-b449-5ae7f9e90b7d",
   "metadata": {},
   "outputs": [
    {
     "data": {
      "text/plain": [
       "({'error': 'Pin policy is invalid. Please provide a valid pin policy',\n",
       "  'message': 'Corrupted pin policy'},\n",
       " 400)"
      ]
     },
     "execution_count": 321,
     "metadata": {},
     "output_type": "execute_result"
    }
   ],
   "source": [
    "pinata.pin_policy(\"bafybeif36uqfqj5on23qfdl3nglc7ncgcbnz4ixpleomskg7pqn3xmlgfi\",cred,region=\"FRA1\",replications=1)"
   ]
  },
  {
   "cell_type": "code",
   "execution_count": 322,
   "id": "f97a06d3-effd-44a6-94b2-baf6a4823fc7",
   "metadata": {},
   "outputs": [
    {
     "data": {
      "text/plain": [
       "({'error': {'reason': 'NOT_PERMITTED',\n",
       "   'details': 'API key does not have required permissions for this endpoint'}},\n",
       " 403)"
      ]
     },
     "execution_count": 322,
     "metadata": {},
     "output_type": "execute_result"
    }
   ],
   "source": [
    "pinata.globalpin_policy(cred,region=\"FRA1\",replications=1)"
   ]
  },
  {
   "cell_type": "markdown",
   "id": "7d96f948-251c-4677-a527-0db88fc09b0e",
   "metadata": {
    "tags": []
   },
   "source": [
    "## Request Files"
   ]
  },
  {
   "cell_type": "code",
   "execution_count": 17,
   "id": "76af2563-15a7-4356-8896-70347db710a7",
   "metadata": {},
   "outputs": [
    {
     "data": {
      "text/html": [
       "<div>\n",
       "<style scoped>\n",
       "    .dataframe tbody tr th:only-of-type {\n",
       "        vertical-align: middle;\n",
       "    }\n",
       "\n",
       "    .dataframe tbody tr th {\n",
       "        vertical-align: top;\n",
       "    }\n",
       "\n",
       "    .dataframe thead th {\n",
       "        text-align: right;\n",
       "    }\n",
       "</style>\n",
       "<table border=\"1\" class=\"dataframe\">\n",
       "  <thead>\n",
       "    <tr style=\"text-align: right;\">\n",
       "      <th></th>\n",
       "      <th>id</th>\n",
       "      <th>ipfs_pin_hash</th>\n",
       "      <th>size</th>\n",
       "      <th>user_id</th>\n",
       "      <th>date_pinned</th>\n",
       "      <th>date_unpinned</th>\n",
       "      <th>metadata</th>\n",
       "      <th>regions</th>\n",
       "    </tr>\n",
       "  </thead>\n",
       "  <tbody>\n",
       "    <tr>\n",
       "      <th>0</th>\n",
       "      <td>a4f39d27-00b9-4092-83e6-3a4d9d9e202d</td>\n",
       "      <td>QmRxu3HoofyTntXhCSXBv98tPDWLdgNee32Z1nMQcCbxU7</td>\n",
       "      <td>1640</td>\n",
       "      <td>d28f20cf-dfe0-4c8f-9272-26b9c2d8a3cd</td>\n",
       "      <td>2022-03-11T20:21:21.515Z</td>\n",
       "      <td>None</td>\n",
       "      <td>{'name': 'storage', 'keyvalues': None}</td>\n",
       "      <td>[{'regionId': 'NYC1', 'currentReplicationCount...</td>\n",
       "    </tr>\n",
       "    <tr>\n",
       "      <th>1</th>\n",
       "      <td>926f2e41-2420-4535-82c9-14e9f244a435</td>\n",
       "      <td>QmRE9W9efQjWgb9rABf4gU2SG48aabfvApUYJJBFE1BSzP</td>\n",
       "      <td>2350</td>\n",
       "      <td>d28f20cf-dfe0-4c8f-9272-26b9c2d8a3cd</td>\n",
       "      <td>2022-03-11T20:20:00.213Z</td>\n",
       "      <td>None</td>\n",
       "      <td>{'name': 'storage', 'keyvalues': None}</td>\n",
       "      <td>[{'regionId': 'NYC1', 'currentReplicationCount...</td>\n",
       "    </tr>\n",
       "    <tr>\n",
       "      <th>2</th>\n",
       "      <td>721300ed-fd44-43ef-87a4-9ed2c3c3e2b9</td>\n",
       "      <td>bafybeif36uqfqj5on23qfdl3nglc7ncgcbnz4ixpleoms...</td>\n",
       "      <td>2086898</td>\n",
       "      <td>d28f20cf-dfe0-4c8f-9272-26b9c2d8a3cd</td>\n",
       "      <td>2022-03-11T02:14:04.863Z</td>\n",
       "      <td>None</td>\n",
       "      <td>{'name': 'test.py', 'keyvalues': {'0': 'newKey...</td>\n",
       "      <td>[{'regionId': 'NYC1', 'currentReplicationCount...</td>\n",
       "    </tr>\n",
       "    <tr>\n",
       "      <th>3</th>\n",
       "      <td>3a79ae10-7392-4f0f-bafc-70543bdd6ada</td>\n",
       "      <td>QmWvvVY9meNZ6b6UXr8Vy7J2Z4eSS4YpPJ5nyrgfd7ZFMP</td>\n",
       "      <td>2290</td>\n",
       "      <td>d28f20cf-dfe0-4c8f-9272-26b9c2d8a3cd</td>\n",
       "      <td>2022-03-10T16:49:18.236Z</td>\n",
       "      <td>None</td>\n",
       "      <td>{'name': 'happy.py', 'keyvalues': {'0': 'newKe...</td>\n",
       "      <td>[{'regionId': 'NYC1', 'currentReplicationCount...</td>\n",
       "    </tr>\n",
       "    <tr>\n",
       "      <th>4</th>\n",
       "      <td>147797ca-a95a-4be0-8acd-5242d31cfe8f</td>\n",
       "      <td>QmZ8bNMNXodiWRJDvDHNCAE1EsnbaiTZaQJafm2pSTYBFh</td>\n",
       "      <td>9887</td>\n",
       "      <td>d28f20cf-dfe0-4c8f-9272-26b9c2d8a3cd</td>\n",
       "      <td>2022-03-10T15:57:40.831Z</td>\n",
       "      <td>None</td>\n",
       "      <td>{'name': 'All_Gateway_Properties.csv', 'keyval...</td>\n",
       "      <td>[{'regionId': 'NYC1', 'currentReplicationCount...</td>\n",
       "    </tr>\n",
       "  </tbody>\n",
       "</table>\n",
       "</div>"
      ],
      "text/plain": [
       "                                     id  \\\n",
       "0  a4f39d27-00b9-4092-83e6-3a4d9d9e202d   \n",
       "1  926f2e41-2420-4535-82c9-14e9f244a435   \n",
       "2  721300ed-fd44-43ef-87a4-9ed2c3c3e2b9   \n",
       "3  3a79ae10-7392-4f0f-bafc-70543bdd6ada   \n",
       "4  147797ca-a95a-4be0-8acd-5242d31cfe8f   \n",
       "\n",
       "                                       ipfs_pin_hash     size  \\\n",
       "0     QmRxu3HoofyTntXhCSXBv98tPDWLdgNee32Z1nMQcCbxU7     1640   \n",
       "1     QmRE9W9efQjWgb9rABf4gU2SG48aabfvApUYJJBFE1BSzP     2350   \n",
       "2  bafybeif36uqfqj5on23qfdl3nglc7ncgcbnz4ixpleoms...  2086898   \n",
       "3     QmWvvVY9meNZ6b6UXr8Vy7J2Z4eSS4YpPJ5nyrgfd7ZFMP     2290   \n",
       "4     QmZ8bNMNXodiWRJDvDHNCAE1EsnbaiTZaQJafm2pSTYBFh     9887   \n",
       "\n",
       "                                user_id               date_pinned  \\\n",
       "0  d28f20cf-dfe0-4c8f-9272-26b9c2d8a3cd  2022-03-11T20:21:21.515Z   \n",
       "1  d28f20cf-dfe0-4c8f-9272-26b9c2d8a3cd  2022-03-11T20:20:00.213Z   \n",
       "2  d28f20cf-dfe0-4c8f-9272-26b9c2d8a3cd  2022-03-11T02:14:04.863Z   \n",
       "3  d28f20cf-dfe0-4c8f-9272-26b9c2d8a3cd  2022-03-10T16:49:18.236Z   \n",
       "4  d28f20cf-dfe0-4c8f-9272-26b9c2d8a3cd  2022-03-10T15:57:40.831Z   \n",
       "\n",
       "  date_unpinned                                           metadata  \\\n",
       "0          None             {'name': 'storage', 'keyvalues': None}   \n",
       "1          None             {'name': 'storage', 'keyvalues': None}   \n",
       "2          None  {'name': 'test.py', 'keyvalues': {'0': 'newKey...   \n",
       "3          None  {'name': 'happy.py', 'keyvalues': {'0': 'newKe...   \n",
       "4          None  {'name': 'All_Gateway_Properties.csv', 'keyval...   \n",
       "\n",
       "                                             regions  \n",
       "0  [{'regionId': 'NYC1', 'currentReplicationCount...  \n",
       "1  [{'regionId': 'NYC1', 'currentReplicationCount...  \n",
       "2  [{'regionId': 'NYC1', 'currentReplicationCount...  \n",
       "3  [{'regionId': 'NYC1', 'currentReplicationCount...  \n",
       "4  [{'regionId': 'NYC1', 'currentReplicationCount...  "
      ]
     },
     "execution_count": 17,
     "metadata": {},
     "output_type": "execute_result"
    }
   ],
   "source": [
    "import pandas as pd\n",
    "\n",
    "\"\"\"\n",
    "\"sort\" - Sort the results by the date added to the pinning queue (see value options below)\n",
    "\"ASC\" - Sort by ascending dates\n",
    "\"DESC\" - Sort by descending dates\n",
    "\"status\" - Filter by the status of the job in the pinning queue (see potential statuses below)\n",
    "\"prechecking\" - Pinata is running preliminary validations on your pin request.\n",
    "\"searching\" - Pinata is actively searching for your content on the IPFS network. This may take some time if your content is isolated.\n",
    "\"retrieving\" - Pinata has located your content and is now in the process of retrieving it.\n",
    "\"expired\" - Pinata wasn't able to find your content after a day of searching the IPFS network. Please make sure your content is hosted on the IPFS network before trying to pin again.\n",
    "\"over_free_limit\" - Pinning this object would put you over the free tier limit. Please add a credit card to continue pinning content.\n",
    "\"over_max_size\" - This object is too large of an item to pin. If you're seeing this, please contact us for a more custom solution.\n",
    "\"invalid_object\" - The object you're attempting to pin isn't readable by IPFS nodes. Please contact us if you receive this, as we'd like to better understand what you're attempting to pin.\n",
    "\"bad_host_node\" - You provided a host node that was either invalid or unreachable. Please make sure all provided host nodes are online and reachable.\n",
    "\"ipfs_pin_hash\" - Retrieve the record for a specific IPFS hash\n",
    "\"limit\" - Limit the amount of results returned per page of results (default is 5, and max is 1000)\n",
    "\"offset\" - Provide the record offset for records being returned. This is how you retrieve records on additional pages (default is 0)\n",
    "\n",
    "MetaData\n",
    "metadata[name]=exampleName\n",
    "\n",
    "&metadata[keyvalues]={\"exampleKey\":{\"value\":\"exampleValue\",\"op\":\"exampleOp\"},\"exampleKey2\":{\"value\":\"exampleValue2\",\"op\":\"exampleOp2\"}}\n",
    "\"\"\"\n",
    "params = {\"sort\":\"DESC\",\"status\":None,\"prechecking\":None,\n",
    "          \"searching\":None,\"retrieving\":None,\n",
    "          \"expired\":None,\"over_free_limit\":None,\n",
    "          \"over_max_size\":None,\"invalid_object\":None,\n",
    "          \"bad_host_node\":None,\"ipfs_pin_hash\":None,\n",
    "          \"limit\":None,\"offset\":None,\"metadata[name]\":None,\n",
    "          \"metadatakeyvalues\":\"keyvalues\"\n",
    "         }\n",
    "\n",
    "pf,status = pinata.get_pinned_files(cred,params)\n",
    "pd.DataFrame(pf[\"rows\"])"
   ]
  },
  {
   "cell_type": "markdown",
   "id": "77dbea05-d398-47b5-8e2e-ea7c1743bb54",
   "metadata": {
    "tags": []
   },
   "source": [
    "## Requesting Pin Jobs"
   ]
  },
  {
   "cell_type": "code",
   "execution_count": 13,
   "id": "214b10d8-12c1-4095-a89b-d7b4282ea3db",
   "metadata": {},
   "outputs": [
    {
     "data": {
      "text/plain": [
       "{'count': 0, 'rows': []}"
      ]
     },
     "execution_count": 13,
     "metadata": {},
     "output_type": "execute_result"
    }
   ],
   "source": [
    "pf,status = pinata.get_pinned_jobs(cred,params)\n",
    "pf"
   ]
  },
  {
   "cell_type": "code",
   "execution_count": 18,
   "id": "803da7a1-fddc-4dac-ab84-81d25e5e2192",
   "metadata": {},
   "outputs": [
    {
     "data": {
      "text/plain": [
       "({'pin_count': 5,\n",
       "  'pin_size_total': '2103065',\n",
       "  'pin_size_with_replications_total': '2103065'},\n",
       " 200)"
      ]
     },
     "execution_count": 18,
     "metadata": {},
     "output_type": "execute_result"
    }
   ],
   "source": [
    "pinata.get_datausage(cred)"
   ]
  },
  {
   "cell_type": "code",
   "execution_count": 19,
   "id": "1f58ab73-4267-4795-88e3-6b58296b962e",
   "metadata": {},
   "outputs": [
    {
     "data": {
      "text/plain": [
       "2.103065"
      ]
     },
     "execution_count": 19,
     "metadata": {},
     "output_type": "execute_result"
    }
   ],
   "source": [
    "#convert bytes to MB\n",
    "\n",
    "2103065 * 10**-6"
   ]
  },
  {
   "cell_type": "markdown",
   "id": "ba1be782-2f67-4a45-b962-48eb4723a763",
   "metadata": {},
   "source": [
    "# Work in Progress"
   ]
  },
  {
   "cell_type": "markdown",
   "id": "4aa30bca-0a3a-4fdb-a66c-e244b68a8dc1",
   "metadata": {},
   "source": [
    "# Pinata V2"
   ]
  },
  {
   "cell_type": "code",
   "execution_count": 301,
   "id": "abd5ce3f-9fe8-4fec-a680-ded0cf25fae4",
   "metadata": {},
   "outputs": [],
   "source": [
    "# import requests module\n",
    "import requests\n",
    "import json\n",
    "from requests.auth import HTTPBasicAuth\n",
    "\n",
    "class PinataV2:\n",
    "    \n",
    "    def get_creds(self):\n",
    "\n",
    "        with open(\"creds.json\") as f:\n",
    "\n",
    "            cred = json.loads(f.read())\n",
    "\n",
    "        return cred[\"Pinata\"]\n",
    "\n",
    "    def upload_file(self,fn,cred):\n",
    "        \n",
    "\n",
    "\n",
    "        url = \"https://managed.mypinata.cloud/api/v1/content\"\n",
    "\n",
    "        payload={}\n",
    "        headers = {\n",
    "          'x-api-key': cred['API Key']\n",
    "        }\n",
    "\n",
    "        response = requests.request(\"GET\", url, headers=headers, data=payload)\n",
    "\n",
    "        print(response.text)\n",
    "\n",
    "        return response.json(),response.status_code"
   ]
  },
  {
   "cell_type": "code",
   "execution_count": 298,
   "id": "a57472ef-afaa-48ce-b391-915e7d556217",
   "metadata": {},
   "outputs": [],
   "source": [
    "pinatav2 = PinataV2()"
   ]
  },
  {
   "cell_type": "code",
   "execution_count": 299,
   "id": "5e24fdef-6e54-4a12-a701-4c4c2dc0778d",
   "metadata": {},
   "outputs": [],
   "source": [
    "cred = pinatav2.get_creds()"
   ]
  },
  {
   "cell_type": "code",
   "execution_count": 300,
   "id": "3bb6ca9a-60bf-43d9-86f9-e4bdb9f0a009",
   "metadata": {},
   "outputs": [
    {
     "name": "stdout",
     "output_type": "stream",
     "text": [
      "{\"status\":500,\"message\":\"Request failed with status code 404\"}\n"
     ]
    },
    {
     "data": {
      "text/plain": [
       "({'status': 500, 'message': 'Request failed with status code 404'}, 500)"
      ]
     },
     "execution_count": 300,
     "metadata": {},
     "output_type": "execute_result"
    }
   ],
   "source": [
    "pinatav2.upload_file(\"storage/ipfs.py\",cred)"
   ]
  },
  {
   "cell_type": "markdown",
   "id": "4a052979-dd1d-40f0-903c-f1dfb365e652",
   "metadata": {
    "tags": []
   },
   "source": [
    "# Estuary"
   ]
  },
  {
   "cell_type": "code",
   "execution_count": 146,
   "id": "2dd6091f-b505-44ff-ab3c-06fed2d9e9f7",
   "metadata": {},
   "outputs": [],
   "source": [
    "import requests\n",
    "import json\n",
    "\n",
    "\n",
    "class Estuary:\n",
    "    \n",
    "    def get_creds(self):\n",
    "\n",
    "        with open(\"creds.json\") as f:\n",
    "\n",
    "            cred = json.loads(f.read())\n",
    "\n",
    "        return cred[\"Estuary\"]\n",
    "    \n",
    "    def upload_file(self,fn,cred):\n",
    "\n",
    "        base_url1 = \"https://shuttle-4.estuary.tech/content/add\"\n",
    "        base2 = \"https://shuttle-5.estuary.tech/content/add\"\n",
    "        \n",
    "        header = {\"Content-Type\":\"multipart/form-data\",\n",
    "                  \"Authorization\":\"Bearer \" + cred[\"API Key\"],\n",
    "                  }\n",
    "        \n",
    "        \n",
    "        \n",
    "        #Filename,file, content_type, cookie expiration?\n",
    "        files = {'file': (fn, open(fn, 'rb'),\n",
    "                          \"multipart/form-data\", {'Expires': '0'})\n",
    "                }\n",
    "\n",
    "\n",
    "\n",
    "        response = requests.post(base_url1, headers=header,data=files)\n",
    "\n",
    "        return response.json(),response.status_code\n",
    "    \n",
    "    def get_pins(self,cred):\n",
    "\n",
    "        base_url = \"https://api.estuary.tech/pinning/pins\"\n",
    "\n",
    "        header = {\"Authorization\": \"Bearer \" + cred[\"API Key\"]}\n",
    "        \n",
    "        \n",
    "        response = requests.get(base_url,headers=header)\n",
    "\n",
    "        return response.json(),response.status_code\n",
    "\n",
    "\n",
    "\n"
   ]
  },
  {
   "cell_type": "code",
   "execution_count": 147,
   "id": "ebff9c13-98f4-4580-bbfa-254ea77faf64",
   "metadata": {},
   "outputs": [],
   "source": [
    "e = Estuary()"
   ]
  },
  {
   "cell_type": "code",
   "execution_count": 148,
   "id": "b69e6cfe-a858-45e3-be6b-e477a343780f",
   "metadata": {},
   "outputs": [],
   "source": [
    "cred = e.get_creds()"
   ]
  },
  {
   "cell_type": "code",
   "execution_count": 149,
   "id": "325b678d-cf10-4cee-b494-1ea29490976c",
   "metadata": {},
   "outputs": [],
   "source": [
    "pins = e.get_pins(cred)"
   ]
  },
  {
   "cell_type": "code",
   "execution_count": 150,
   "id": "51ee4ce6-1ce1-4bf6-96bd-a22ecb272f0b",
   "metadata": {},
   "outputs": [
    {
     "data": {
      "text/plain": [
       "({'error': 'no multipart boundary param in Content-Type'}, 500)"
      ]
     },
     "execution_count": 150,
     "metadata": {},
     "output_type": "execute_result"
    }
   ],
   "source": [
    "e.upload_file(\"dataset/sample/All_Gateway_Properties.csv\",cred)"
   ]
  },
  {
   "cell_type": "code",
   "execution_count": 114,
   "id": "6b7145e7-8d1b-48ca-aa2d-ddbaafc0c732",
   "metadata": {},
   "outputs": [
    {
     "data": {
      "text/html": [
       "<div>\n",
       "<style scoped>\n",
       "    .dataframe tbody tr th:only-of-type {\n",
       "        vertical-align: middle;\n",
       "    }\n",
       "\n",
       "    .dataframe tbody tr th {\n",
       "        vertical-align: top;\n",
       "    }\n",
       "\n",
       "    .dataframe thead th {\n",
       "        text-align: right;\n",
       "    }\n",
       "</style>\n",
       "<table border=\"1\" class=\"dataframe\">\n",
       "  <thead>\n",
       "    <tr style=\"text-align: right;\">\n",
       "      <th></th>\n",
       "      <th>No.</th>\n",
       "      <th>Address</th>\n",
       "      <th>City/State/Zip</th>\n",
       "    </tr>\n",
       "  </thead>\n",
       "  <tbody>\n",
       "    <tr>\n",
       "      <th>0</th>\n",
       "      <td>1</td>\n",
       "      <td>7178 COLUMBIA GATEWAY DR</td>\n",
       "      <td>COLUMBIA, MD 21046</td>\n",
       "    </tr>\n",
       "    <tr>\n",
       "      <th>1</th>\n",
       "      <td>2</td>\n",
       "      <td>7220 LEE DEFOREST DR</td>\n",
       "      <td>COLUMBIA, MD 21046</td>\n",
       "    </tr>\n",
       "    <tr>\n",
       "      <th>2</th>\n",
       "      <td>3</td>\n",
       "      <td>7224 SOLAR WALK</td>\n",
       "      <td>COLUMBIA, MD 21046</td>\n",
       "    </tr>\n",
       "    <tr>\n",
       "      <th>3</th>\n",
       "      <td>4</td>\n",
       "      <td>7230 LEE DEFOREST DR</td>\n",
       "      <td>COLUMBIA, MD 21046</td>\n",
       "    </tr>\n",
       "    <tr>\n",
       "      <th>4</th>\n",
       "      <td>5</td>\n",
       "      <td>7061 COLUMBIA GATEWAY DR</td>\n",
       "      <td>COLUMBIA, MD 21046</td>\n",
       "    </tr>\n",
       "    <tr>\n",
       "      <th>...</th>\n",
       "      <td>...</td>\n",
       "      <td>...</td>\n",
       "      <td>...</td>\n",
       "    </tr>\n",
       "    <tr>\n",
       "      <th>208</th>\n",
       "      <td>209</td>\n",
       "      <td>7277 CALM SUNSET</td>\n",
       "      <td>COLUMBIA, MD 21046</td>\n",
       "    </tr>\n",
       "    <tr>\n",
       "      <th>209</th>\n",
       "      <td>210</td>\n",
       "      <td>9161 COMMERCE CENTER DR</td>\n",
       "      <td>COLUMBIA, MD 21046</td>\n",
       "    </tr>\n",
       "    <tr>\n",
       "      <th>210</th>\n",
       "      <td>211</td>\n",
       "      <td>8601 ROBERT FULTON DR</td>\n",
       "      <td>COLUMBIA, MD 21046</td>\n",
       "    </tr>\n",
       "    <tr>\n",
       "      <th>211</th>\n",
       "      <td>212</td>\n",
       "      <td>6741 COLUMBIA GATEWAY DR</td>\n",
       "      <td>COLUMBIA, MD 21046</td>\n",
       "    </tr>\n",
       "    <tr>\n",
       "      <th>212</th>\n",
       "      <td>213</td>\n",
       "      <td>9131 COMMERCE CENTER DR</td>\n",
       "      <td>COLUMBIA, MD 21046</td>\n",
       "    </tr>\n",
       "  </tbody>\n",
       "</table>\n",
       "<p>213 rows × 3 columns</p>\n",
       "</div>"
      ],
      "text/plain": [
       "     No.                   Address      City/State/Zip\n",
       "0      1  7178 COLUMBIA GATEWAY DR  COLUMBIA, MD 21046\n",
       "1      2      7220 LEE DEFOREST DR  COLUMBIA, MD 21046\n",
       "2      3           7224 SOLAR WALK  COLUMBIA, MD 21046\n",
       "3      4      7230 LEE DEFOREST DR  COLUMBIA, MD 21046\n",
       "4      5  7061 COLUMBIA GATEWAY DR  COLUMBIA, MD 21046\n",
       "..   ...                       ...                 ...\n",
       "208  209          7277 CALM SUNSET  COLUMBIA, MD 21046\n",
       "209  210   9161 COMMERCE CENTER DR  COLUMBIA, MD 21046\n",
       "210  211     8601 ROBERT FULTON DR  COLUMBIA, MD 21046\n",
       "211  212  6741 COLUMBIA GATEWAY DR  COLUMBIA, MD 21046\n",
       "212  213   9131 COMMERCE CENTER DR  COLUMBIA, MD 21046\n",
       "\n",
       "[213 rows x 3 columns]"
      ]
     },
     "execution_count": 114,
     "metadata": {},
     "output_type": "execute_result"
    }
   ],
   "source": [
    "import pandas as pd\n",
    "\n",
    "pd.read_csv(\"dataset/sample/All_Gateway_Properties.csv\")"
   ]
  },
  {
   "cell_type": "code",
   "execution_count": null,
   "id": "86a9918d-c70b-469e-a7ed-8ac801d0de6a",
   "metadata": {},
   "outputs": [],
   "source": []
  }
 ],
 "metadata": {
  "kernelspec": {
   "display_name": "Python 3 (ipykernel)",
   "language": "python",
   "name": "python3"
  },
  "language_info": {
   "codemirror_mode": {
    "name": "ipython",
    "version": 3
   },
   "file_extension": ".py",
   "mimetype": "text/x-python",
   "name": "python",
   "nbconvert_exporter": "python",
   "pygments_lexer": "ipython3",
   "version": "3.9.7"
  }
 },
 "nbformat": 4,
 "nbformat_minor": 5
}
