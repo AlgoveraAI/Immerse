{
 "cells": [
  {
   "cell_type": "markdown",
   "id": "56af5ef6-48cf-46eb-898f-508881ffa646",
   "metadata": {},
   "source": [
    "# IPFS in Data Science"
   ]
  },
  {
   "cell_type": "code",
   "execution_count": 47,
   "id": "1287ebba-ad89-4ecc-9c82-bad49853555a",
   "metadata": {},
   "outputs": [],
   "source": [
    "from storage.nftstorage import NFTStorage\n",
    "from storage.ipfs import IPFS\n",
    "from storage.ipfs import read_file\n",
    "from storage.pinataV1 import PinataV1\n",
    "import pandas as pd"
   ]
  },
  {
   "cell_type": "code",
   "execution_count": 37,
   "id": "9dcb6348-f50a-4c41-add0-b972141658db",
   "metadata": {},
   "outputs": [],
   "source": [
    "nft_storage = NFTStorage()\n",
    "nft_storage_creds = nft_storage.get_creds()\n",
    "ipfs = IPFS()\n",
    "pinata = PinataV1()\n",
    "pinata_creds = pinata.get_creds()"
   ]
  },
  {
   "cell_type": "code",
   "execution_count": 38,
   "id": "eabec80e-01b8-41fa-8740-136114a3390b",
   "metadata": {},
   "outputs": [],
   "source": [
    "# Upload to NFT Storage and Pin\n",
    "\n",
    "response,status = nft_storage.upload_file(\"dataset/sample/aave2.csv\",nft_storage_creds)\n",
    "\n",
    "ipfs_cid = response[\"value\"][\"cid\"]"
   ]
  },
  {
   "cell_type": "code",
   "execution_count": 56,
   "id": "eebc75c1-4749-4d58-aee1-72c266a77086",
   "metadata": {},
   "outputs": [
    {
     "data": {
      "text/plain": [
       "({'id': '6e81f7e0-652b-42b9-b5b3-7a0f234e4415',\n",
       "  'ipfsHash': 'bafybeif6gdxdpleultgqobk65dhy6gvnozu27a3lbm4xwu6cqo6ayy3x6q',\n",
       "  'status': 'prechecking',\n",
       "  'name': 'aave.csv'},\n",
       " 200)"
      ]
     },
     "execution_count": 56,
     "metadata": {},
     "output_type": "execute_result"
    }
   ],
   "source": [
    "# Pin file to pinata\n",
    "pinata.pin(\"aave.csv\",ipfs_cid,pinata_creds)\n",
    "\n",
    "# pinata.unpin(\"bafybeif6gdxdpleultgqobk65dhy6gvnozu27a3lbm4xwu6cqo6ayy3x6q\")"
   ]
  },
  {
   "cell_type": "code",
   "execution_count": 61,
   "id": "cb2d3015-2e3e-40a3-8946-a8fcae173261",
   "metadata": {},
   "outputs": [
    {
     "data": {
      "text/plain": [
       "200"
      ]
     },
     "execution_count": 61,
     "metadata": {},
     "output_type": "execute_result"
    }
   ],
   "source": [
    "pinata.edit_hash(\"aave.csv\",ipfs_cid,pinata_creds)"
   ]
  },
  {
   "cell_type": "code",
   "execution_count": 42,
   "id": "081d4017-0f6d-4f33-b7af-fde3dd60a15c",
   "metadata": {},
   "outputs": [
    {
     "name": "stdout",
     "output_type": "stream",
     "text": [
      "Retrieved file hash bafybeif6gdxdpleultgqobk65dhy6gvnozu27a3lbm4xwu6cqo6ayy3x6q from https://cf-ipfs.com Response 200\n"
     ]
    }
   ],
   "source": [
    "fn = ipfs.get_file(ipfs_cid,local_node=False)"
   ]
  },
  {
   "cell_type": "code",
   "execution_count": 43,
   "id": "50712090-834f-468f-ba44-fff9cfe6528d",
   "metadata": {},
   "outputs": [
    {
     "data": {
      "text/html": [
       "<div>\n",
       "<style scoped>\n",
       "    .dataframe tbody tr th:only-of-type {\n",
       "        vertical-align: middle;\n",
       "    }\n",
       "\n",
       "    .dataframe tbody tr th {\n",
       "        vertical-align: top;\n",
       "    }\n",
       "\n",
       "    .dataframe thead th {\n",
       "        text-align: right;\n",
       "    }\n",
       "</style>\n",
       "<table border=\"1\" class=\"dataframe\">\n",
       "  <thead>\n",
       "    <tr style=\"text-align: right;\">\n",
       "      <th></th>\n",
       "      <th>symbol</th>\n",
       "      <th>date</th>\n",
       "      <th>protocol</th>\n",
       "      <th>avg_stable_borrow_rate</th>\n",
       "      <th>avg_variable_borrow_rate</th>\n",
       "    </tr>\n",
       "  </thead>\n",
       "  <tbody>\n",
       "    <tr>\n",
       "      <th>0</th>\n",
       "      <td>USDC</td>\n",
       "      <td>2021-12-15T17:04:10+00:00</td>\n",
       "      <td>aave_v2</td>\n",
       "      <td>NaN</td>\n",
       "      <td>3.651738</td>\n",
       "    </tr>\n",
       "    <tr>\n",
       "      <th>1</th>\n",
       "      <td>DAI</td>\n",
       "      <td>2021-12-15T16:55:56+00:00</td>\n",
       "      <td>aave_v2</td>\n",
       "      <td>NaN</td>\n",
       "      <td>3.844345</td>\n",
       "    </tr>\n",
       "    <tr>\n",
       "      <th>2</th>\n",
       "      <td>USDC</td>\n",
       "      <td>2021-12-15T16:54:39+00:00</td>\n",
       "      <td>aave_v2</td>\n",
       "      <td>NaN</td>\n",
       "      <td>3.635794</td>\n",
       "    </tr>\n",
       "    <tr>\n",
       "      <th>3</th>\n",
       "      <td>USDT</td>\n",
       "      <td>2021-12-15T16:52:05+00:00</td>\n",
       "      <td>aave_v2</td>\n",
       "      <td>NaN</td>\n",
       "      <td>3.458650</td>\n",
       "    </tr>\n",
       "    <tr>\n",
       "      <th>4</th>\n",
       "      <td>USDC</td>\n",
       "      <td>2021-12-15T16:44:00+00:00</td>\n",
       "      <td>aave_v2</td>\n",
       "      <td>NaN</td>\n",
       "      <td>3.623783</td>\n",
       "    </tr>\n",
       "    <tr>\n",
       "      <th>...</th>\n",
       "      <td>...</td>\n",
       "      <td>...</td>\n",
       "      <td>...</td>\n",
       "      <td>...</td>\n",
       "      <td>...</td>\n",
       "    </tr>\n",
       "    <tr>\n",
       "      <th>100564</th>\n",
       "      <td>USDC</td>\n",
       "      <td>2020-12-02T15:04:19+00:00</td>\n",
       "      <td>aave_v2</td>\n",
       "      <td>NaN</td>\n",
       "      <td>1.591810</td>\n",
       "    </tr>\n",
       "    <tr>\n",
       "      <th>100565</th>\n",
       "      <td>DAI</td>\n",
       "      <td>2020-12-02T14:57:43+00:00</td>\n",
       "      <td>aave_v2</td>\n",
       "      <td>NaN</td>\n",
       "      <td>0.075189</td>\n",
       "    </tr>\n",
       "    <tr>\n",
       "      <th>100566</th>\n",
       "      <td>DAI</td>\n",
       "      <td>2020-12-02T13:10:19+00:00</td>\n",
       "      <td>aave_v2</td>\n",
       "      <td>NaN</td>\n",
       "      <td>0.141511</td>\n",
       "    </tr>\n",
       "    <tr>\n",
       "      <th>100567</th>\n",
       "      <td>DAI</td>\n",
       "      <td>2020-12-02T09:34:18+00:00</td>\n",
       "      <td>aave_v2</td>\n",
       "      <td>NaN</td>\n",
       "      <td>2.500015</td>\n",
       "    </tr>\n",
       "    <tr>\n",
       "      <th>100568</th>\n",
       "      <td>DAI</td>\n",
       "      <td>2020-12-01T16:46:58+00:00</td>\n",
       "      <td>aave_v2</td>\n",
       "      <td>NaN</td>\n",
       "      <td>1.250000</td>\n",
       "    </tr>\n",
       "  </tbody>\n",
       "</table>\n",
       "<p>100569 rows × 5 columns</p>\n",
       "</div>"
      ],
      "text/plain": [
       "       symbol                       date protocol  avg_stable_borrow_rate  \\\n",
       "0        USDC  2021-12-15T17:04:10+00:00  aave_v2                     NaN   \n",
       "1         DAI  2021-12-15T16:55:56+00:00  aave_v2                     NaN   \n",
       "2        USDC  2021-12-15T16:54:39+00:00  aave_v2                     NaN   \n",
       "3        USDT  2021-12-15T16:52:05+00:00  aave_v2                     NaN   \n",
       "4        USDC  2021-12-15T16:44:00+00:00  aave_v2                     NaN   \n",
       "...       ...                        ...      ...                     ...   \n",
       "100564   USDC  2020-12-02T15:04:19+00:00  aave_v2                     NaN   \n",
       "100565    DAI  2020-12-02T14:57:43+00:00  aave_v2                     NaN   \n",
       "100566    DAI  2020-12-02T13:10:19+00:00  aave_v2                     NaN   \n",
       "100567    DAI  2020-12-02T09:34:18+00:00  aave_v2                     NaN   \n",
       "100568    DAI  2020-12-01T16:46:58+00:00  aave_v2                     NaN   \n",
       "\n",
       "        avg_variable_borrow_rate  \n",
       "0                       3.651738  \n",
       "1                       3.844345  \n",
       "2                       3.635794  \n",
       "3                       3.458650  \n",
       "4                       3.623783  \n",
       "...                          ...  \n",
       "100564                  1.591810  \n",
       "100565                  0.075189  \n",
       "100566                  0.141511  \n",
       "100567                  2.500015  \n",
       "100568                  1.250000  \n",
       "\n",
       "[100569 rows x 5 columns]"
      ]
     },
     "execution_count": 43,
     "metadata": {},
     "output_type": "execute_result"
    }
   ],
   "source": [
    "read_file(fn.content)"
   ]
  },
  {
   "cell_type": "code",
   "execution_count": 62,
   "id": "80f302f5-c636-4ce9-9ad7-661632d750ce",
   "metadata": {},
   "outputs": [],
   "source": [
    "params = {\"sort\":\"DESC\",\"status\":None,\"prechecking\":None,\n",
    "          \"searching\":None,\"retrieving\":None,\n",
    "          \"expired\":None,\"over_free_limit\":None,\n",
    "          \"over_max_size\":None,\"invalid_object\":None,\n",
    "          \"bad_host_node\":None,\"ipfs_pin_hash\":ipfs_cid,\n",
    "          \"limit\":None,\"offset\":None,\"metadata[name]\":None,\n",
    "          \"metadatakeyvalues\":\"keyvalues\"\n",
    "         }\n",
    "\n",
    "pf,status = pinata.get_pinned_files(pinata_creds,params)\n",
    "df_pinata = pd.DataFrame(pf[\"rows\"])"
   ]
  },
  {
   "cell_type": "code",
   "execution_count": 90,
   "id": "11f9c5a1-6ede-4e3f-ad8d-166103a010da",
   "metadata": {},
   "outputs": [],
   "source": [
    "# Save IPFS hash to filename\n",
    "df_pinata[\"filename\"]=df_pinata[\"metadata\"].apply(lambda x: x[\"name\"])\n",
    "file_dict = df_pinata[[\"filename\",\"ipfs_pin_hash\"]].drop_duplicates(subset=\"filename\").set_index(\"filename\").to_json(\"fileDictionary/fileDict.json\")"
   ]
  },
  {
   "cell_type": "markdown",
   "id": "4336cbd8-8fc8-41e7-b948-9cbbde24bd71",
   "metadata": {},
   "source": [
    "# Load Files"
   ]
  },
  {
   "cell_type": "code",
   "execution_count": 93,
   "id": "20e19035-c672-4166-9549-89ebfd693a3f",
   "metadata": {},
   "outputs": [
    {
     "data": {
      "text/plain": [
       "{'ipfs_pin_hash': {'aave.csv': 'bafybeif6gdxdpleultgqobk65dhy6gvnozu27a3lbm4xwu6cqo6ayy3x6q',\n",
       "  'compound.csv': 'bafybeie4yihf42kahspmhqkmovpxt2iliqqikbriwsglb6reujvzsnp5ke',\n",
       "  'Popcorn - Dune Dashboards - 03182022.md': 'QmQxh7mQhpuCCSt7ryU2MCqc4zdoxVQfSJF4Mun2AUTVqd',\n",
       "  'top600_usernames_notfound.txt': 'QmewtgEqcXHLDgCt7oEahyjEyxb63sVkskhypeUVKsNnv6',\n",
       "  'reddituserlist.txt': 'bafkreie2muwin7je3fc5uaepmc6jwt6mv6mfxiiwbm2ynutrfsue5kdupy',\n",
       "  'storage': 'QmRxu3HoofyTntXhCSXBv98tPDWLdgNee32Z1nMQcCbxU7',\n",
       "  'test.py': 'bafybeif36uqfqj5on23qfdl3nglc7ncgcbnz4ixpleomskg7pqn3xmlgfi',\n",
       "  'happy.py': 'QmWvvVY9meNZ6b6UXr8Vy7J2Z4eSS4YpPJ5nyrgfd7ZFMP',\n",
       "  'All_Gateway_Properties.csv': 'QmZ8bNMNXodiWRJDvDHNCAE1EsnbaiTZaQJafm2pSTYBFh'}}"
      ]
     },
     "execution_count": 93,
     "metadata": {},
     "output_type": "execute_result"
    }
   ],
   "source": [
    "import json\n",
    "\n",
    "with open(\"fileDictionary/fileDict.json\") as f:\n",
    "    \n",
    "    ipfs_files = json.loads(f.read())\n",
    "    \n",
    "ipfs_files"
   ]
  },
  {
   "cell_type": "code",
   "execution_count": 94,
   "id": "5df3defc-453d-460d-9afc-5f72a236a3b9",
   "metadata": {},
   "outputs": [
    {
     "name": "stdout",
     "output_type": "stream",
     "text": [
      "Retrieved file hash bafybeie4yihf42kahspmhqkmovpxt2iliqqikbriwsglb6reujvzsnp5ke from https://astyanax.io Response 200\n"
     ]
    }
   ],
   "source": [
    "fn = ipfs.get_file(\"bafybeie4yihf42kahspmhqkmovpxt2iliqqikbriwsglb6reujvzsnp5ke\",local_node=False)"
   ]
  },
  {
   "cell_type": "code",
   "execution_count": null,
   "id": "0d211a73-e391-4653-bb3c-122c38577621",
   "metadata": {},
   "outputs": [],
   "source": [
    "read_file(fn.content)"
   ]
  }
 ],
 "metadata": {
  "kernelspec": {
   "display_name": "Python 3 (ipykernel)",
   "language": "python",
   "name": "python3"
  },
  "language_info": {
   "codemirror_mode": {
    "name": "ipython",
    "version": 3
   },
   "file_extension": ".py",
   "mimetype": "text/x-python",
   "name": "python",
   "nbconvert_exporter": "python",
   "pygments_lexer": "ipython3",
   "version": "3.9.7"
  }
 },
 "nbformat": 4,
 "nbformat_minor": 5
}
