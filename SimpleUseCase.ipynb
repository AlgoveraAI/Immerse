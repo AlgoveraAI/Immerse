{
 "cells": [
  {
   "cell_type": "code",
   "execution_count": 1,
   "id": "7385fde8-48f0-4016-be2c-54e3535e6bd7",
   "metadata": {},
   "outputs": [],
   "source": [
    "#main protocol\n",
    "from storage.ipfs import IPFS\n",
    "\n",
    "#pinning providers\n",
    "from storage.nftstorage import NFTStorage\n",
    "from storage.pinataV1 import PinataV1\n",
    "\n",
    "\n",
    "#helpers\n",
    "from helpers.helper import read_file\n",
    "import pandas as pd"
   ]
  },
  {
   "cell_type": "code",
   "execution_count": 19,
   "id": "b709d22e-973a-49c4-aff4-eaa557008a9e",
   "metadata": {},
   "outputs": [],
   "source": [
    "#Load in credentials - Not an optimal solution and can investigate a better solution with something like Lit Protocol\n",
    "\n",
    "nft_storage = NFTStorage()\n",
    "nft_storage_creds = nft_storage.get_creds()\n",
    "ipfs = IPFS()\n",
    "pinata = PinataV1()\n",
    "pinata_creds = pinata.get_creds()"
   ]
  },
  {
   "cell_type": "markdown",
   "id": "1821aaa2-ef70-4a24-96e6-1b9b61a346dc",
   "metadata": {},
   "source": [
    "# Able to take a standard file/directory/dataset and put it on IPFS purely through python"
   ]
  },
  {
   "cell_type": "code",
   "execution_count": 4,
   "id": "ade1297e-ce83-4ffc-9117-700113a50092",
   "metadata": {},
   "outputs": [],
   "source": [
    "#Able to take a standard file/directory/dataset and put it on IPFS purely through python and use one of the pinning services (eg Pinata)"
   ]
  },
  {
   "cell_type": "code",
   "execution_count": 11,
   "id": "ec62ab74-3953-4a67-9979-1bb6cf274806",
   "metadata": {},
   "outputs": [
    {
     "name": "stdout",
     "output_type": "stream",
     "text": [
      "Help on method upload_file in module storage.pinataV1:\n",
      "\n",
      "upload_file(cred, path, fn, pinataMetadata={}) method of storage.pinataV1.PinataV1 instance\n",
      "\n"
     ]
    }
   ],
   "source": [
    "help(pinata.upload_file)"
   ]
  },
  {
   "cell_type": "code",
   "execution_count": 15,
   "id": "e3f05313-965c-4812-833d-301458085f69",
   "metadata": {},
   "outputs": [
    {
     "data": {
      "text/plain": [
       "({'IpfsHash': 'QmWAQjxm6CKaAjHjwPSqWmN8RMecuHS1bxEufqCNVSq96e',\n",
       "  'PinSize': 5985301,\n",
       "  'Timestamp': '2022-03-29T17:28:48.909Z',\n",
       "  'isDuplicate': True},\n",
       " 200)"
      ]
     },
     "execution_count": 15,
     "metadata": {},
     "output_type": "execute_result"
    }
   ],
   "source": [
    "pinata.upload_file(pinata_creds,\"dataset/compound.csv\",\"compound.csv\",pinataMetadata={\"DAO\":\"DeepDefi\"})"
   ]
  },
  {
   "cell_type": "code",
   "execution_count": 16,
   "id": "fad1f2a7-88fc-4e6c-a6ee-4b2826a01821",
   "metadata": {},
   "outputs": [
    {
     "name": "stdout",
     "output_type": "stream",
     "text": [
      "Help on method upload_file in module storage.nftstorage:\n",
      "\n",
      "upload_file(cred, fn) method of storage.nftstorage.NFTStorage instance\n",
      "\n"
     ]
    }
   ],
   "source": [
    "help(nft_storage.upload_file)"
   ]
  },
  {
   "cell_type": "code",
   "execution_count": 21,
   "id": "b02d4dea-4ae8-4656-8e9e-f96aa7ec09e4",
   "metadata": {},
   "outputs": [
    {
     "data": {
      "text/plain": [
       "({'ok': True,\n",
       "  'value': {'cid': 'bafybeie4yihf42kahspmhqkmovpxt2iliqqikbriwsglb6reujvzsnp5ke',\n",
       "   'created': '2022-03-22T16:39:29.612+00:00',\n",
       "   'type': 'form-data',\n",
       "   'scope': 'audiocentive',\n",
       "   'files': [],\n",
       "   'size': 5985025,\n",
       "   'name': 'Upload at 2022-05-17T18:44:57.682Z',\n",
       "   'pin': {'cid': 'bafybeie4yihf42kahspmhqkmovpxt2iliqqikbriwsglb6reujvzsnp5ke',\n",
       "    'created': '2022-03-22T16:39:29.612+00:00',\n",
       "    'size': 5985025,\n",
       "    'status': 'pinned'},\n",
       "   'deals': [{'status': 'active',\n",
       "     'lastChanged': '2022-03-22T20:07:34.079473+00:00',\n",
       "     'chainDealID': 4773994,\n",
       "     'datamodelSelector': 'Links/128/Hash/Links/2/Hash/Links/0/Hash',\n",
       "     'statusText': 'containing sector active as of 2022-03-23 01:42:30 at epoch 1656445',\n",
       "     'dealActivation': '2022-03-24T04:12:30+00:00',\n",
       "     'dealExpiration': '2023-08-16T04:12:30+00:00',\n",
       "     'miner': 'f010446',\n",
       "     'pieceCid': 'baga6ea4seaqalwflqmv7tzz6tfyp463iuvfsxmjfikzp2lmig576ojwjliiw4gy',\n",
       "     'batchRootCid': 'bafybeidf7wexllianrxbvq326ql3t42x5uvhqwnjdpumph4td23e4hwkmm'},\n",
       "    {'status': 'active',\n",
       "     'lastChanged': '2022-03-22T20:27:01.689594+00:00',\n",
       "     'chainDealID': 4774537,\n",
       "     'datamodelSelector': 'Links/128/Hash/Links/2/Hash/Links/0/Hash',\n",
       "     'statusText': 'containing sector active as of 2022-03-23 01:22:00 at epoch 1656404',\n",
       "     'dealActivation': '2022-03-23T05:13:00+00:00',\n",
       "     'dealExpiration': '2023-08-15T05:13:00+00:00',\n",
       "     'miner': 'f01345523',\n",
       "     'pieceCid': 'baga6ea4seaqalwflqmv7tzz6tfyp463iuvfsxmjfikzp2lmig576ojwjliiw4gy',\n",
       "     'batchRootCid': 'bafybeidf7wexllianrxbvq326ql3t42x5uvhqwnjdpumph4td23e4hwkmm'},\n",
       "    {'status': 'active',\n",
       "     'lastChanged': '2022-03-22T21:17:45.741429+00:00',\n",
       "     'chainDealID': 4775851,\n",
       "     'datamodelSelector': 'Links/128/Hash/Links/2/Hash/Links/0/Hash',\n",
       "     'statusText': 'containing sector active as of 2022-03-23 02:40:00 at epoch 1656560',\n",
       "     'dealActivation': '2022-03-23T13:07:30+00:00',\n",
       "     'dealExpiration': '2023-08-15T13:07:30+00:00',\n",
       "     'miner': 'f032824',\n",
       "     'pieceCid': 'baga6ea4seaqalwflqmv7tzz6tfyp463iuvfsxmjfikzp2lmig576ojwjliiw4gy',\n",
       "     'batchRootCid': 'bafybeidf7wexllianrxbvq326ql3t42x5uvhqwnjdpumph4td23e4hwkmm'}]}},\n",
       " 200)"
      ]
     },
     "execution_count": 21,
     "metadata": {},
     "output_type": "execute_result"
    }
   ],
   "source": [
    "#Able to take a standard file/directory/dataset and put it on IPFS purely through python and use one of the long-term storage (eg Estuary)\n",
    "\n",
    "nft_storage.upload_file(nft_storage_creds,\"dataset/compound.csv\")"
   ]
  },
  {
   "cell_type": "code",
   "execution_count": 24,
   "id": "2900635f-2ac6-4a7a-83da-fdd6c2f1998b",
   "metadata": {},
   "outputs": [
    {
     "name": "stdout",
     "output_type": "stream",
     "text": [
      "Retrieved file hash bafybeie4yihf42kahspmhqkmovpxt2iliqqikbriwsglb6reujvzsnp5ke from https://cf-ipfs.com Response 200\n"
     ]
    },
    {
     "data": {
      "text/html": [
       "<div>\n",
       "<style scoped>\n",
       "    .dataframe tbody tr th:only-of-type {\n",
       "        vertical-align: middle;\n",
       "    }\n",
       "\n",
       "    .dataframe tbody tr th {\n",
       "        vertical-align: top;\n",
       "    }\n",
       "\n",
       "    .dataframe thead th {\n",
       "        text-align: right;\n",
       "    }\n",
       "</style>\n",
       "<table border=\"1\" class=\"dataframe\">\n",
       "  <thead>\n",
       "    <tr style=\"text-align: right;\">\n",
       "      <th></th>\n",
       "      <th>Timestamp</th>\n",
       "      <th>Token</th>\n",
       "      <th>Borrowing Rate</th>\n",
       "      <th>Deposit Rate</th>\n",
       "      <th>Borrow Volume</th>\n",
       "      <th>Supply Volume</th>\n",
       "    </tr>\n",
       "  </thead>\n",
       "  <tbody>\n",
       "    <tr>\n",
       "      <th>0</th>\n",
       "      <td>1609471800</td>\n",
       "      <td>DAI</td>\n",
       "      <td>0.073195</td>\n",
       "      <td>0.050982</td>\n",
       "      <td>1.069964e+09</td>\n",
       "      <td>6.196481e+10</td>\n",
       "    </tr>\n",
       "    <tr>\n",
       "      <th>1</th>\n",
       "      <td>1609471800</td>\n",
       "      <td>USDC</td>\n",
       "      <td>0.087046</td>\n",
       "      <td>0.066993</td>\n",
       "      <td>7.285430e+08</td>\n",
       "      <td>4.063042e+10</td>\n",
       "    </tr>\n",
       "    <tr>\n",
       "      <th>2</th>\n",
       "      <td>1609471800</td>\n",
       "      <td>USDT</td>\n",
       "      <td>0.099588</td>\n",
       "      <td>0.077548</td>\n",
       "      <td>6.430536e+07</td>\n",
       "      <td>3.696225e+09</td>\n",
       "    </tr>\n",
       "    <tr>\n",
       "      <th>3</th>\n",
       "      <td>1609471800</td>\n",
       "      <td>ETH</td>\n",
       "      <td>0.022952</td>\n",
       "      <td>0.000489</td>\n",
       "      <td>3.055365e+04</td>\n",
       "      <td>5.663257e+07</td>\n",
       "    </tr>\n",
       "    <tr>\n",
       "      <th>4</th>\n",
       "      <td>1609473600</td>\n",
       "      <td>DAI</td>\n",
       "      <td>0.073101</td>\n",
       "      <td>0.050912</td>\n",
       "      <td>1.069961e+09</td>\n",
       "      <td>6.197050e+10</td>\n",
       "    </tr>\n",
       "    <tr>\n",
       "      <th>...</th>\n",
       "      <td>...</td>\n",
       "      <td>...</td>\n",
       "      <td>...</td>\n",
       "      <td>...</td>\n",
       "      <td>...</td>\n",
       "      <td>...</td>\n",
       "    </tr>\n",
       "    <tr>\n",
       "      <th>66789</th>\n",
       "      <td>1639539000</td>\n",
       "      <td>ETH</td>\n",
       "      <td>0.027215</td>\n",
       "      <td>0.000761</td>\n",
       "      <td>5.316478e+04</td>\n",
       "      <td>7.481990e+07</td>\n",
       "    </tr>\n",
       "    <tr>\n",
       "      <th>66790</th>\n",
       "      <td>1639540800</td>\n",
       "      <td>ETH</td>\n",
       "      <td>0.027214</td>\n",
       "      <td>0.000761</td>\n",
       "      <td>5.316480e+04</td>\n",
       "      <td>7.482188e+07</td>\n",
       "    </tr>\n",
       "    <tr>\n",
       "      <th>66791</th>\n",
       "      <td>1639542600</td>\n",
       "      <td>ETH</td>\n",
       "      <td>0.027214</td>\n",
       "      <td>0.000761</td>\n",
       "      <td>5.316488e+04</td>\n",
       "      <td>7.482482e+07</td>\n",
       "    </tr>\n",
       "    <tr>\n",
       "      <th>66792</th>\n",
       "      <td>1639544400</td>\n",
       "      <td>ETH</td>\n",
       "      <td>0.027226</td>\n",
       "      <td>0.000764</td>\n",
       "      <td>5.316501e+04</td>\n",
       "      <td>7.461519e+07</td>\n",
       "    </tr>\n",
       "    <tr>\n",
       "      <th>66793</th>\n",
       "      <td>1639546200</td>\n",
       "      <td>ETH</td>\n",
       "      <td>0.027229</td>\n",
       "      <td>0.000764</td>\n",
       "      <td>5.316508e+04</td>\n",
       "      <td>7.456406e+07</td>\n",
       "    </tr>\n",
       "  </tbody>\n",
       "</table>\n",
       "<p>66794 rows × 6 columns</p>\n",
       "</div>"
      ],
      "text/plain": [
       "        Timestamp Token  Borrowing Rate  Deposit Rate  Borrow Volume  \\\n",
       "0      1609471800   DAI        0.073195      0.050982   1.069964e+09   \n",
       "1      1609471800  USDC        0.087046      0.066993   7.285430e+08   \n",
       "2      1609471800  USDT        0.099588      0.077548   6.430536e+07   \n",
       "3      1609471800   ETH        0.022952      0.000489   3.055365e+04   \n",
       "4      1609473600   DAI        0.073101      0.050912   1.069961e+09   \n",
       "...           ...   ...             ...           ...            ...   \n",
       "66789  1639539000   ETH        0.027215      0.000761   5.316478e+04   \n",
       "66790  1639540800   ETH        0.027214      0.000761   5.316480e+04   \n",
       "66791  1639542600   ETH        0.027214      0.000761   5.316488e+04   \n",
       "66792  1639544400   ETH        0.027226      0.000764   5.316501e+04   \n",
       "66793  1639546200   ETH        0.027229      0.000764   5.316508e+04   \n",
       "\n",
       "       Supply Volume  \n",
       "0       6.196481e+10  \n",
       "1       4.063042e+10  \n",
       "2       3.696225e+09  \n",
       "3       5.663257e+07  \n",
       "4       6.197050e+10  \n",
       "...              ...  \n",
       "66789   7.481990e+07  \n",
       "66790   7.482188e+07  \n",
       "66791   7.482482e+07  \n",
       "66792   7.461519e+07  \n",
       "66793   7.456406e+07  \n",
       "\n",
       "[66794 rows x 6 columns]"
      ]
     },
     "execution_count": 24,
     "metadata": {},
     "output_type": "execute_result"
    }
   ],
   "source": [
    "#Able to locate a file/directory/dataset on the public/private gateway/pinning services/long-term storage and pull/download through python\n",
    "\n",
    "response,response_statuscode = ipfs.get_file(\"bafybeie4yihf42kahspmhqkmovpxt2iliqqikbriwsglb6reujvzsnp5ke\")\n",
    "\n",
    "read_file(response.content)"
   ]
  },
  {
   "cell_type": "code",
   "execution_count": 8,
   "id": "2fe6759f-9857-494f-9bc1-fc343928c392",
   "metadata": {},
   "outputs": [],
   "source": [
    "#Able to add a dataset to a discovery platform"
   ]
  },
  {
   "cell_type": "code",
   "execution_count": 9,
   "id": "223454a2-c7de-479d-8806-2c661dd9a9f8",
   "metadata": {},
   "outputs": [],
   "source": [
    "#Able to build a discovery platform (?)"
   ]
  },
  {
   "cell_type": "code",
   "execution_count": 7,
   "id": "4879c80b-ef7d-4151-a910-c19dd585bed7",
   "metadata": {},
   "outputs": [],
   "source": [
    "#Able to add identified access control (eg ocean or other encryption/decryption) and able to do (a) - (d)"
   ]
  },
  {
   "cell_type": "code",
   "execution_count": null,
   "id": "8ab2755e-becb-4426-ac08-af02586f48af",
   "metadata": {},
   "outputs": [],
   "source": []
  }
 ],
 "metadata": {
  "kernelspec": {
   "display_name": "Python 3 (ipykernel)",
   "language": "python",
   "name": "python3"
  },
  "language_info": {
   "codemirror_mode": {
    "name": "ipython",
    "version": 3
   },
   "file_extension": ".py",
   "mimetype": "text/x-python",
   "name": "python",
   "nbconvert_exporter": "python",
   "pygments_lexer": "ipython3",
   "version": "3.9.7"
  }
 },
 "nbformat": 4,
 "nbformat_minor": 5
}
