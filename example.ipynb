{
 "cells": [
  {
   "cell_type": "markdown",
   "metadata": {
    "tags": []
   },
   "source": [
    "# Goal of this notebook is to create a flow for a data scientist to be able to\n",
    "- [x] Create a wallet, see balances\n",
    "- [x] Get tokens from faucet using links (Looks like the faucets discourage automated methods)\n",
    "- [] \n",
    "- [ ] Search for a dataset on Ocean\n",
    "- [ ] Download the dataset\n",
    "\n",
    "\n",
    "Original Notebook found here: https://github.com/AlgoveraAI/generative-art/blob/main/notebooks/1-cryptopunks-dataset.ipynb\n",
    "<br>IPFS Code is found here: https://docs.ipfs.io/how-to/command-line-quick-start/#take-your-node-online\n"
   ]
  },
  {
   "cell_type": "code",
   "execution_count": 1,
   "metadata": {},
   "outputs": [],
   "source": [
    "from IPython.display import Image "
   ]
  },
  {
   "cell_type": "markdown",
   "metadata": {},
   "source": [
    "# Create IPFS Node"
   ]
  },
  {
   "cell_type": "code",
   "execution_count": 2,
   "metadata": {},
   "outputs": [
    {
     "name": "stdout",
     "output_type": "stream",
     "text": [
      "  % Total    % Received % Xferd  Average Speed   Time    Time     Time  Current\n",
      "                                 Dload  Upload   Total   Spent    Left  Speed\n",
      "100 23.1M  100 23.1M    0     0  13.2M      0  0:00:01  0:00:01 --:--:-- 12.9M  0:00:01  0:00:01 --:--:-- 13.2M\n",
      "tar: Error opening archive: Failed to open 'ipfs/go-ipfs_v0.11.0_darwin-amd64.tar.gz'\n",
      "zsh:cd:1: no such file or directory: go-ipfs\n",
      "bash: go-ipfs/install.sh: No such file or directory\n",
      "ipfs version 0.11.0\n",
      "Error: ipfs daemon is running. please stop it to run this command\n",
      "Use 'ipfs init --help' for information about this command\n",
      "Hello and Welcome to IPFS!\n",
      "\n",
      "██╗██████╗ ███████╗███████╗\n",
      "██║██╔══██╗██╔════╝██╔════╝\n",
      "██║██████╔╝█████╗  ███████╗\n",
      "██║██╔═══╝ ██╔══╝  ╚════██║\n",
      "██║██║     ██║     ███████║\n",
      "╚═╝╚═╝     ╚═╝     ╚══════╝\n",
      "\n",
      "If you're seeing this, you have successfully installed\n",
      "IPFS and are now interfacing with the ipfs merkledag!\n",
      "\n",
      " -------------------------------------------------------\n",
      "| Warning:                                              |\n",
      "|   This is alpha software. Use at your own discretion! |\n",
      "|   Much is missing or lacking polish. There are bugs.  |\n",
      "|   Not yet secure. Read the security notes for more.   |\n",
      " -------------------------------------------------------\n",
      "\n",
      "Check out some of the other files in this directory:\n",
      "\n",
      "  ./about\n",
      "  ./help\n",
      "  ./quick-start     <-- usage examples\n",
      "  ./readme          <-- this file\n",
      "  ./security-notes\n"
     ]
    }
   ],
   "source": [
    "!curl -O https://dist.ipfs.io/go-ipfs/v0.11.0/go-ipfs_v0.11.0_darwin-amd64.tar.gz\n",
    "!tar -xvzf ipfs/go-ipfs_v0.11.0_darwin-amd64.tar.gz -C /i/\n",
    "!cd go-ipfs\n",
    "!bash go-ipfs/install.sh\n",
    "!ipfs --version\n",
    "!ipfs init\n",
    "!ipfs cat /ipfs/QmQPeNsJPyVWPFDVHb77w8G42Fvo15z4bG2X8D2GhfbSXc/readme"
   ]
  },
  {
   "cell_type": "markdown",
   "metadata": {},
   "source": [
    "# Starting the IPFS Node\n",
    "\n",
    "# Must Complete Before Proceeding\n",
    "* Create Terminal Window \n",
    "* Navigate to File -> New -> Terminal \n",
    "* run **ipfs daemon** to start the IPFS node initialized above"
   ]
  },
  {
   "cell_type": "markdown",
   "metadata": {},
   "source": [
    "# IPFS"
   ]
  },
  {
   "cell_type": "code",
   "execution_count": 3,
   "metadata": {},
   "outputs": [],
   "source": [
    "from dataset.exdataset import Datasets\n",
    "from storage.ipfs import IPFS\n",
    "from datamarket.ocean import Ocean\n",
    "from wallet.ethwallet import Wallet"
   ]
  },
  {
   "cell_type": "code",
   "execution_count": 4,
   "metadata": {},
   "outputs": [
    {
     "data": {
      "text/plain": [
       "{'punks': 'did:op:C9D0568838fa670baEe7195Ea443b32EfCAc2281',\n",
       " 'VladData': 'did:op:72419bf07C6181dAEdc068caB0d81faa2951910e',\n",
       " 'AvgDenver': 'did:op:81607300c6b50fbF0172E9A0038B6e898Fc15d82'}"
      ]
     },
     "execution_count": 4,
     "metadata": {},
     "output_type": "execute_result"
    }
   ],
   "source": [
    "Ocean.get_example_datasets()"
   ]
  },
  {
   "cell_type": "code",
   "execution_count": 5,
   "metadata": {},
   "outputs": [],
   "source": [
    "wallet = Wallet.create_wallet()"
   ]
  },
  {
   "cell_type": "code",
   "execution_count": 6,
   "metadata": {},
   "outputs": [],
   "source": [
    "#Get and create samples\n",
    "\n",
    "Datasets.create_np_ones_file(10,10,fn=\"data/numpyarray.txt\")\n",
    "Datasets.create_test_file(10,fn=\"data/numpyarray.dat\")\n",
    "example_image_hash = Datasets.get_example_image_hash()"
   ]
  },
  {
   "cell_type": "code",
   "execution_count": 7,
   "metadata": {},
   "outputs": [
    {
     "name": "stdout",
     "output_type": "stream",
     "text": [
      "Retrieved file hash QmSgvgwxZGaBLqkGyWemEDqikCqU52XxsYLKtdy3vGZ8uq from IPFS - Response 200\n"
     ]
    }
   ],
   "source": [
    "# a = IPFS.add(\"nparray.txt\")\n",
    "file_hash = IPFS.get_file(example_image_hash)"
   ]
  },
  {
   "cell_type": "markdown",
   "metadata": {},
   "source": [
    "# Need Help Here"
   ]
  },
  {
   "cell_type": "code",
   "execution_count": 8,
   "metadata": {},
   "outputs": [
    {
     "data": {
      "image/png": "[encoded data removed]",
      "text/plain": [
       "<IPython.core.display.Image object>"
      ]
     },
     "execution_count": 8,
     "metadata": {},
     "output_type": "execute_result"
    }
   ],
   "source": [
    "# I am struggling to figure out how to read the bytes that are returned from get_file\n",
    "Image(file_hash.content)"
   ]
  },
  {
   "cell_type": "code",
   "execution_count": 10,
   "metadata": {},
   "outputs": [
    {
     "ename": "TypeError",
     "evalue": "write() argument must be str, not Response",
     "output_type": "error",
     "traceback": [
      "\u001b[0;31m---------------------------------------------------------------------------\u001b[0m",
      "\u001b[0;31mTypeError\u001b[0m                                 Traceback (most recent call last)",
      "\u001b[0;32m<ipython-input-10-5d70bf85ef11>\u001b[0m in \u001b[0;36m<module>\u001b[0;34m\u001b[0m\n\u001b[1;32m      1\u001b[0m \u001b[0;32mimport\u001b[0m \u001b[0mnumpy\u001b[0m \u001b[0;32mas\u001b[0m \u001b[0mnp\u001b[0m\u001b[0;34m\u001b[0m\u001b[0;34m\u001b[0m\u001b[0m\n\u001b[1;32m      2\u001b[0m \u001b[0;32mwith\u001b[0m \u001b[0mopen\u001b[0m\u001b[0;34m(\u001b[0m\u001b[0;34m\"file.txt\"\u001b[0m\u001b[0;34m,\u001b[0m \u001b[0;34m\"w\"\u001b[0m\u001b[0;34m)\u001b[0m \u001b[0;32mas\u001b[0m \u001b[0mf\u001b[0m\u001b[0;34m:\u001b[0m\u001b[0;34m\u001b[0m\u001b[0;34m\u001b[0m\u001b[0m\n\u001b[0;32m----> 3\u001b[0;31m     \u001b[0mf\u001b[0m\u001b[0;34m.\u001b[0m\u001b[0mwrite\u001b[0m\u001b[0;34m(\u001b[0m\u001b[0mfile_hash\u001b[0m\u001b[0;34m)\u001b[0m\u001b[0;34m\u001b[0m\u001b[0;34m\u001b[0m\u001b[0m\n\u001b[0m\u001b[1;32m      4\u001b[0m \u001b[0;34m\u001b[0m\u001b[0m\n\u001b[1;32m      5\u001b[0m \u001b[0;34m\u001b[0m\u001b[0m\n",
      "\u001b[0;31mTypeError\u001b[0m: write() argument must be str, not Response"
     ]
    }
   ],
   "source": [
    "import numpy as np\n",
    "with open(\"file.txt\", \"w\") as f:\n",
    "    f.write(file_hash)\n",
    "    \n",
    "    \n",
    "np.load(\"file.txt\",allow_pickle=True)\n",
    "\n"
   ]
  },
  {
   "cell_type": "code",
   "execution_count": 11,
   "metadata": {},
   "outputs": [
    {
     "data": {
      "text/html": [
       "<div>\n",
       "<style scoped>\n",
       "    .dataframe tbody tr th:only-of-type {\n",
       "        vertical-align: middle;\n",
       "    }\n",
       "\n",
       "    .dataframe tbody tr th {\n",
       "        vertical-align: top;\n",
       "    }\n",
       "\n",
       "    .dataframe thead th {\n",
       "        text-align: right;\n",
       "    }\n",
       "</style>\n",
       "<table border=\"1\" class=\"dataframe\">\n",
       "  <thead>\n",
       "    <tr style=\"text-align: right;\">\n",
       "      <th></th>\n",
       "      <th>Addr</th>\n",
       "      <th>Peer</th>\n",
       "      <th>Latency</th>\n",
       "      <th>Muxer</th>\n",
       "      <th>Direction</th>\n",
       "      <th>Streams</th>\n",
       "    </tr>\n",
       "  </thead>\n",
       "  <tbody>\n",
       "    <tr>\n",
       "      <th>0</th>\n",
       "      <td>/ip4/1.124.107.146/udp/25083/quic</td>\n",
       "      <td>12D3KooWCgkAeR55xVBJ6NybLkqs7eetf9HddcPbSviMNV...</td>\n",
       "      <td></td>\n",
       "      <td></td>\n",
       "      <td>0</td>\n",
       "      <td>None</td>\n",
       "    </tr>\n",
       "    <tr>\n",
       "      <th>1</th>\n",
       "      <td>/ip4/1.242.26.140/udp/4141/quic</td>\n",
       "      <td>12D3KooWBiee4oddLtirBtCN6QYPKfhh4wHr1b8sv1wL7J...</td>\n",
       "      <td></td>\n",
       "      <td></td>\n",
       "      <td>0</td>\n",
       "      <td>None</td>\n",
       "    </tr>\n",
       "    <tr>\n",
       "      <th>2</th>\n",
       "      <td>/ip4/1.32.18.50/udp/1506/quic</td>\n",
       "      <td>12D3KooWDvydeijRLFgGtpaTvDUbdKWaiGqa6Hd8gnHKGY...</td>\n",
       "      <td></td>\n",
       "      <td></td>\n",
       "      <td>0</td>\n",
       "      <td>None</td>\n",
       "    </tr>\n",
       "    <tr>\n",
       "      <th>3</th>\n",
       "      <td>/ip4/100.10.64.212/udp/4001/quic</td>\n",
       "      <td>12D3KooWBHegsDuSUfmSwRHHUxdMgJTCH6T3ejzE6CSviB...</td>\n",
       "      <td></td>\n",
       "      <td></td>\n",
       "      <td>0</td>\n",
       "      <td>None</td>\n",
       "    </tr>\n",
       "    <tr>\n",
       "      <th>4</th>\n",
       "      <td>/ip4/101.108.106.23/udp/1038/quic</td>\n",
       "      <td>12D3KooWRaP22WmGHFm9j99anjum1bv8qZLeC6661FvzKz...</td>\n",
       "      <td></td>\n",
       "      <td></td>\n",
       "      <td>0</td>\n",
       "      <td>None</td>\n",
       "    </tr>\n",
       "    <tr>\n",
       "      <th>...</th>\n",
       "      <td>...</td>\n",
       "      <td>...</td>\n",
       "      <td>...</td>\n",
       "      <td>...</td>\n",
       "      <td>...</td>\n",
       "      <td>...</td>\n",
       "    </tr>\n",
       "    <tr>\n",
       "      <th>757</th>\n",
       "      <td>/ip4/97.89.39.162/udp/51729/quic</td>\n",
       "      <td>12D3KooWFyAq6VvkW4nuRM8QgjcdRRGRpwL7Qj7M9QxDTs...</td>\n",
       "      <td></td>\n",
       "      <td></td>\n",
       "      <td>0</td>\n",
       "      <td>None</td>\n",
       "    </tr>\n",
       "    <tr>\n",
       "      <th>758</th>\n",
       "      <td>/ip4/98.168.170.53/udp/4001/quic</td>\n",
       "      <td>12D3KooWKWZtZUAsXrtPKXVCD8tpf39W7tBeiV2so7ZVy6...</td>\n",
       "      <td></td>\n",
       "      <td></td>\n",
       "      <td>0</td>\n",
       "      <td>None</td>\n",
       "    </tr>\n",
       "    <tr>\n",
       "      <th>759</th>\n",
       "      <td>/ip4/98.222.133.221/udp/4001/quic</td>\n",
       "      <td>12D3KooWCKxcUx6nRc2fumaA1CxpntjSKjuvBWMyK9opaZ...</td>\n",
       "      <td></td>\n",
       "      <td></td>\n",
       "      <td>0</td>\n",
       "      <td>None</td>\n",
       "    </tr>\n",
       "    <tr>\n",
       "      <th>760</th>\n",
       "      <td>/ip4/98.229.56.120/udp/4001/quic</td>\n",
       "      <td>12D3KooWHgxfVbcDEE7K6R2aUyma7p2niN36z8mkBWyHpY...</td>\n",
       "      <td></td>\n",
       "      <td></td>\n",
       "      <td>0</td>\n",
       "      <td>None</td>\n",
       "    </tr>\n",
       "    <tr>\n",
       "      <th>761</th>\n",
       "      <td>/ip4/98.251.85.91/udp/39923/quic</td>\n",
       "      <td>12D3KooWDeR17SffaRKu1U7sZuBAUfu75531PAD5csYzkF...</td>\n",
       "      <td></td>\n",
       "      <td></td>\n",
       "      <td>0</td>\n",
       "      <td>None</td>\n",
       "    </tr>\n",
       "  </tbody>\n",
       "</table>\n",
       "<p>762 rows × 6 columns</p>\n",
       "</div>"
      ],
      "text/plain": [
       "                                  Addr  \\\n",
       "0    /ip4/1.124.107.146/udp/25083/quic   \n",
       "1      /ip4/1.242.26.140/udp/4141/quic   \n",
       "2        /ip4/1.32.18.50/udp/1506/quic   \n",
       "3     /ip4/100.10.64.212/udp/4001/quic   \n",
       "4    /ip4/101.108.106.23/udp/1038/quic   \n",
       "..                                 ...   \n",
       "757   /ip4/97.89.39.162/udp/51729/quic   \n",
       "758   /ip4/98.168.170.53/udp/4001/quic   \n",
       "759  /ip4/98.222.133.221/udp/4001/quic   \n",
       "760   /ip4/98.229.56.120/udp/4001/quic   \n",
       "761   /ip4/98.251.85.91/udp/39923/quic   \n",
       "\n",
       "                                                  Peer Latency Muxer  \\\n",
       "0    12D3KooWCgkAeR55xVBJ6NybLkqs7eetf9HddcPbSviMNV...                 \n",
       "1    12D3KooWBiee4oddLtirBtCN6QYPKfhh4wHr1b8sv1wL7J...                 \n",
       "2    12D3KooWDvydeijRLFgGtpaTvDUbdKWaiGqa6Hd8gnHKGY...                 \n",
       "3    12D3KooWBHegsDuSUfmSwRHHUxdMgJTCH6T3ejzE6CSviB...                 \n",
       "4    12D3KooWRaP22WmGHFm9j99anjum1bv8qZLeC6661FvzKz...                 \n",
       "..                                                 ...     ...   ...   \n",
       "757  12D3KooWFyAq6VvkW4nuRM8QgjcdRRGRpwL7Qj7M9QxDTs...                 \n",
       "758  12D3KooWKWZtZUAsXrtPKXVCD8tpf39W7tBeiV2so7ZVy6...                 \n",
       "759  12D3KooWCKxcUx6nRc2fumaA1CxpntjSKjuvBWMyK9opaZ...                 \n",
       "760  12D3KooWHgxfVbcDEE7K6R2aUyma7p2niN36z8mkBWyHpY...                 \n",
       "761  12D3KooWDeR17SffaRKu1U7sZuBAUfu75531PAD5csYzkF...                 \n",
       "\n",
       "     Direction Streams  \n",
       "0            0    None  \n",
       "1            0    None  \n",
       "2            0    None  \n",
       "3            0    None  \n",
       "4            0    None  \n",
       "..         ...     ...  \n",
       "757          0    None  \n",
       "758          0    None  \n",
       "759          0    None  \n",
       "760          0    None  \n",
       "761          0    None  \n",
       "\n",
       "[762 rows x 6 columns]"
      ]
     },
     "execution_count": 11,
     "metadata": {},
     "output_type": "execute_result"
    }
   ],
   "source": [
    "import pandas as pd\n",
    "\n",
    "#Other Live Peers\n",
    "peers = IPFS.get_peers()\n",
    "df = pd.json_normalize(pd.DataFrame.from_dict(peers)[\"Peers\"])\n",
    "\n",
    "df"
   ]
  },
  {
   "cell_type": "markdown",
   "metadata": {},
   "source": [
    "# Used https://flyingzumwalt.gitbooks.io/decentralized-web-primer/content/files-on-ipfs/lessons/add-and-retrieve-file-content.html"
   ]
  },
  {
   "cell_type": "markdown",
   "metadata": {},
   "source": [
    "# Add and retrieve file from IPFS"
   ]
  },
  {
   "cell_type": "code",
   "execution_count": 12,
   "metadata": {},
   "outputs": [
    {
     "ename": "AssertionError",
     "evalue": "",
     "output_type": "error",
     "traceback": [
      "\u001b[0;31m---------------------------------------------------------------------------\u001b[0m",
      "\u001b[0;31mAssertionError\u001b[0m                            Traceback (most recent call last)",
      "\u001b[0;32m<ipython-input-12-6318d0608b60>\u001b[0m in \u001b[0;36m<module>\u001b[0;34m\u001b[0m\n\u001b[1;32m      1\u001b[0m \u001b[0;31m# Don't proceed\u001b[0m\u001b[0;34m\u001b[0m\u001b[0;34m\u001b[0m\u001b[0;34m\u001b[0m\u001b[0m\n\u001b[0;32m----> 2\u001b[0;31m \u001b[0;32massert\u001b[0m \u001b[0;36m1\u001b[0m \u001b[0;34m==\u001b[0m \u001b[0;36m0\u001b[0m\u001b[0;34m\u001b[0m\u001b[0;34m\u001b[0m\u001b[0m\n\u001b[0m",
      "\u001b[0;31mAssertionError\u001b[0m: "
     ]
    }
   ],
   "source": [
    "# Don't proceed\n",
    "assert 1 == 0"
   ]
  },
  {
   "cell_type": "markdown",
   "metadata": {},
   "source": [
    "# Dat - https://github.com/hypercore-protocol/cli i hyp daemon"
   ]
  },
  {
   "cell_type": "code",
   "execution_count": 241,
   "metadata": {
    "collapsed": true,
    "jupyter": {
     "outputs_hidden": true
    },
    "tags": []
   },
   "outputs": [
    {
     "name": "stdout",
     "output_type": "stream",
     "text": [
      "\u001b[K\u001b[?25h\u001b[37;40mnpm\u001b[0m \u001b[0m\u001b[30;43mWARN\u001b[0m \u001b[0m\u001b[35mdeprecated\u001b[0m dat-encoding@5.0.2: Package no longer supported. Contact Support at https://www.npmjs.com/support for more info.\n",
      "\u001b[K\u001b[?25h\u001b[37;40mnpm\u001b[0m \u001b[0m\u001b[30;43mWARN\u001b[0m \u001b[0m\u001b[35mdeprecated\u001b[0m debug@3.2.6: Debug versions >=3.2.0 <3.2.7 || >=4 <4.3.1 have a low-severity ReDos regression when used in a Node.js environment. It is recommended you upgrade to 3.2.7 or 4.3.1. (https://github.com/visionmedia/debug/issues/797)\n",
      "\u001b[K\u001b[?25h\u001b[37;40mnpm\u001b[0m \u001b[0m\u001b[30;43mWARN\u001b[0m \u001b[0m\u001b[35mdeprecated\u001b[0m fsevents@2.1.3: \"Please update to latest v2.3 or v2.2\"Ksio\u001b[0m\u001b[K\n",
      "\u001b[K\u001b[?25h\u001b[37;40mnpm\u001b[0m \u001b[0m\u001b[30;43mWARN\u001b[0m \u001b[0m\u001b[35mdeprecated\u001b[0m cross-spawn-async@2.2.5: cross-spawn no longer requires a build toolchain, use it instead\n",
      "\u001b[K\u001b[?25h\u001b[37;40mnpm\u001b[0m \u001b[0m\u001b[30;43mWARN\u001b[0m \u001b[0m\u001b[35mcheckPermissions\u001b[0m Missing write access to /usr/local/lib/node_modulesm\u001b[K\n",
      "\u001b[0m\u001b[37;40mnpm\u001b[0m \u001b[0m\u001b[31;40mERR!\u001b[0m \u001b[0m\u001b[35mcode\u001b[0m EACCES\n",
      "\u001b[0m\u001b[37;40mnpm\u001b[0m \u001b[0m\u001b[31;40mERR!\u001b[0m \u001b[0m\u001b[35msyscall\u001b[0m access\n",
      "\u001b[0m\u001b[37;40mnpm\u001b[0m \u001b[0m\u001b[31;40mERR!\u001b[0m \u001b[0m\u001b[35mpath\u001b[0m /usr/local/lib/node_modules\n",
      "\u001b[0m\u001b[37;40mnpm\u001b[0m \u001b[0m\u001b[31;40mERR!\u001b[0m \u001b[0m\u001b[35merrno\u001b[0m -13\n",
      "\u001b[0m\u001b[37;40mnpm\u001b[0m \u001b[0m\u001b[31;40mERR!\u001b[0m\u001b[35m\u001b[0m Error: EACCES: permission denied, access '/usr/local/lib/node_modules'\n",
      "\u001b[0m\u001b[37;40mnpm\u001b[0m \u001b[0m\u001b[31;40mERR!\u001b[0m\u001b[35m\u001b[0m  [Error: EACCES: permission denied, access '/usr/local/lib/node_modules'] {\n",
      "\u001b[0m\u001b[37;40mnpm\u001b[0m \u001b[0m\u001b[31;40mERR!\u001b[0m\u001b[35m\u001b[0m   errno: -13,\n",
      "\u001b[0m\u001b[37;40mnpm\u001b[0m \u001b[0m\u001b[31;40mERR!\u001b[0m\u001b[35m\u001b[0m   code: 'EACCES',\n",
      "\u001b[0m\u001b[37;40mnpm\u001b[0m \u001b[0m\u001b[31;40mERR!\u001b[0m\u001b[35m\u001b[0m   syscall: 'access',\n",
      "\u001b[0m\u001b[37;40mnpm\u001b[0m \u001b[0m\u001b[31;40mERR!\u001b[0m\u001b[35m\u001b[0m   path: '/usr/local/lib/node_modules'\n",
      "\u001b[0m\u001b[37;40mnpm\u001b[0m \u001b[0m\u001b[31;40mERR!\u001b[0m\u001b[35m\u001b[0m }\n",
      "\u001b[0m\u001b[37;40mnpm\u001b[0m \u001b[0m\u001b[31;40mERR!\u001b[0m\u001b[35m\u001b[0m \n",
      "\u001b[0m\u001b[37;40mnpm\u001b[0m \u001b[0m\u001b[31;40mERR!\u001b[0m\u001b[35m\u001b[0m The operation was rejected by your operating system.\n",
      "\u001b[0m\u001b[37;40mnpm\u001b[0m \u001b[0m\u001b[31;40mERR!\u001b[0m\u001b[35m\u001b[0m It is likely you do not have the permissions to access this file as the current user\n",
      "\u001b[0m\u001b[37;40mnpm\u001b[0m \u001b[0m\u001b[31;40mERR!\u001b[0m\u001b[35m\u001b[0m \n",
      "\u001b[0m\u001b[37;40mnpm\u001b[0m \u001b[0m\u001b[31;40mERR!\u001b[0m\u001b[35m\u001b[0m If you believe this might be a permissions issue, please double-check the\n",
      "\u001b[0m\u001b[37;40mnpm\u001b[0m \u001b[0m\u001b[31;40mERR!\u001b[0m\u001b[35m\u001b[0m permissions of the file and its containing directories, or try running\n",
      "\u001b[0m\u001b[37;40mnpm\u001b[0m \u001b[0m\u001b[31;40mERR!\u001b[0m\u001b[35m\u001b[0m the command again as root/Administrator.\n",
      "\u001b[0m\n",
      "\u001b[37;40mnpm\u001b[0m \u001b[0m\u001b[31;40mERR!\u001b[0m\u001b[35m\u001b[0m A complete log of this run can be found in:\n",
      "\u001b[0m\u001b[37;40mnpm\u001b[0m \u001b[0m\u001b[31;40mERR!\u001b[0m\u001b[35m\u001b[0m     /Users/adamgoldstein/.npm/_logs/2022-01-12T03_25_10_376Z-debug.log\n",
      "\u001b[0m"
     ]
    }
   ],
   "source": [
    "# !npm install -g @hyperspace/cli"
   ]
  },
  {
   "cell_type": "markdown",
   "metadata": {},
   "source": [
    "# Compute - https://github.com/anshuman73/DeML-Golem"
   ]
  },
  {
   "cell_type": "code",
   "execution_count": null,
   "metadata": {},
   "outputs": [],
   "source": []
  }
 ],
 "metadata": {
  "kernelspec": {
   "display_name": "Python 3",
   "language": "python",
   "name": "python3"
  },
  "language_info": {
   "codemirror_mode": {
    "name": "ipython",
    "version": 3
   },
   "file_extension": ".py",
   "mimetype": "text/x-python",
   "name": "python",
   "nbconvert_exporter": "python",
   "pygments_lexer": "ipython3",
   "version": "3.8.8"
  }
 },
 "nbformat": 4,
 "nbformat_minor": 4
}
