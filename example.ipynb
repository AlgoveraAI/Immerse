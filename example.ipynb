{
 "cells": [
  {
   "cell_type": "markdown",
   "metadata": {
    "tags": []
   },
   "source": [
    "# Goal of this notebook is to create a flow for a data scientist to be able to\n",
    "- [x] Create a wallet, see balances\n",
    "- [x] Get tokens from faucet using links (Looks like the faucets discourage automated methods)\n",
<<<<<<< HEAD
    "- [ ] Upload and retrieve Dataset to/from IPFS\n",
=======
    "- [] \n",
>>>>>>> 355a15edcf5172bfeb45610f5adc1265b32d05ac
    "- [ ] Search for a dataset on Ocean\n",
    "- [ ] Download the dataset\n",
    "\n",
    "\n",
    "Original Notebook found here: https://github.com/AlgoveraAI/generative-art/blob/main/notebooks/1-cryptopunks-dataset.ipynb\n",
    "<br>IPFS Code is found here: https://docs.ipfs.io/how-to/command-line-quick-start/#take-your-node-online\n"
   ]
  },
  {
   "cell_type": "code",
<<<<<<< HEAD
   "execution_count": 10,
=======
   "execution_count": 7,
>>>>>>> 355a15edcf5172bfeb45610f5adc1265b32d05ac
   "metadata": {},
   "outputs": [],
   "source": [
    "from IPython.display import Image "
   ]
  },
  {
   "cell_type": "markdown",
   "metadata": {},
   "source": [
    "# Create IPFS Node"
   ]
  },
  {
   "cell_type": "code",
<<<<<<< HEAD
   "execution_count": 2,
=======
   "execution_count": 19,
>>>>>>> 355a15edcf5172bfeb45610f5adc1265b32d05ac
   "metadata": {},
   "outputs": [
    {
     "name": "stdout",
     "output_type": "stream",
     "text": [
      "  % Total    % Received % Xferd  Average Speed   Time    Time     Time  Current\n",
      "                                 Dload  Upload   Total   Spent    Left  Speed\n",
<<<<<<< HEAD
      "100 23.1M  100 23.1M    0     0  12.1M      0  0:00:01  0:00:01 --:--:-- 12.0M\n",
=======
      "100 23.1M  100 23.1M    0     0  18.0M      0  0:00:01  0:00:01 --:--:-- 18.0M\n",
>>>>>>> 355a15edcf5172bfeb45610f5adc1265b32d05ac
      "tar: Error opening archive: Failed to open 'ipfs/go-ipfs_v0.11.0_darwin-amd64.tar.gz'\n",
      "zsh:cd:1: no such file or directory: go-ipfs\n",
      "bash: go-ipfs/install.sh: No such file or directory\n",
      "ipfs version 0.11.0\n",
      "generating ED25519 keypair...done\n",
<<<<<<< HEAD
      "peer identity: 12D3KooWAdyBRTejuEZNzZdn6thknBnAxCq4YLemLfptNbDvG9CX\n",
=======
      "peer identity: 12D3KooWSENtWYhUK76BjUVF3mEe5Ncb6nkc2sMqwVhLvBuAgxHp\n",
>>>>>>> 355a15edcf5172bfeb45610f5adc1265b32d05ac
      "initializing IPFS node at /Users/adamgoldstein/.ipfs\n",
      "Error: ipfs configuration file already exists!\n",
      "Reinitializing would overwrite your keys.\n",
      "\n",
      "Hello and Welcome to IPFS!\n",
      "\n",
      "██╗██████╗ ███████╗███████╗\n",
      "██║██╔══██╗██╔════╝██╔════╝\n",
      "██║██████╔╝█████╗  ███████╗\n",
      "██║██╔═══╝ ██╔══╝  ╚════██║\n",
      "██║██║     ██║     ███████║\n",
      "╚═╝╚═╝     ╚═╝     ╚══════╝\n",
      "\n",
      "If you're seeing this, you have successfully installed\n",
      "IPFS and are now interfacing with the ipfs merkledag!\n",
      "\n",
      " -------------------------------------------------------\n",
      "| Warning:                                              |\n",
      "|   This is alpha software. Use at your own discretion! |\n",
      "|   Much is missing or lacking polish. There are bugs.  |\n",
      "|   Not yet secure. Read the security notes for more.   |\n",
      " -------------------------------------------------------\n",
      "\n",
      "Check out some of the other files in this directory:\n",
      "\n",
      "  ./about\n",
      "  ./help\n",
      "  ./quick-start     <-- usage examples\n",
      "  ./readme          <-- this file\n",
      "  ./security-notes\n"
     ]
    }
   ],
   "source": [
    "!curl -O https://dist.ipfs.io/go-ipfs/v0.11.0/go-ipfs_v0.11.0_darwin-amd64.tar.gz\n",
    "!tar -xvzf ipfs/go-ipfs_v0.11.0_darwin-amd64.tar.gz -C /i/\n",
    "!cd go-ipfs\n",
    "!bash go-ipfs/install.sh\n",
    "!ipfs --version\n",
    "!ipfs init\n",
    "!ipfs cat /ipfs/QmQPeNsJPyVWPFDVHb77w8G42Fvo15z4bG2X8D2GhfbSXc/readme"
   ]
  },
  {
   "cell_type": "markdown",
   "metadata": {},
   "source": [
    "# Starting the IPFS Node\n",
    "\n",
    "# Must Complete Before Proceeding\n",
    "* Create Terminal Window \n",
    "* Navigate to File -> New -> Terminal \n",
    "* run **ipfs daemon** to start the IPFS node initialized above"
   ]
  },
  {
   "cell_type": "markdown",
   "metadata": {},
   "source": [
    "# IPFS"
   ]
  },
  {
   "cell_type": "code",
<<<<<<< HEAD
   "execution_count": 13,
   "metadata": {},
   "outputs": [],
   "source": [
    "from dataset.exdataset import Datasets\n",
    "from storage.ipfs import IPFS\n",
    "from datamarket.ocean import Ocean\n",
    "from wallet.ethwallet import Wallet\n",
    "\n",
    "import numpy as np"
=======
   "execution_count": 1,
   "metadata": {},
   "outputs": [],
   "source": [
    "from Dataset import Datasets\n",
    "from IPFS import IPFS\n",
    "from Ocean import Ocean\n",
    "from Wallet import Wallet"
>>>>>>> 355a15edcf5172bfeb45610f5adc1265b32d05ac
   ]
  },
  {
   "cell_type": "code",
<<<<<<< HEAD
   "execution_count": 14,
=======
   "execution_count": 2,
>>>>>>> 355a15edcf5172bfeb45610f5adc1265b32d05ac
   "metadata": {},
   "outputs": [
    {
     "data": {
      "text/plain": [
       "{'punks': 'did:op:C9D0568838fa670baEe7195Ea443b32EfCAc2281',\n",
       " 'VladData': 'did:op:72419bf07C6181dAEdc068caB0d81faa2951910e',\n",
       " 'AvgDenver': 'did:op:81607300c6b50fbF0172E9A0038B6e898Fc15d82'}"
      ]
     },
<<<<<<< HEAD
     "execution_count": 14,
=======
     "execution_count": 2,
>>>>>>> 355a15edcf5172bfeb45610f5adc1265b32d05ac
     "metadata": {},
     "output_type": "execute_result"
    }
   ],
   "source": [
    "Ocean.get_example_datasets()"
   ]
  },
  {
   "cell_type": "code",
<<<<<<< HEAD
   "execution_count": 15,
=======
   "execution_count": 3,
>>>>>>> 355a15edcf5172bfeb45610f5adc1265b32d05ac
   "metadata": {},
   "outputs": [],
   "source": [
    "wallet = Wallet.create_wallet()"
   ]
  },
  {
   "cell_type": "code",
<<<<<<< HEAD
   "execution_count": 16,
=======
   "execution_count": 4,
>>>>>>> 355a15edcf5172bfeb45610f5adc1265b32d05ac
   "metadata": {},
   "outputs": [],
   "source": [
    "#Get and create samples\n",
    "\n",
    "Datasets.create_np_ones_file(10,10,fn=\"data/numpyarray.txt\")\n",
    "Datasets.create_test_file(10,fn=\"data/numpyarray.dat\")\n",
    "example_image_hash = Datasets.get_example_image_hash()"
   ]
  },
  {
   "cell_type": "code",
<<<<<<< HEAD
   "execution_count": 17,
=======
   "execution_count": 5,
>>>>>>> 355a15edcf5172bfeb45610f5adc1265b32d05ac
   "metadata": {},
   "outputs": [
    {
     "name": "stdout",
     "output_type": "stream",
     "text": [
      "Retrieved file hash QmSgvgwxZGaBLqkGyWemEDqikCqU52XxsYLKtdy3vGZ8uq from IPFS - Response 200\n"
     ]
    }
   ],
   "source": [
    "# a = IPFS.add(\"nparray.txt\")\n",
    "file_hash = IPFS.get_file(example_image_hash)"
   ]
  },
  {
   "cell_type": "markdown",
   "metadata": {},
   "source": [
    "# Need Help Here"
   ]
  },
  {
   "cell_type": "code",
<<<<<<< HEAD
   "execution_count": 18,
=======
   "execution_count": 263,
>>>>>>> 355a15edcf5172bfeb45610f5adc1265b32d05ac
   "metadata": {},
   "outputs": [
    {
     "data": {
      "image/png": "EioKIhIg4bgtZNnGFZ+DGC1+RrgdWBQpi8BtgA6vvl+SWF/j+MYSABiOgBASKQoiEiBd/YlkAyE1AiBOcNGQIONPKHo88lbevyOvOkABYM20GhIAGKlvCg0IAhie7xAggIAQIJ5v\n",
      "text/plain": [
       "<IPython.core.display.Image object>"
      ]
     },
<<<<<<< HEAD
     "execution_count": 18,
=======
     "execution_count": 263,
>>>>>>> 355a15edcf5172bfeb45610f5adc1265b32d05ac
     "metadata": {},
     "output_type": "execute_result"
    }
   ],
   "source": [
    "# I am struggling to figure out how to read the bytes that are returned from get_file\n",
    "Image(file_hash.content)"
   ]
  },
  {
   "cell_type": "code",
<<<<<<< HEAD
   "execution_count": 20,
   "metadata": {},
   "outputs": [
    {
     "ename": "ValueError",
     "evalue": "Cannot load file containing pickled data when allow_pickle=False",
     "output_type": "error",
     "traceback": [
      "\u001b[0;31m---------------------------------------------------------------------------\u001b[0m",
      "\u001b[0;31mValueError\u001b[0m                                Traceback (most recent call last)",
      "\u001b[0;32m<ipython-input-20-1f43ad434f27>\u001b[0m in \u001b[0;36m<module>\u001b[0;34m\u001b[0m\n\u001b[1;32m      3\u001b[0m \u001b[0;34m\u001b[0m\u001b[0m\n\u001b[1;32m      4\u001b[0m \u001b[0;34m\u001b[0m\u001b[0m\n\u001b[0;32m----> 5\u001b[0;31m \u001b[0mnp\u001b[0m\u001b[0;34m.\u001b[0m\u001b[0mload\u001b[0m\u001b[0;34m(\u001b[0m\u001b[0;34m\"file.txt\"\u001b[0m\u001b[0;34m,\u001b[0m\u001b[0mallow_pickle\u001b[0m\u001b[0;34m=\u001b[0m\u001b[0;32mFalse\u001b[0m\u001b[0;34m)\u001b[0m\u001b[0;34m\u001b[0m\u001b[0;34m\u001b[0m\u001b[0m\n\u001b[0m\u001b[1;32m      6\u001b[0m \u001b[0;34m\u001b[0m\u001b[0m\n",
      "\u001b[0;32m~/opt/anaconda3/lib/python3.8/site-packages/numpy/lib/npyio.py\u001b[0m in \u001b[0;36mload\u001b[0;34m(file, mmap_mode, allow_pickle, fix_imports, encoding)\u001b[0m\n\u001b[1;32m    443\u001b[0m             \u001b[0;31m# Try a pickle\u001b[0m\u001b[0;34m\u001b[0m\u001b[0;34m\u001b[0m\u001b[0;34m\u001b[0m\u001b[0m\n\u001b[1;32m    444\u001b[0m             \u001b[0;32mif\u001b[0m \u001b[0;32mnot\u001b[0m \u001b[0mallow_pickle\u001b[0m\u001b[0;34m:\u001b[0m\u001b[0;34m\u001b[0m\u001b[0;34m\u001b[0m\u001b[0m\n\u001b[0;32m--> 445\u001b[0;31m                 raise ValueError(\"Cannot load file containing pickled data \"\n\u001b[0m\u001b[1;32m    446\u001b[0m                                  \"when allow_pickle=False\")\n\u001b[1;32m    447\u001b[0m             \u001b[0;32mtry\u001b[0m\u001b[0;34m:\u001b[0m\u001b[0;34m\u001b[0m\u001b[0;34m\u001b[0m\u001b[0m\n",
      "\u001b[0;31mValueError\u001b[0m: Cannot load file containing pickled data when allow_pickle=False"
     ]
    }
   ],
   "source": [
    "\n",
    "with open(\"file.txt\", \"w\") as f:\n",
    "    f.write(str(file_hash))\n",
    "    \n",
    "    \n",
    "np.load(\"file.txt\",allow_pickle=False)\n",
=======
   "execution_count": 156,
   "metadata": {},
   "outputs": [],
   "source": [
    "\n",
    "with open(\"file.txt\", \"w\") as f:\n",
    "    f.write(str(h.content))\n",
    "    \n",
    "    \n",
    "np.load(\"file.txt\",allow_pickle=True)\n",
>>>>>>> 355a15edcf5172bfeb45610f5adc1265b32d05ac
    "\n"
   ]
  },
  {
   "cell_type": "markdown",
   "metadata": {},
   "source": [
    "# Used https://flyingzumwalt.gitbooks.io/decentralized-web-primer/content/files-on-ipfs/lessons/add-and-retrieve-file-content.html"
   ]
  },
  {
   "cell_type": "markdown",
   "metadata": {},
   "source": [
    "# Add and retrieve file from IPFS"
   ]
  },
  {
   "cell_type": "code",
<<<<<<< HEAD
   "execution_count": 22,
=======
   "execution_count": 220,
>>>>>>> 355a15edcf5172bfeb45610f5adc1265b32d05ac
   "metadata": {},
   "outputs": [
    {
     "ename": "AssertionError",
     "evalue": "",
     "output_type": "error",
     "traceback": [
      "\u001b[0;31m---------------------------------------------------------------------------\u001b[0m",
      "\u001b[0;31mAssertionError\u001b[0m                            Traceback (most recent call last)",
<<<<<<< HEAD
      "\u001b[0;32m<ipython-input-22-6318d0608b60>\u001b[0m in \u001b[0;36m<module>\u001b[0;34m\u001b[0m\n\u001b[1;32m      1\u001b[0m \u001b[0;31m# Don't proceed\u001b[0m\u001b[0;34m\u001b[0m\u001b[0;34m\u001b[0m\u001b[0;34m\u001b[0m\u001b[0m\n\u001b[0;32m----> 2\u001b[0;31m \u001b[0;32massert\u001b[0m \u001b[0;36m1\u001b[0m \u001b[0;34m==\u001b[0m \u001b[0;36m0\u001b[0m\u001b[0;34m\u001b[0m\u001b[0;34m\u001b[0m\u001b[0m\n\u001b[0m",
=======
      "\u001b[0;32m<ipython-input-220-6318d0608b60>\u001b[0m in \u001b[0;36m<module>\u001b[0;34m\u001b[0m\n\u001b[1;32m      1\u001b[0m \u001b[0;31m# Don't proceed\u001b[0m\u001b[0;34m\u001b[0m\u001b[0;34m\u001b[0m\u001b[0;34m\u001b[0m\u001b[0m\n\u001b[0;32m----> 2\u001b[0;31m \u001b[0;32massert\u001b[0m \u001b[0;36m1\u001b[0m \u001b[0;34m==\u001b[0m \u001b[0;36m0\u001b[0m\u001b[0;34m\u001b[0m\u001b[0;34m\u001b[0m\u001b[0m\n\u001b[0m",
>>>>>>> 355a15edcf5172bfeb45610f5adc1265b32d05ac
      "\u001b[0;31mAssertionError\u001b[0m: "
     ]
    }
   ],
   "source": [
    "# Don't proceed\n",
    "assert 1 == 0"
   ]
  },
  {
   "cell_type": "markdown",
   "metadata": {},
   "source": [
    "# Dat - https://github.com/hypercore-protocol/cli i hyp daemon"
   ]
  },
  {
   "cell_type": "code",
<<<<<<< HEAD
   "execution_count": 23,
   "metadata": {
    "tags": []
   },
   "outputs": [],
=======
   "execution_count": 241,
   "metadata": {
    "collapsed": true,
    "jupyter": {
     "outputs_hidden": true
    },
    "tags": []
   },
   "outputs": [
    {
     "name": "stdout",
     "output_type": "stream",
     "text": [
      "\u001b[K\u001b[?25h\u001b[37;40mnpm\u001b[0m \u001b[0m\u001b[30;43mWARN\u001b[0m \u001b[0m\u001b[35mdeprecated\u001b[0m dat-encoding@5.0.2: Package no longer supported. Contact Support at https://www.npmjs.com/support for more info.\n",
      "\u001b[K\u001b[?25h\u001b[37;40mnpm\u001b[0m \u001b[0m\u001b[30;43mWARN\u001b[0m \u001b[0m\u001b[35mdeprecated\u001b[0m debug@3.2.6: Debug versions >=3.2.0 <3.2.7 || >=4 <4.3.1 have a low-severity ReDos regression when used in a Node.js environment. It is recommended you upgrade to 3.2.7 or 4.3.1. (https://github.com/visionmedia/debug/issues/797)\n",
      "\u001b[K\u001b[?25h\u001b[37;40mnpm\u001b[0m \u001b[0m\u001b[30;43mWARN\u001b[0m \u001b[0m\u001b[35mdeprecated\u001b[0m fsevents@2.1.3: \"Please update to latest v2.3 or v2.2\"Ksio\u001b[0m\u001b[K\n",
      "\u001b[K\u001b[?25h\u001b[37;40mnpm\u001b[0m \u001b[0m\u001b[30;43mWARN\u001b[0m \u001b[0m\u001b[35mdeprecated\u001b[0m cross-spawn-async@2.2.5: cross-spawn no longer requires a build toolchain, use it instead\n",
      "\u001b[K\u001b[?25h\u001b[37;40mnpm\u001b[0m \u001b[0m\u001b[30;43mWARN\u001b[0m \u001b[0m\u001b[35mcheckPermissions\u001b[0m Missing write access to /usr/local/lib/node_modulesm\u001b[K\n",
      "\u001b[0m\u001b[37;40mnpm\u001b[0m \u001b[0m\u001b[31;40mERR!\u001b[0m \u001b[0m\u001b[35mcode\u001b[0m EACCES\n",
      "\u001b[0m\u001b[37;40mnpm\u001b[0m \u001b[0m\u001b[31;40mERR!\u001b[0m \u001b[0m\u001b[35msyscall\u001b[0m access\n",
      "\u001b[0m\u001b[37;40mnpm\u001b[0m \u001b[0m\u001b[31;40mERR!\u001b[0m \u001b[0m\u001b[35mpath\u001b[0m /usr/local/lib/node_modules\n",
      "\u001b[0m\u001b[37;40mnpm\u001b[0m \u001b[0m\u001b[31;40mERR!\u001b[0m \u001b[0m\u001b[35merrno\u001b[0m -13\n",
      "\u001b[0m\u001b[37;40mnpm\u001b[0m \u001b[0m\u001b[31;40mERR!\u001b[0m\u001b[35m\u001b[0m Error: EACCES: permission denied, access '/usr/local/lib/node_modules'\n",
      "\u001b[0m\u001b[37;40mnpm\u001b[0m \u001b[0m\u001b[31;40mERR!\u001b[0m\u001b[35m\u001b[0m  [Error: EACCES: permission denied, access '/usr/local/lib/node_modules'] {\n",
      "\u001b[0m\u001b[37;40mnpm\u001b[0m \u001b[0m\u001b[31;40mERR!\u001b[0m\u001b[35m\u001b[0m   errno: -13,\n",
      "\u001b[0m\u001b[37;40mnpm\u001b[0m \u001b[0m\u001b[31;40mERR!\u001b[0m\u001b[35m\u001b[0m   code: 'EACCES',\n",
      "\u001b[0m\u001b[37;40mnpm\u001b[0m \u001b[0m\u001b[31;40mERR!\u001b[0m\u001b[35m\u001b[0m   syscall: 'access',\n",
      "\u001b[0m\u001b[37;40mnpm\u001b[0m \u001b[0m\u001b[31;40mERR!\u001b[0m\u001b[35m\u001b[0m   path: '/usr/local/lib/node_modules'\n",
      "\u001b[0m\u001b[37;40mnpm\u001b[0m \u001b[0m\u001b[31;40mERR!\u001b[0m\u001b[35m\u001b[0m }\n",
      "\u001b[0m\u001b[37;40mnpm\u001b[0m \u001b[0m\u001b[31;40mERR!\u001b[0m\u001b[35m\u001b[0m \n",
      "\u001b[0m\u001b[37;40mnpm\u001b[0m \u001b[0m\u001b[31;40mERR!\u001b[0m\u001b[35m\u001b[0m The operation was rejected by your operating system.\n",
      "\u001b[0m\u001b[37;40mnpm\u001b[0m \u001b[0m\u001b[31;40mERR!\u001b[0m\u001b[35m\u001b[0m It is likely you do not have the permissions to access this file as the current user\n",
      "\u001b[0m\u001b[37;40mnpm\u001b[0m \u001b[0m\u001b[31;40mERR!\u001b[0m\u001b[35m\u001b[0m \n",
      "\u001b[0m\u001b[37;40mnpm\u001b[0m \u001b[0m\u001b[31;40mERR!\u001b[0m\u001b[35m\u001b[0m If you believe this might be a permissions issue, please double-check the\n",
      "\u001b[0m\u001b[37;40mnpm\u001b[0m \u001b[0m\u001b[31;40mERR!\u001b[0m\u001b[35m\u001b[0m permissions of the file and its containing directories, or try running\n",
      "\u001b[0m\u001b[37;40mnpm\u001b[0m \u001b[0m\u001b[31;40mERR!\u001b[0m\u001b[35m\u001b[0m the command again as root/Administrator.\n",
      "\u001b[0m\n",
      "\u001b[37;40mnpm\u001b[0m \u001b[0m\u001b[31;40mERR!\u001b[0m\u001b[35m\u001b[0m A complete log of this run can be found in:\n",
      "\u001b[0m\u001b[37;40mnpm\u001b[0m \u001b[0m\u001b[31;40mERR!\u001b[0m\u001b[35m\u001b[0m     /Users/adamgoldstein/.npm/_logs/2022-01-12T03_25_10_376Z-debug.log\n",
      "\u001b[0m"
     ]
    }
   ],
>>>>>>> 355a15edcf5172bfeb45610f5adc1265b32d05ac
   "source": [
    "# !npm install -g @hyperspace/cli"
   ]
  },
  {
   "cell_type": "markdown",
   "metadata": {},
   "source": [
    "# Compute - https://github.com/anshuman73/DeML-Golem"
   ]
  },
  {
   "cell_type": "code",
   "execution_count": null,
   "metadata": {},
   "outputs": [],
   "source": []
<<<<<<< HEAD
  },
  {
   "cell_type": "code",
   "execution_count": null,
   "metadata": {},
   "outputs": [],
   "source": []
=======
>>>>>>> 355a15edcf5172bfeb45610f5adc1265b32d05ac
  }
 ],
 "metadata": {
  "kernelspec": {
   "display_name": "Python 3",
   "language": "python",
   "name": "python3"
  },
  "language_info": {
   "codemirror_mode": {
    "name": "ipython",
    "version": 3
   },
   "file_extension": ".py",
   "mimetype": "text/x-python",
   "name": "python",
   "nbconvert_exporter": "python",
   "pygments_lexer": "ipython3",
   "version": "3.8.8"
  }
 },
 "nbformat": 4,
 "nbformat_minor": 4
}
