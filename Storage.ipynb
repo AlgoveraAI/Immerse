{
 "cells": [
  {
   "cell_type": "markdown",
   "id": "0cc5783d-a497-4eba-af23-cf8f5acfe407",
   "metadata": {},
   "source": [
    "# Goal Build all pinning services into more abstract API to upload and download dataset\n",
    "\n",
    "* NFT Storage\n",
    "* Pinata\n",
    "* Eternum\n",
    "* Estuary"
   ]
  },
  {
   "cell_type": "markdown",
   "id": "4df9818b-8d61-4b56-89bc-cb84d0f9a50c",
   "metadata": {
    "jp-MarkdownHeadingCollapsed": true,
    "tags": []
   },
   "source": [
    "## NFT Storage"
   ]
  },
  {
   "cell_type": "code",
   "execution_count": 13,
   "id": "2fe33573-b35c-41d9-a319-d177a7522b66",
   "metadata": {},
   "outputs": [],
   "source": [
    "import nftstorage"
   ]
  },
  {
   "cell_type": "code",
   "execution_count": 14,
   "id": "dbd4769f-7d40-465b-b1c3-1b7ae23e049d",
   "metadata": {},
   "outputs": [],
   "source": [
    "nft_storage = nftstorage.NFTStorage()"
   ]
  },
  {
   "cell_type": "code",
   "execution_count": 15,
   "id": "8c60fdc2-94b7-46b2-8f1b-000c536af493",
   "metadata": {},
   "outputs": [],
   "source": [
    "cred = nft_storage.get_creds()"
   ]
  },
  {
   "cell_type": "code",
   "execution_count": 16,
   "id": "be8fadf4-8cd7-4429-9c9a-49d06b4363c9",
   "metadata": {},
   "outputs": [
    {
     "data": {
      "text/plain": [
       "({'ok': True,\n",
       "  'value': {'cid': 'bafybeif36uqfqj5on23qfdl3nglc7ncgcbnz4ixpleomskg7pqn3xmlgfi',\n",
       "   'created': '2022-03-09T04:03:21.867+00:00',\n",
       "   'type': 'form-data',\n",
       "   'scope': 'audiocentive',\n",
       "   'files': [],\n",
       "   'size': 2086898,\n",
       "   'pin': {'cid': 'bafybeif36uqfqj5on23qfdl3nglc7ncgcbnz4ixpleomskg7pqn3xmlgfi',\n",
       "    'created': '2022-03-09T04:03:21.867+00:00',\n",
       "    'size': 2086898,\n",
       "    'status': 'pinned'},\n",
       "   'deals': [{'status': 'active',\n",
       "     'lastChanged': '2022-03-09T11:01:51.318299+00:00',\n",
       "     'chainDealID': 4380122,\n",
       "     'datamodelSelector': 'Links/92/Hash/Links/193/Hash/Links/1/Hash',\n",
       "     'statusText': 'containing sector active as of 2022-03-09 22:18:30 at epoch 1618597',\n",
       "     'dealActivation': '2022-03-10T19:13:30+00:00',\n",
       "     'dealExpiration': '2023-08-02T19:13:30+00:00',\n",
       "     'miner': 'f01199442',\n",
       "     'pieceCid': 'baga6ea4seaqlt3op73vmsqcservja27nsqjv32itwmwc46rjc5nfb7hp5agmeey',\n",
       "     'batchRootCid': 'bafybeiepq37bwmlpinstbug2nr2ohob34wi5nt3mnmnjkqtxu3da6ruupi'},\n",
       "    {'status': 'active',\n",
       "     'lastChanged': '2022-03-09T11:17:25.209892+00:00',\n",
       "     'chainDealID': 4380455,\n",
       "     'datamodelSelector': 'Links/92/Hash/Links/193/Hash/Links/1/Hash',\n",
       "     'statusText': 'containing sector active as of 2022-03-09 23:40:00 at epoch 1618760',\n",
       "     'dealActivation': '2022-03-10T19:34:30+00:00',\n",
       "     'dealExpiration': '2023-08-02T19:34:30+00:00',\n",
       "     'miner': 'f02620',\n",
       "     'pieceCid': 'baga6ea4seaqlt3op73vmsqcservja27nsqjv32itwmwc46rjc5nfb7hp5agmeey',\n",
       "     'batchRootCid': 'bafybeiepq37bwmlpinstbug2nr2ohob34wi5nt3mnmnjkqtxu3da6ruupi'},\n",
       "    {'status': 'active',\n",
       "     'lastChanged': '2022-03-09T11:57:07.491654+00:00',\n",
       "     'chainDealID': 4381188,\n",
       "     'datamodelSelector': 'Links/92/Hash/Links/193/Hash/Links/1/Hash',\n",
       "     'statusText': 'containing sector active as of 2022-03-09 12:35:30 at epoch 1617431',\n",
       "     'dealActivation': '2022-03-10T22:13:30+00:00',\n",
       "     'dealExpiration': '2023-08-02T22:13:30+00:00',\n",
       "     'miner': 'f010088',\n",
       "     'pieceCid': 'baga6ea4seaqlt3op73vmsqcservja27nsqjv32itwmwc46rjc5nfb7hp5agmeey',\n",
       "     'batchRootCid': 'bafybeiepq37bwmlpinstbug2nr2ohob34wi5nt3mnmnjkqtxu3da6ruupi'}]}},\n",
       " 200)"
      ]
     },
     "execution_count": 16,
     "metadata": {},
     "output_type": "execute_result"
    }
   ],
   "source": [
    "nft_storage.upload_file(\"IMG_3990.JPG\",cred)"
   ]
  },
  {
   "cell_type": "code",
   "execution_count": 334,
   "id": "edcb9662-0fbb-42d1-b509-19c3fccf9d6e",
   "metadata": {},
   "outputs": [
    {
     "data": {
      "text/plain": [
       "{'ok': True,\n",
       " 'value': {'cid': 'bafkreigjqslso7qcejebq6vuyg5ezzkdja5euughikfga3hky2knwzmmhi',\n",
       "  'created': '2022-03-09T02:06:48.313+00:00',\n",
       "  'type': 'form-data',\n",
       "  'scope': 'audiocentive',\n",
       "  'files': [],\n",
       "  'size': 9876,\n",
       "  'pin': {'cid': 'bafkreigjqslso7qcejebq6vuyg5ezzkdja5euughikfga3hky2knwzmmhi',\n",
       "   'created': '2022-03-09T02:06:48.313+00:00',\n",
       "   'size': 9876,\n",
       "   'status': 'pinned'},\n",
       "  'deals': [{'status': 'active',\n",
       "    'lastChanged': '2022-03-09T07:37:02.292312+00:00',\n",
       "    'chainDealID': 4376541,\n",
       "    'datamodelSelector': 'Links/108/Hash/Links/210/Hash/Links/1/Hash',\n",
       "    'statusText': 'containing sector active as of 2022-03-09 12:27:30 at epoch 1617415',\n",
       "    'dealActivation': '2022-03-10T13:09:30+00:00',\n",
       "    'dealExpiration': '2023-08-02T13:09:30+00:00',\n",
       "    'miner': 'f01611097',\n",
       "    'pieceCid': 'baga6ea4seaqm5qvqfegcm7xhuedaehf77amqe4sji3qpz52iz4v3xwjsg6q6uki',\n",
       "    'batchRootCid': 'bafybeifodhtjg5nj4ao7pfcowezsb7c5d3xpayq7bhhbg3qaxbsum4qs5q'},\n",
       "   {'status': 'published',\n",
       "    'lastChanged': '2022-03-09T07:56:51.8062+00:00',\n",
       "    'chainDealID': 4376893,\n",
       "    'datamodelSelector': 'Links/108/Hash/Links/210/Hash/Links/1/Hash',\n",
       "    'statusText': None,\n",
       "    'dealActivation': '2022-03-10T16:08:30+00:00',\n",
       "    'dealExpiration': '2023-08-02T16:08:30+00:00',\n",
       "    'miner': 'f01199430',\n",
       "    'pieceCid': 'baga6ea4seaqm5qvqfegcm7xhuedaehf77amqe4sji3qpz52iz4v3xwjsg6q6uki',\n",
       "    'batchRootCid': 'bafybeifodhtjg5nj4ao7pfcowezsb7c5d3xpayq7bhhbg3qaxbsum4qs5q'},\n",
       "   {'status': 'active',\n",
       "    'lastChanged': '2022-03-09T08:57:03.278848+00:00',\n",
       "    'chainDealID': 4377951,\n",
       "    'datamodelSelector': 'Links/108/Hash/Links/210/Hash/Links/1/Hash',\n",
       "    'statusText': 'containing sector active as of 2022-03-09 13:27:00 at epoch 1617534',\n",
       "    'dealActivation': '2022-03-10T16:59:30+00:00',\n",
       "    'dealExpiration': '2023-08-02T16:59:30+00:00',\n",
       "    'miner': 'f0840770',\n",
       "    'pieceCid': 'baga6ea4seaqm5qvqfegcm7xhuedaehf77amqe4sji3qpz52iz4v3xwjsg6q6uki',\n",
       "    'batchRootCid': 'bafybeifodhtjg5nj4ao7pfcowezsb7c5d3xpayq7bhhbg3qaxbsum4qs5q'}]}}"
      ]
     },
     "execution_count": 334,
     "metadata": {},
     "output_type": "execute_result"
    }
   ],
   "source": [
    "nft_storage.get_file(\"bafkreigjqslso7qcejebq6vuyg5ezzkdja5euughikfga3hky2knwzmmhi\",cred)"
   ]
  },
  {
   "cell_type": "markdown",
   "id": "7ba348ba-819d-4030-bde8-21189fd0486f",
   "metadata": {
    "jp-MarkdownHeadingCollapsed": true,
    "tags": []
   },
   "source": [
    "# IPFS"
   ]
  },
  {
   "cell_type": "code",
   "execution_count": 17,
   "id": "885322ac-55e2-4d07-ab26-1cd37f978ffb",
   "metadata": {},
   "outputs": [],
   "source": [
    "import ipfs\n",
    "\n",
    "ipfs = ipfs.IPFS()"
   ]
  },
  {
   "cell_type": "code",
   "execution_count": 18,
   "id": "37f26bdb-abc7-447d-9384-46298dc40230",
   "metadata": {},
   "outputs": [],
   "source": [
    "# w = ipfs.add(\"All_Gateway_Properties.csv\")\n",
    "\n",
    "# w.json()"
   ]
  },
  {
   "cell_type": "code",
   "execution_count": 19,
   "id": "85a3cacf-6d4c-4625-947b-116992ab6c03",
   "metadata": {},
   "outputs": [
    {
     "name": "stdout",
     "output_type": "stream",
     "text": [
      "Retrieved file hash bafybeif36uqfqj5on23qfdl3nglc7ncgcbnz4ixpleomskg7pqn3xmlgfi from https://dweb.link Response 200\n"
     ]
    }
   ],
   "source": [
    "f_name = ipfs.get_file(\"bafybeif36uqfqj5on23qfdl3nglc7ncgcbnz4ixpleomskg7pqn3xmlgfi\",local_node=False)"
   ]
  },
  {
   "cell_type": "code",
   "execution_count": 20,
   "id": "24dc2aa3-aaec-4f2c-96de-c6de80a65330",
   "metadata": {},
   "outputs": [],
   "source": [
    "response = f_name.content"
   ]
  },
  {
   "cell_type": "code",
   "execution_count": 105,
   "id": "4cefb884-ebd4-49ca-a440-4441f67da5db",
   "metadata": {},
   "outputs": [
    {
     "data": {
      "text/html": [
       "<div>\n",
       "<style scoped>\n",
       "    .dataframe tbody tr th:only-of-type {\n",
       "        vertical-align: middle;\n",
       "    }\n",
       "\n",
       "    .dataframe tbody tr th {\n",
       "        vertical-align: top;\n",
       "    }\n",
       "\n",
       "    .dataframe thead th {\n",
       "        text-align: right;\n",
       "    }\n",
       "</style>\n",
       "<table border=\"1\" class=\"dataframe\">\n",
       "  <thead>\n",
       "    <tr style=\"text-align: right;\">\n",
       "      <th></th>\n",
       "      <th>No.</th>\n",
       "      <th>Address</th>\n",
       "      <th>City/State/Zip</th>\n",
       "    </tr>\n",
       "  </thead>\n",
       "  <tbody>\n",
       "    <tr>\n",
       "      <th>0</th>\n",
       "      <td>1</td>\n",
       "      <td>7178 COLUMBIA GATEWAY DR</td>\n",
       "      <td>COLUMBIA, MD 21046</td>\n",
       "    </tr>\n",
       "    <tr>\n",
       "      <th>1</th>\n",
       "      <td>2</td>\n",
       "      <td>7220 LEE DEFOREST DR</td>\n",
       "      <td>COLUMBIA, MD 21046</td>\n",
       "    </tr>\n",
       "    <tr>\n",
       "      <th>2</th>\n",
       "      <td>3</td>\n",
       "      <td>7224 SOLAR WALK</td>\n",
       "      <td>COLUMBIA, MD 21046</td>\n",
       "    </tr>\n",
       "    <tr>\n",
       "      <th>3</th>\n",
       "      <td>4</td>\n",
       "      <td>7230 LEE DEFOREST DR</td>\n",
       "      <td>COLUMBIA, MD 21046</td>\n",
       "    </tr>\n",
       "    <tr>\n",
       "      <th>4</th>\n",
       "      <td>5</td>\n",
       "      <td>7061 COLUMBIA GATEWAY DR</td>\n",
       "      <td>COLUMBIA, MD 21046</td>\n",
       "    </tr>\n",
       "    <tr>\n",
       "      <th>...</th>\n",
       "      <td>...</td>\n",
       "      <td>...</td>\n",
       "      <td>...</td>\n",
       "    </tr>\n",
       "    <tr>\n",
       "      <th>208</th>\n",
       "      <td>209</td>\n",
       "      <td>7277 CALM SUNSET</td>\n",
       "      <td>COLUMBIA, MD 21046</td>\n",
       "    </tr>\n",
       "    <tr>\n",
       "      <th>209</th>\n",
       "      <td>210</td>\n",
       "      <td>9161 COMMERCE CENTER DR</td>\n",
       "      <td>COLUMBIA, MD 21046</td>\n",
       "    </tr>\n",
       "    <tr>\n",
       "      <th>210</th>\n",
       "      <td>211</td>\n",
       "      <td>8601 ROBERT FULTON DR</td>\n",
       "      <td>COLUMBIA, MD 21046</td>\n",
       "    </tr>\n",
       "    <tr>\n",
       "      <th>211</th>\n",
       "      <td>212</td>\n",
       "      <td>6741 COLUMBIA GATEWAY DR</td>\n",
       "      <td>COLUMBIA, MD 21046</td>\n",
       "    </tr>\n",
       "    <tr>\n",
       "      <th>212</th>\n",
       "      <td>213</td>\n",
       "      <td>9131 COMMERCE CENTER DR</td>\n",
       "      <td>COLUMBIA, MD 21046</td>\n",
       "    </tr>\n",
       "  </tbody>\n",
       "</table>\n",
       "<p>213 rows × 3 columns</p>\n",
       "</div>"
      ],
      "text/plain": [
       "     No.                   Address      City/State/Zip\n",
       "0      1  7178 COLUMBIA GATEWAY DR  COLUMBIA, MD 21046\n",
       "1      2      7220 LEE DEFOREST DR  COLUMBIA, MD 21046\n",
       "2      3           7224 SOLAR WALK  COLUMBIA, MD 21046\n",
       "3      4      7230 LEE DEFOREST DR  COLUMBIA, MD 21046\n",
       "4      5  7061 COLUMBIA GATEWAY DR  COLUMBIA, MD 21046\n",
       "..   ...                       ...                 ...\n",
       "208  209          7277 CALM SUNSET  COLUMBIA, MD 21046\n",
       "209  210   9161 COMMERCE CENTER DR  COLUMBIA, MD 21046\n",
       "210  211     8601 ROBERT FULTON DR  COLUMBIA, MD 21046\n",
       "211  212  6741 COLUMBIA GATEWAY DR  COLUMBIA, MD 21046\n",
       "212  213   9131 COMMERCE CENTER DR  COLUMBIA, MD 21046\n",
       "\n",
       "[213 rows x 3 columns]"
      ]
     },
     "execution_count": 105,
     "metadata": {},
     "output_type": "execute_result"
    }
   ],
   "source": [
    "read_file(response)"
   ]
  },
  {
   "cell_type": "markdown",
   "id": "c3418d0b-e21f-41ff-8965-ce27dd704115",
   "metadata": {
    "jp-MarkdownHeadingCollapsed": true,
    "tags": []
   },
   "source": [
    "# Pinata"
   ]
  },
  {
   "cell_type": "code",
   "execution_count": 29,
   "id": "69826175-5a34-44f9-832f-2f950e764f7e",
   "metadata": {},
   "outputs": [],
   "source": [
    "import pinataV1\n",
    "\n",
    "pinata = pinataV1.Pinata()"
   ]
  },
  {
   "cell_type": "code",
   "execution_count": 30,
   "id": "bcc097d4-cc54-489c-90c6-a4479cfdd7cf",
   "metadata": {},
   "outputs": [],
   "source": [
    "cred = pinata.get_creds()"
   ]
  },
  {
   "cell_type": "code",
   "execution_count": 5,
   "id": "a739dfb8-54b4-4c68-9a92-b85811486630",
   "metadata": {},
   "outputs": [
    {
     "data": {
      "text/plain": [
       "({'IpfsHash': 'QmWvvVY9meNZ6b6UXr8Vy7J2Z4eSS4YpPJ5nyrgfd7ZFMP',\n",
       "  'PinSize': 2290,\n",
       "  'Timestamp': '2022-03-10T16:49:18.236Z',\n",
       "  'isDuplicate': True},\n",
       " 200)"
      ]
     },
     "execution_count": 5,
     "metadata": {},
     "output_type": "execute_result"
    }
   ],
   "source": [
    "pinata.upload_file(\"nftstorage.py\",cred)"
   ]
  },
  {
   "cell_type": "code",
   "execution_count": 31,
   "id": "359e04fe-9ad4-413d-a09a-7c19919fca46",
   "metadata": {},
   "outputs": [
    {
     "data": {
      "text/plain": [
       "({'id': '721300ed-fd44-43ef-87a4-9ed2c3c3e2b9',\n",
       "  'ipfsHash': 'bafybeif36uqfqj5on23qfdl3nglc7ncgcbnz4ixpleomskg7pqn3xmlgfi',\n",
       "  'status': 'prechecking',\n",
       "  'name': 'test.png'},\n",
       " 200)"
      ]
     },
     "execution_count": 31,
     "metadata": {},
     "output_type": "execute_result"
    }
   ],
   "source": [
    "pinata.pin(\"test.png\",\"bafybeif36uqfqj5on23qfdl3nglc7ncgcbnz4ixpleomskg7pqn3xmlgfi\",cred)"
   ]
  },
  {
   "cell_type": "code",
   "execution_count": 7,
   "id": "452236e5-5088-4c35-bba7-8a5ab5fbe12f",
   "metadata": {},
   "outputs": [
    {
     "data": {
      "text/plain": [
       "({'error': {'reason': 'INVALID_ROUTE',\n",
       "   'details': 'The provided route does not match a valid Pinata endpoint'}},\n",
       " 404)"
      ]
     },
     "execution_count": 7,
     "metadata": {},
     "output_type": "execute_result"
    }
   ],
   "source": [
    "pinata.unpin(\"QmWvvVY9meNZ6b6UXr8Vy7J2Z4eSS4YpPJ5nyrgfd7ZFMP\",cred)"
   ]
  },
  {
   "cell_type": "code",
   "execution_count": 32,
   "id": "d734e0df-009e-4b60-8d15-d0cd35986264",
   "metadata": {},
   "outputs": [
    {
     "data": {
      "text/plain": [
       "200"
      ]
     },
     "execution_count": 32,
     "metadata": {},
     "output_type": "execute_result"
    }
   ],
   "source": [
    "pinata.edit_hash(\"www.png\",\"bafybeif36uqfqj5on23qfdl3nglc7ncgcbnz4ixpleomskg7pqn3xmlgfi\",cred)"
   ]
  },
  {
   "cell_type": "code",
   "execution_count": 9,
   "id": "0653634d-82a5-42c1-914b-3b382c8b38e4",
   "metadata": {},
   "outputs": [
    {
     "name": "stdout",
     "output_type": "stream",
     "text": [
      "Retrieved file hash QmZ8bNMNXodiWRJDvDHNCAE1EsnbaiTZaQJafm2pSTYBFh from https://infura-ipfs.io Response 200\n"
     ]
    },
    {
     "data": {
      "text/html": [
       "<div>\n",
       "<style scoped>\n",
       "    .dataframe tbody tr th:only-of-type {\n",
       "        vertical-align: middle;\n",
       "    }\n",
       "\n",
       "    .dataframe tbody tr th {\n",
       "        vertical-align: top;\n",
       "    }\n",
       "\n",
       "    .dataframe thead th {\n",
       "        text-align: right;\n",
       "    }\n",
       "</style>\n",
       "<table border=\"1\" class=\"dataframe\">\n",
       "  <thead>\n",
       "    <tr style=\"text-align: right;\">\n",
       "      <th></th>\n",
       "      <th>No.</th>\n",
       "      <th>Address</th>\n",
       "      <th>City/State/Zip</th>\n",
       "    </tr>\n",
       "  </thead>\n",
       "  <tbody>\n",
       "    <tr>\n",
       "      <th>0</th>\n",
       "      <td>1</td>\n",
       "      <td>7178 COLUMBIA GATEWAY DR</td>\n",
       "      <td>COLUMBIA, MD 21046</td>\n",
       "    </tr>\n",
       "    <tr>\n",
       "      <th>1</th>\n",
       "      <td>2</td>\n",
       "      <td>7220 LEE DEFOREST DR</td>\n",
       "      <td>COLUMBIA, MD 21046</td>\n",
       "    </tr>\n",
       "    <tr>\n",
       "      <th>2</th>\n",
       "      <td>3</td>\n",
       "      <td>7224 SOLAR WALK</td>\n",
       "      <td>COLUMBIA, MD 21046</td>\n",
       "    </tr>\n",
       "    <tr>\n",
       "      <th>3</th>\n",
       "      <td>4</td>\n",
       "      <td>7230 LEE DEFOREST DR</td>\n",
       "      <td>COLUMBIA, MD 21046</td>\n",
       "    </tr>\n",
       "    <tr>\n",
       "      <th>4</th>\n",
       "      <td>5</td>\n",
       "      <td>7061 COLUMBIA GATEWAY DR</td>\n",
       "      <td>COLUMBIA, MD 21046</td>\n",
       "    </tr>\n",
       "    <tr>\n",
       "      <th>...</th>\n",
       "      <td>...</td>\n",
       "      <td>...</td>\n",
       "      <td>...</td>\n",
       "    </tr>\n",
       "    <tr>\n",
       "      <th>208</th>\n",
       "      <td>209</td>\n",
       "      <td>7277 CALM SUNSET</td>\n",
       "      <td>COLUMBIA, MD 21046</td>\n",
       "    </tr>\n",
       "    <tr>\n",
       "      <th>209</th>\n",
       "      <td>210</td>\n",
       "      <td>9161 COMMERCE CENTER DR</td>\n",
       "      <td>COLUMBIA, MD 21046</td>\n",
       "    </tr>\n",
       "    <tr>\n",
       "      <th>210</th>\n",
       "      <td>211</td>\n",
       "      <td>8601 ROBERT FULTON DR</td>\n",
       "      <td>COLUMBIA, MD 21046</td>\n",
       "    </tr>\n",
       "    <tr>\n",
       "      <th>211</th>\n",
       "      <td>212</td>\n",
       "      <td>6741 COLUMBIA GATEWAY DR</td>\n",
       "      <td>COLUMBIA, MD 21046</td>\n",
       "    </tr>\n",
       "    <tr>\n",
       "      <th>212</th>\n",
       "      <td>213</td>\n",
       "      <td>9131 COMMERCE CENTER DR</td>\n",
       "      <td>COLUMBIA, MD 21046</td>\n",
       "    </tr>\n",
       "  </tbody>\n",
       "</table>\n",
       "<p>213 rows × 3 columns</p>\n",
       "</div>"
      ],
      "text/plain": [
       "     No.                   Address      City/State/Zip\n",
       "0      1  7178 COLUMBIA GATEWAY DR  COLUMBIA, MD 21046\n",
       "1      2      7220 LEE DEFOREST DR  COLUMBIA, MD 21046\n",
       "2      3           7224 SOLAR WALK  COLUMBIA, MD 21046\n",
       "3      4      7230 LEE DEFOREST DR  COLUMBIA, MD 21046\n",
       "4      5  7061 COLUMBIA GATEWAY DR  COLUMBIA, MD 21046\n",
       "..   ...                       ...                 ...\n",
       "208  209          7277 CALM SUNSET  COLUMBIA, MD 21046\n",
       "209  210   9161 COMMERCE CENTER DR  COLUMBIA, MD 21046\n",
       "210  211     8601 ROBERT FULTON DR  COLUMBIA, MD 21046\n",
       "211  212  6741 COLUMBIA GATEWAY DR  COLUMBIA, MD 21046\n",
       "212  213   9131 COMMERCE CENTER DR  COLUMBIA, MD 21046\n",
       "\n",
       "[213 rows x 3 columns]"
      ]
     },
     "execution_count": 9,
     "metadata": {},
     "output_type": "execute_result"
    }
   ],
   "source": [
    "f_name = ipfs.get_file(\"QmZ8bNMNXodiWRJDvDHNCAE1EsnbaiTZaQJafm2pSTYBFh\",local_node=False)\n",
    "\n",
    "read_file(f_name.content)"
   ]
  },
  {
   "cell_type": "markdown",
   "id": "7d96f948-251c-4677-a527-0db88fc09b0e",
   "metadata": {},
   "source": [
    "## Request Files"
   ]
  },
  {
   "cell_type": "code",
   "execution_count": 36,
   "id": "76af2563-15a7-4356-8896-70347db710a7",
   "metadata": {},
   "outputs": [
    {
     "data": {
      "text/html": [
       "<div>\n",
       "<style scoped>\n",
       "    .dataframe tbody tr th:only-of-type {\n",
       "        vertical-align: middle;\n",
       "    }\n",
       "\n",
       "    .dataframe tbody tr th {\n",
       "        vertical-align: top;\n",
       "    }\n",
       "\n",
       "    .dataframe thead th {\n",
       "        text-align: right;\n",
       "    }\n",
       "</style>\n",
       "<table border=\"1\" class=\"dataframe\">\n",
       "  <thead>\n",
       "    <tr style=\"text-align: right;\">\n",
       "      <th></th>\n",
       "      <th>id</th>\n",
       "      <th>ipfs_pin_hash</th>\n",
       "      <th>size</th>\n",
       "      <th>user_id</th>\n",
       "      <th>date_pinned</th>\n",
       "      <th>date_unpinned</th>\n",
       "      <th>metadata</th>\n",
       "      <th>regions</th>\n",
       "    </tr>\n",
       "  </thead>\n",
       "  <tbody>\n",
       "    <tr>\n",
       "      <th>0</th>\n",
       "      <td>721300ed-fd44-43ef-87a4-9ed2c3c3e2b9</td>\n",
       "      <td>bafybeif36uqfqj5on23qfdl3nglc7ncgcbnz4ixpleoms...</td>\n",
       "      <td>2086898</td>\n",
       "      <td>d28f20cf-dfe0-4c8f-9272-26b9c2d8a3cd</td>\n",
       "      <td>2022-03-11T02:14:04.863Z</td>\n",
       "      <td>None</td>\n",
       "      <td>{'name': 'www.png', 'keyvalues': {'0': 'newKey...</td>\n",
       "      <td>[{'regionId': 'NYC1', 'currentReplicationCount...</td>\n",
       "    </tr>\n",
       "    <tr>\n",
       "      <th>1</th>\n",
       "      <td>3a79ae10-7392-4f0f-bafc-70543bdd6ada</td>\n",
       "      <td>QmWvvVY9meNZ6b6UXr8Vy7J2Z4eSS4YpPJ5nyrgfd7ZFMP</td>\n",
       "      <td>2290</td>\n",
       "      <td>d28f20cf-dfe0-4c8f-9272-26b9c2d8a3cd</td>\n",
       "      <td>2022-03-10T16:49:18.236Z</td>\n",
       "      <td>None</td>\n",
       "      <td>{'name': 'happy.py', 'keyvalues': {'0': 'newKe...</td>\n",
       "      <td>[{'regionId': 'NYC1', 'currentReplicationCount...</td>\n",
       "    </tr>\n",
       "    <tr>\n",
       "      <th>2</th>\n",
       "      <td>147797ca-a95a-4be0-8acd-5242d31cfe8f</td>\n",
       "      <td>QmZ8bNMNXodiWRJDvDHNCAE1EsnbaiTZaQJafm2pSTYBFh</td>\n",
       "      <td>9887</td>\n",
       "      <td>d28f20cf-dfe0-4c8f-9272-26b9c2d8a3cd</td>\n",
       "      <td>2022-03-10T15:57:40.831Z</td>\n",
       "      <td>None</td>\n",
       "      <td>{'name': 'All_Gateway_Properties.csv', 'keyval...</td>\n",
       "      <td>[{'regionId': 'NYC1', 'currentReplicationCount...</td>\n",
       "    </tr>\n",
       "  </tbody>\n",
       "</table>\n",
       "</div>"
      ],
      "text/plain": [
       "                                     id  \\\n",
       "0  721300ed-fd44-43ef-87a4-9ed2c3c3e2b9   \n",
       "1  3a79ae10-7392-4f0f-bafc-70543bdd6ada   \n",
       "2  147797ca-a95a-4be0-8acd-5242d31cfe8f   \n",
       "\n",
       "                                       ipfs_pin_hash     size  \\\n",
       "0  bafybeif36uqfqj5on23qfdl3nglc7ncgcbnz4ixpleoms...  2086898   \n",
       "1     QmWvvVY9meNZ6b6UXr8Vy7J2Z4eSS4YpPJ5nyrgfd7ZFMP     2290   \n",
       "2     QmZ8bNMNXodiWRJDvDHNCAE1EsnbaiTZaQJafm2pSTYBFh     9887   \n",
       "\n",
       "                                user_id               date_pinned  \\\n",
       "0  d28f20cf-dfe0-4c8f-9272-26b9c2d8a3cd  2022-03-11T02:14:04.863Z   \n",
       "1  d28f20cf-dfe0-4c8f-9272-26b9c2d8a3cd  2022-03-10T16:49:18.236Z   \n",
       "2  d28f20cf-dfe0-4c8f-9272-26b9c2d8a3cd  2022-03-10T15:57:40.831Z   \n",
       "\n",
       "  date_unpinned                                           metadata  \\\n",
       "0          None  {'name': 'www.png', 'keyvalues': {'0': 'newKey...   \n",
       "1          None  {'name': 'happy.py', 'keyvalues': {'0': 'newKe...   \n",
       "2          None  {'name': 'All_Gateway_Properties.csv', 'keyval...   \n",
       "\n",
       "                                             regions  \n",
       "0  [{'regionId': 'NYC1', 'currentReplicationCount...  \n",
       "1  [{'regionId': 'NYC1', 'currentReplicationCount...  \n",
       "2  [{'regionId': 'NYC1', 'currentReplicationCount...  "
      ]
     },
     "execution_count": 36,
     "metadata": {},
     "output_type": "execute_result"
    }
   ],
   "source": [
    "params = {\"status\":\"pinned\",\"hashContains\":None,\"pinStart\":None,\n",
    "          \"pinEnd\":None, \"unpinStart\":None,\"unpinEnd\":None,\n",
    "         \"pinSizeMin\":None,\"pinSizeMax\":None,\"pageLimit\":None,\n",
    "          \"pageOffset\":None,\n",
    "         }\n",
    "\n",
    "pf,status = pinata.get_pinned_files(cred,params)\n",
    "pd.DataFrame(pf[\"rows\"])"
   ]
  },
  {
   "cell_type": "markdown",
   "id": "2a8844a5-3315-4c14-9f07-eab493d1d681",
   "metadata": {},
   "source": [
    "# Estuary"
   ]
  },
  {
   "cell_type": "code",
   "execution_count": null,
   "id": "a4d312e4-4c66-4f81-bfd3-6a630cf56d1c",
   "metadata": {},
   "outputs": [],
   "source": []
  }
 ],
 "metadata": {
  "kernelspec": {
   "display_name": "Python 3 (ipykernel)",
   "language": "python",
   "name": "python3"
  },
  "language_info": {
   "codemirror_mode": {
    "name": "ipython",
    "version": 3
   },
   "file_extension": ".py",
   "mimetype": "text/x-python",
   "name": "python",
   "nbconvert_exporter": "python",
   "pygments_lexer": "ipython3",
   "version": "3.9.7"
  }
 },
 "nbformat": 4,
 "nbformat_minor": 5
}
