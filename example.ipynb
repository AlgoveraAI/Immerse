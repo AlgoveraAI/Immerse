{
 "cells": [
  {
   "cell_type": "markdown",
   "metadata": {
    "tags": []
   },
   "source": [
    "# Goal of this notebook is to create a flow for a data scientist to be able to\n",
    "- [x] Create a wallet, see balances\n",
    "- [x] Get tokens from faucet using links (Looks like the faucets discourage automated methods)\n",
    "- [ ] Upload and retrieve Dataset to/from IPFS\n",
    "- [ ] Search for a dataset on Ocean\n",
    "- [ ] Download the dataset\n",
    "\n",
    "\n",
    "Original Notebook found here: https://github.com/AlgoveraAI/generative-art/blob/main/notebooks/1-cryptopunks-dataset.ipynb\n",
    "<br>IPFS Code is found here: https://docs.ipfs.io/how-to/command-line-quick-start/#take-your-node-online\n"
   ]
  },
  {
   "cell_type": "code",
   "execution_count": 10,
   "metadata": {},
   "outputs": [],
   "source": [
    "from IPython.display import Image "
   ]
  },
  {
   "cell_type": "markdown",
   "metadata": {},
   "source": [
    "# Create IPFS Node"
   ]
  },
  {
   "cell_type": "code",
   "execution_count": 2,
   "metadata": {},
   "outputs": [
    {
     "name": "stdout",
     "output_type": "stream",
     "text": [
      "  % Total    % Received % Xferd  Average Speed   Time    Time     Time  Current\n",
      "                                 Dload  Upload   Total   Spent    Left  Speed\n",
      "100 23.1M  100 23.1M    0     0  12.1M      0  0:00:01  0:00:01 --:--:-- 12.0M\n",
      "tar: Error opening archive: Failed to open 'ipfs/go-ipfs_v0.11.0_darwin-amd64.tar.gz'\n",
      "zsh:cd:1: no such file or directory: go-ipfs\n",
      "bash: go-ipfs/install.sh: No such file or directory\n",
      "ipfs version 0.11.0\n",
      "generating ED25519 keypair...done\n",
      "peer identity: 12D3KooWAdyBRTejuEZNzZdn6thknBnAxCq4YLemLfptNbDvG9CX\n",
      "initializing IPFS node at /Users/adamgoldstein/.ipfs\n",
      "Error: ipfs configuration file already exists!\n",
      "Reinitializing would overwrite your keys.\n",
      "\n",
      "Hello and Welcome to IPFS!\n",
      "\n",
      "██╗██████╗ ███████╗███████╗\n",
      "██║██╔══██╗██╔════╝██╔════╝\n",
      "██║██████╔╝█████╗  ███████╗\n",
      "██║██╔═══╝ ██╔══╝  ╚════██║\n",
      "██║██║     ██║     ███████║\n",
      "╚═╝╚═╝     ╚═╝     ╚══════╝\n",
      "\n",
      "If you're seeing this, you have successfully installed\n",
      "IPFS and are now interfacing with the ipfs merkledag!\n",
      "\n",
      " -------------------------------------------------------\n",
      "| Warning:                                              |\n",
      "|   This is alpha software. Use at your own discretion! |\n",
      "|   Much is missing or lacking polish. There are bugs.  |\n",
      "|   Not yet secure. Read the security notes for more.   |\n",
      " -------------------------------------------------------\n",
      "\n",
      "Check out some of the other files in this directory:\n",
      "\n",
      "  ./about\n",
      "  ./help\n",
      "  ./quick-start     <-- usage examples\n",
      "  ./readme          <-- this file\n",
      "  ./security-notes\n"
     ]
    }
   ],
   "source": [
    "!curl -O https://dist.ipfs.io/go-ipfs/v0.11.0/go-ipfs_v0.11.0_darwin-amd64.tar.gz\n",
    "!tar -xvzf ipfs/go-ipfs_v0.11.0_darwin-amd64.tar.gz -C /i/\n",
    "!cd go-ipfs\n",
    "!bash go-ipfs/install.sh\n",
    "!ipfs --version\n",
    "!ipfs init\n",
    "!ipfs cat /ipfs/QmQPeNsJPyVWPFDVHb77w8G42Fvo15z4bG2X8D2GhfbSXc/readme"
   ]
  },
  {
   "cell_type": "markdown",
   "metadata": {},
   "source": [
    "# Starting the IPFS Node\n",
    "\n",
    "# Must Complete Before Proceeding\n",
    "* Create Terminal Window \n",
    "* Navigate to File -> New -> Terminal \n",
    "* run **ipfs daemon** to start the IPFS node initialized above"
   ]
  },
  {
   "cell_type": "markdown",
   "metadata": {},
   "source": [
    "# IPFS"
   ]
  },
  {
   "cell_type": "code",
   "execution_count": 13,
   "metadata": {},
   "outputs": [],
   "source": [
    "from dataset.exdataset import Datasets\n",
    "from storage.ipfs import IPFS\n",
    "from datamarket.ocean import Ocean\n",
    "from wallet.ethwallet import Wallet\n",
    "\n",
    "import numpy as np"
   ]
  },
  {
   "cell_type": "code",
   "execution_count": 14,
   "metadata": {},
   "outputs": [
    {
     "data": {
      "text/plain": [
       "{'punks': 'did:op:C9D0568838fa670baEe7195Ea443b32EfCAc2281',\n",
       " 'VladData': 'did:op:72419bf07C6181dAEdc068caB0d81faa2951910e',\n",
       " 'AvgDenver': 'did:op:81607300c6b50fbF0172E9A0038B6e898Fc15d82'}"
      ]
     },
     "execution_count": 14,
     "metadata": {},
     "output_type": "execute_result"
    }
   ],
   "source": [
    "Ocean.get_example_datasets()"
   ]
  },
  {
   "cell_type": "code",
   "execution_count": 15,
   "metadata": {},
   "outputs": [],
   "source": [
    "wallet = Wallet.create_wallet()"
   ]
  },
  {
   "cell_type": "code",
   "execution_count": 16,
   "metadata": {},
   "outputs": [],
   "source": [
    "#Get and create samples\n",
    "\n",
    "Datasets.create_np_ones_file(10,10,fn=\"data/numpyarray.txt\")\n",
    "Datasets.create_test_file(10,fn=\"data/numpyarray.dat\")\n",
    "example_image_hash = Datasets.get_example_image_hash()"
   ]
  },
  {
   "cell_type": "code",
   "execution_count": 17,
   "metadata": {},
   "outputs": [
    {
     "name": "stdout",
     "output_type": "stream",
     "text": [
      "Retrieved file hash QmSgvgwxZGaBLqkGyWemEDqikCqU52XxsYLKtdy3vGZ8uq from IPFS - Response 200\n"
     ]
    }
   ],
   "source": [
    "# a = IPFS.add(\"nparray.txt\")\n",
    "file_hash = IPFS.get_file(example_image_hash)"
   ]
  },
  {
   "cell_type": "markdown",
   "metadata": {},
   "source": [
    "# Need Help Here"
   ]
  },
  {
   "cell_type": "code",
   "execution_count": 18,
   "metadata": {},
   "outputs": [
    {
     "data": {
      "image/png": "[encoded data removed]",
      "text/plain": [
       "<IPython.core.display.Image object>"
      ]
     },
     "execution_count": 18,
     "metadata": {},
     "output_type": "execute_result"
    }
   ],
   "source": [
    "# I am struggling to figure out how to read the bytes that are returned from get_file\n",
    "Image(file_hash.content)"
   ]
  },
  {
   "cell_type": "code",
   "execution_count": 20,
   "metadata": {},
   "outputs": [
    {
     "ename": "ValueError",
     "evalue": "Cannot load file containing pickled data when allow_pickle=False",
     "output_type": "error",
     "traceback": [
      "\u001b[0;31m---------------------------------------------------------------------------\u001b[0m",
      "\u001b[0;31mValueError\u001b[0m                                Traceback (most recent call last)",
      "\u001b[0;32m<ipython-input-20-1f43ad434f27>\u001b[0m in \u001b[0;36m<module>\u001b[0;34m\u001b[0m\n\u001b[1;32m      3\u001b[0m \u001b[0;34m\u001b[0m\u001b[0m\n\u001b[1;32m      4\u001b[0m \u001b[0;34m\u001b[0m\u001b[0m\n\u001b[0;32m----> 5\u001b[0;31m \u001b[0mnp\u001b[0m\u001b[0;34m.\u001b[0m\u001b[0mload\u001b[0m\u001b[0;34m(\u001b[0m\u001b[0;34m\"file.txt\"\u001b[0m\u001b[0;34m,\u001b[0m\u001b[0mallow_pickle\u001b[0m\u001b[0;34m=\u001b[0m\u001b[0;32mFalse\u001b[0m\u001b[0;34m)\u001b[0m\u001b[0;34m\u001b[0m\u001b[0;34m\u001b[0m\u001b[0m\n\u001b[0m\u001b[1;32m      6\u001b[0m \u001b[0;34m\u001b[0m\u001b[0m\n",
      "\u001b[0;32m~/opt/anaconda3/lib/python3.8/site-packages/numpy/lib/npyio.py\u001b[0m in \u001b[0;36mload\u001b[0;34m(file, mmap_mode, allow_pickle, fix_imports, encoding)\u001b[0m\n\u001b[1;32m    443\u001b[0m             \u001b[0;31m# Try a pickle\u001b[0m\u001b[0;34m\u001b[0m\u001b[0;34m\u001b[0m\u001b[0;34m\u001b[0m\u001b[0m\n\u001b[1;32m    444\u001b[0m             \u001b[0;32mif\u001b[0m \u001b[0;32mnot\u001b[0m \u001b[0mallow_pickle\u001b[0m\u001b[0;34m:\u001b[0m\u001b[0;34m\u001b[0m\u001b[0;34m\u001b[0m\u001b[0m\n\u001b[0;32m--> 445\u001b[0;31m                 raise ValueError(\"Cannot load file containing pickled data \"\n\u001b[0m\u001b[1;32m    446\u001b[0m                                  \"when allow_pickle=False\")\n\u001b[1;32m    447\u001b[0m             \u001b[0;32mtry\u001b[0m\u001b[0;34m:\u001b[0m\u001b[0;34m\u001b[0m\u001b[0;34m\u001b[0m\u001b[0m\n",
      "\u001b[0;31mValueError\u001b[0m: Cannot load file containing pickled data when allow_pickle=False"
     ]
    }
   ],
   "source": [
    "\n",
    "with open(\"file.txt\", \"w\") as f:\n",
    "    f.write(str(file_hash))\n",
    "    \n",
    "    \n",
    "np.load(\"file.txt\",allow_pickle=False)\n",
    "\n"
   ]
  },
  {
   "cell_type": "code",
   "execution_count": 21,
   "metadata": {},
   "outputs": [
    {
     "data": {
      "text/html": [
       "<div>\n",
       "<style scoped>\n",
       "    .dataframe tbody tr th:only-of-type {\n",
       "        vertical-align: middle;\n",
       "    }\n",
       "\n",
       "    .dataframe tbody tr th {\n",
       "        vertical-align: top;\n",
       "    }\n",
       "\n",
       "    .dataframe thead th {\n",
       "        text-align: right;\n",
       "    }\n",
       "</style>\n",
       "<table border=\"1\" class=\"dataframe\">\n",
       "  <thead>\n",
       "    <tr style=\"text-align: right;\">\n",
       "      <th></th>\n",
       "      <th>Addr</th>\n",
       "      <th>Peer</th>\n",
       "      <th>Latency</th>\n",
       "      <th>Muxer</th>\n",
       "      <th>Direction</th>\n",
       "      <th>Streams</th>\n",
       "    </tr>\n",
       "  </thead>\n",
       "  <tbody>\n",
       "    <tr>\n",
       "      <th>0</th>\n",
       "      <td>/ip4/1.164.11.66/tcp/53750</td>\n",
       "      <td>QmZHxmMJtgFYLyhdL3bt5TToo8trYhsZvHD1x4F3DF9X3Q</td>\n",
       "      <td></td>\n",
       "      <td></td>\n",
       "      <td>0</td>\n",
       "      <td>None</td>\n",
       "    </tr>\n",
       "    <tr>\n",
       "      <th>1</th>\n",
       "      <td>/ip4/103.55.37.196/udp/4001/quic</td>\n",
       "      <td>12D3KooWJB9y3L25nXb7QBERHN1cX724tWp5wMMSmN2Kfu...</td>\n",
       "      <td></td>\n",
       "      <td></td>\n",
       "      <td>0</td>\n",
       "      <td>None</td>\n",
       "    </tr>\n",
       "    <tr>\n",
       "      <th>2</th>\n",
       "      <td>/ip4/103.82.231.41/udp/4001/quic</td>\n",
       "      <td>12D3KooWMRGimpHNUrVfhgSMbRiedRkSv9VVuUGKrMZYXu...</td>\n",
       "      <td></td>\n",
       "      <td></td>\n",
       "      <td>0</td>\n",
       "      <td>None</td>\n",
       "    </tr>\n",
       "    <tr>\n",
       "      <th>3</th>\n",
       "      <td>/ip4/104.131.131.82/udp/4001/quic</td>\n",
       "      <td>QmaCpDMGvV2BGHeYERUEnRQAwe3N8SzbUtfsmvsqQLuvuJ</td>\n",
       "      <td></td>\n",
       "      <td></td>\n",
       "      <td>0</td>\n",
       "      <td>None</td>\n",
       "    </tr>\n",
       "    <tr>\n",
       "      <th>4</th>\n",
       "      <td>/ip4/104.194.9.165/udp/4001/quic</td>\n",
       "      <td>12D3KooWBibDRTvnb9q6qLdjfScwzCyRYFZx5PWA79hkqj...</td>\n",
       "      <td></td>\n",
       "      <td></td>\n",
       "      <td>0</td>\n",
       "      <td>None</td>\n",
       "    </tr>\n",
       "    <tr>\n",
       "      <th>...</th>\n",
       "      <td>...</td>\n",
       "      <td>...</td>\n",
       "      <td>...</td>\n",
       "      <td>...</td>\n",
       "      <td>...</td>\n",
       "      <td>...</td>\n",
       "    </tr>\n",
       "    <tr>\n",
       "      <th>274</th>\n",
       "      <td>/ip4/95.179.197.245/udp/4001/quic</td>\n",
       "      <td>12D3KooWJikBxwU76nGThQEFvPaq8sZchwFnZteeMR6UXA...</td>\n",
       "      <td></td>\n",
       "      <td></td>\n",
       "      <td>0</td>\n",
       "      <td>None</td>\n",
       "    </tr>\n",
       "    <tr>\n",
       "      <th>275</th>\n",
       "      <td>/ip4/96.39.226.15/udp/48725/quic</td>\n",
       "      <td>12D3KooWNvs15UN9ybbp1LUXPhRgQgQbrTLQtAmDQXcWi9...</td>\n",
       "      <td></td>\n",
       "      <td></td>\n",
       "      <td>0</td>\n",
       "      <td>None</td>\n",
       "    </tr>\n",
       "    <tr>\n",
       "      <th>276</th>\n",
       "      <td>/ip4/98.116.159.39/udp/50947/quic</td>\n",
       "      <td>12D3KooWE1JVXE1zM574GdwfZ2rNvwRP7Je7aSXBTpesFc...</td>\n",
       "      <td></td>\n",
       "      <td></td>\n",
       "      <td>0</td>\n",
       "      <td>None</td>\n",
       "    </tr>\n",
       "    <tr>\n",
       "      <th>277</th>\n",
       "      <td>/ip4/99.228.225.178/tcp/4001</td>\n",
       "      <td>12D3KooWAiLet7vm1CBwAv4M7eEXwPLBVMMqi6EMWqh3c5...</td>\n",
       "      <td></td>\n",
       "      <td></td>\n",
       "      <td>0</td>\n",
       "      <td>None</td>\n",
       "    </tr>\n",
       "    <tr>\n",
       "      <th>278</th>\n",
       "      <td>/ip4/99.228.82.26/tcp/34496</td>\n",
       "      <td>QmXtpmv6cMLySW8ew9fRqMyYoWehQJA8Upq94XMHehex7h</td>\n",
       "      <td></td>\n",
       "      <td></td>\n",
       "      <td>0</td>\n",
       "      <td>None</td>\n",
       "    </tr>\n",
       "  </tbody>\n",
       "</table>\n",
       "<p>279 rows × 6 columns</p>\n",
       "</div>"
      ],
      "text/plain": [
       "                                  Addr  \\\n",
       "0           /ip4/1.164.11.66/tcp/53750   \n",
       "1     /ip4/103.55.37.196/udp/4001/quic   \n",
       "2     /ip4/103.82.231.41/udp/4001/quic   \n",
       "3    /ip4/104.131.131.82/udp/4001/quic   \n",
       "4     /ip4/104.194.9.165/udp/4001/quic   \n",
       "..                                 ...   \n",
       "274  /ip4/95.179.197.245/udp/4001/quic   \n",
       "275   /ip4/96.39.226.15/udp/48725/quic   \n",
       "276  /ip4/98.116.159.39/udp/50947/quic   \n",
       "277       /ip4/99.228.225.178/tcp/4001   \n",
       "278        /ip4/99.228.82.26/tcp/34496   \n",
       "\n",
       "                                                  Peer Latency Muxer  \\\n",
       "0       QmZHxmMJtgFYLyhdL3bt5TToo8trYhsZvHD1x4F3DF9X3Q                 \n",
       "1    12D3KooWJB9y3L25nXb7QBERHN1cX724tWp5wMMSmN2Kfu...                 \n",
       "2    12D3KooWMRGimpHNUrVfhgSMbRiedRkSv9VVuUGKrMZYXu...                 \n",
       "3       QmaCpDMGvV2BGHeYERUEnRQAwe3N8SzbUtfsmvsqQLuvuJ                 \n",
       "4    12D3KooWBibDRTvnb9q6qLdjfScwzCyRYFZx5PWA79hkqj...                 \n",
       "..                                                 ...     ...   ...   \n",
       "274  12D3KooWJikBxwU76nGThQEFvPaq8sZchwFnZteeMR6UXA...                 \n",
       "275  12D3KooWNvs15UN9ybbp1LUXPhRgQgQbrTLQtAmDQXcWi9...                 \n",
       "276  12D3KooWE1JVXE1zM574GdwfZ2rNvwRP7Je7aSXBTpesFc...                 \n",
       "277  12D3KooWAiLet7vm1CBwAv4M7eEXwPLBVMMqi6EMWqh3c5...                 \n",
       "278     QmXtpmv6cMLySW8ew9fRqMyYoWehQJA8Upq94XMHehex7h                 \n",
       "\n",
       "     Direction Streams  \n",
       "0            0    None  \n",
       "1            0    None  \n",
       "2            0    None  \n",
       "3            0    None  \n",
       "4            0    None  \n",
       "..         ...     ...  \n",
       "274          0    None  \n",
       "275          0    None  \n",
       "276          0    None  \n",
       "277          0    None  \n",
       "278          0    None  \n",
       "\n",
       "[279 rows x 6 columns]"
      ]
     },
     "execution_count": 21,
     "metadata": {},
     "output_type": "execute_result"
    }
   ],
   "source": [
    "import pandas as pd\n",
    "\n",
    "#Other Live Peers\n",
    "peers = IPFS.get_peers()\n",
    "df = pd.json_normalize(pd.DataFrame.from_dict(peers)[\"Peers\"])\n",
    "\n",
    "df"
   ]
  },
  {
   "cell_type": "markdown",
   "metadata": {},
   "source": [
    "# Used https://flyingzumwalt.gitbooks.io/decentralized-web-primer/content/files-on-ipfs/lessons/add-and-retrieve-file-content.html"
   ]
  },
  {
   "cell_type": "markdown",
   "metadata": {},
   "source": [
    "# Add and retrieve file from IPFS"
   ]
  },
  {
   "cell_type": "code",
   "execution_count": 22,
   "metadata": {},
   "outputs": [
    {
     "ename": "AssertionError",
     "evalue": "",
     "output_type": "error",
     "traceback": [
      "\u001b[0;31m---------------------------------------------------------------------------\u001b[0m",
      "\u001b[0;31mAssertionError\u001b[0m                            Traceback (most recent call last)",
      "\u001b[0;32m<ipython-input-22-6318d0608b60>\u001b[0m in \u001b[0;36m<module>\u001b[0;34m\u001b[0m\n\u001b[1;32m      1\u001b[0m \u001b[0;31m# Don't proceed\u001b[0m\u001b[0;34m\u001b[0m\u001b[0;34m\u001b[0m\u001b[0;34m\u001b[0m\u001b[0m\n\u001b[0;32m----> 2\u001b[0;31m \u001b[0;32massert\u001b[0m \u001b[0;36m1\u001b[0m \u001b[0;34m==\u001b[0m \u001b[0;36m0\u001b[0m\u001b[0;34m\u001b[0m\u001b[0;34m\u001b[0m\u001b[0m\n\u001b[0m",
      "\u001b[0;31mAssertionError\u001b[0m: "
     ]
    }
   ],
   "source": [
    "# Don't proceed\n",
    "assert 1 == 0"
   ]
  },
  {
   "cell_type": "markdown",
   "metadata": {},
   "source": [
    "# Dat - https://github.com/hypercore-protocol/cli i hyp daemon"
   ]
  },
  {
   "cell_type": "code",
   "execution_count": 23,
   "metadata": {
    "tags": []
   },
   "outputs": [],
   "source": [
    "# !npm install -g @hyperspace/cli"
   ]
  },
  {
   "cell_type": "markdown",
   "metadata": {},
   "source": [
    "# Compute - https://github.com/anshuman73/DeML-Golem"
   ]
  },
  {
   "cell_type": "code",
   "execution_count": null,
   "metadata": {},
   "outputs": [],
   "source": []
  },
  {
   "cell_type": "code",
   "execution_count": null,
   "metadata": {},
   "outputs": [],
   "source": []
  }
 ],
 "metadata": {
  "kernelspec": {
   "display_name": "Python 3",
   "language": "python",
   "name": "python3"
  },
  "language_info": {
   "codemirror_mode": {
    "name": "ipython",
    "version": 3
   },
   "file_extension": ".py",
   "mimetype": "text/x-python",
   "name": "python",
   "nbconvert_exporter": "python",
   "pygments_lexer": "ipython3",
   "version": "3.8.8"
  }
 },
 "nbformat": 4,
 "nbformat_minor": 4
}
