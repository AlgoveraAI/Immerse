{
 "cells": [
  {
   "cell_type": "markdown",
   "id": "0cc5783d-a497-4eba-af23-cf8f5acfe407",
   "metadata": {
    "tags": []
   },
   "source": [
    "# Goal Build all pinning services into more abstract API to upload and download dataset\n",
    "\n",
    "* NFT Storage\n",
    "* Pinata\n",
    "* Estuary"
   ]
  },
  {
   "cell_type": "code",
   "execution_count": 1,
   "id": "2293e361-f924-42ca-8668-48061f01d604",
   "metadata": {},
   "outputs": [],
   "source": [
    "import pandas as pd\n",
    "\n",
    "from helpers.helper import read_file"
   ]
  },
  {
   "cell_type": "markdown",
   "id": "4df9818b-8d61-4b56-89bc-cb84d0f9a50c",
   "metadata": {
    "tags": []
   },
   "source": [
    "## NFT Storage"
   ]
  },
  {
   "cell_type": "code",
   "execution_count": 2,
   "id": "2fe33573-b35c-41d9-a319-d177a7522b66",
   "metadata": {},
   "outputs": [],
   "source": [
    "from storage.nftstorage import NFTStorage"
   ]
  },
  {
   "cell_type": "code",
   "execution_count": 3,
   "id": "dbd4769f-7d40-465b-b1c3-1b7ae23e049d",
   "metadata": {},
   "outputs": [],
   "source": [
    "nft_storage = NFTStorage()"
   ]
  },
  {
   "cell_type": "code",
   "execution_count": 4,
   "id": "8c60fdc2-94b7-46b2-8f1b-000c536af493",
   "metadata": {},
   "outputs": [],
   "source": [
    "cred = nft_storage.get_creds()"
   ]
  },
  {
   "cell_type": "code",
   "execution_count": 8,
   "id": "a0d255e2-90a5-41cf-8a6a-15ca32cbcc5c",
   "metadata": {},
   "outputs": [],
   "source": [
    "w = open(\"dataset/sample/tabular-epochs100_ntp5_tw3.pkl\",\"rb\")"
   ]
  },
  {
   "cell_type": "code",
   "execution_count": 9,
   "id": "be8fadf4-8cd7-4429-9c9a-49d06b4363c9",
   "metadata": {},
   "outputs": [],
   "source": [
    "response,status = nft_storage.upload_file(cred,\"dataset/sample/tabular-epochs100_ntp5_tw3.pkl\")"
   ]
  },
  {
   "cell_type": "code",
   "execution_count": 10,
   "id": "edcb9662-0fbb-42d1-b509-19c3fccf9d6e",
   "metadata": {},
   "outputs": [],
   "source": [
    "check_file = nft_storage.get_file(response[\"value\"][\"cid\"],cred)"
   ]
  },
  {
   "cell_type": "code",
   "execution_count": 11,
   "id": "c4dca054-7379-460c-87d0-b09e538419a1",
   "metadata": {},
   "outputs": [],
   "source": [
    "# nft_storage.unpin(\"bafybeie4yihf42kahspmhqkmovpxt2iliqqikbriwsglb6reujvzsnp5ke\",cred)"
   ]
  },
  {
   "cell_type": "markdown",
   "id": "7ba348ba-819d-4030-bde8-21189fd0486f",
   "metadata": {
    "tags": []
   },
   "source": [
    "# IPFS"
   ]
  },
  {
   "cell_type": "code",
   "execution_count": 12,
   "id": "885322ac-55e2-4d07-ab26-1cd37f978ffb",
   "metadata": {},
   "outputs": [],
   "source": [
    "from storage.ipfs import IPFS\n",
    "# from helpers.helper import read_file\n",
    "\n",
    "ipfs = IPFS()"
   ]
  },
  {
   "cell_type": "code",
   "execution_count": 18,
   "id": "37f26bdb-abc7-447d-9384-46298dc40230",
   "metadata": {},
   "outputs": [],
   "source": [
    "# w = ipfs.add(\"All_Gateway_Properties.csv\")\n",
    "\n",
    "# w.json()"
   ]
  },
  {
   "cell_type": "code",
   "execution_count": 15,
   "id": "24dc2aa3-aaec-4f2c-96de-c6de80a65330",
   "metadata": {},
   "outputs": [
    {
     "name": "stdout",
     "output_type": "stream",
     "text": [
      "Retrieved file hash bafybeialu36aw3i2drpvhzc7swsp7rs77wekt5bxmtafypizncltzrymum from https://infura-ipfs.io Response 200\n"
     ]
    },
    {
     "data": {
      "text/plain": [
       "<fastai.tabular.learner.TabularLearner at 0x7fd63a9f9220>"
      ]
     },
     "execution_count": 15,
     "metadata": {},
     "output_type": "execute_result"
    }
   ],
   "source": [
    "from storage.ipfs import IPFS\n",
    "# from helpers.helper import read_file\n",
    "\n",
    "ipfs = IPFS()\n",
    "\n",
    "f_name, log = ipfs.get_file(response[\"value\"][\"cid\"],local_node=False)\n",
    "\n",
    "import pickle\n",
    "\n",
    "string_of_bytes_obj = str(pickle.dumps(f_name.content), encoding=\"latin1\")\n",
    "\n",
    "unpickled_dict = pickle.loads(bytes(string_of_bytes_obj, \"latin1\"))\n",
    "\n",
    "import torch\n",
    "from io import BytesIO\n",
    "\n",
    "torch.load(BytesIO(unpickled_dict),map_location=torch.device('cpu'))"
   ]
  },
  {
   "cell_type": "code",
   "execution_count": 14,
   "id": "4cefb884-ebd4-49ca-a440-4441f67da5db",
   "metadata": {},
   "outputs": [
    {
     "data": {
      "text/html": [
       "<div>\n",
       "<style scoped>\n",
       "    .dataframe tbody tr th:only-of-type {\n",
       "        vertical-align: middle;\n",
       "    }\n",
       "\n",
       "    .dataframe tbody tr th {\n",
       "        vertical-align: top;\n",
       "    }\n",
       "\n",
       "    .dataframe thead th {\n",
       "        text-align: right;\n",
       "    }\n",
       "</style>\n",
       "<table border=\"1\" class=\"dataframe\">\n",
       "  <thead>\n",
       "    <tr style=\"text-align: right;\">\n",
       "      <th></th>\n",
       "      <th>Timestamp</th>\n",
       "      <th>Token</th>\n",
       "      <th>Borrowing Rate</th>\n",
       "      <th>Deposit Rate</th>\n",
       "      <th>Borrow Volume</th>\n",
       "      <th>Supply Volume</th>\n",
       "    </tr>\n",
       "  </thead>\n",
       "  <tbody>\n",
       "    <tr>\n",
       "      <th>0</th>\n",
       "      <td>1609471800</td>\n",
       "      <td>DAI</td>\n",
       "      <td>0.073195</td>\n",
       "      <td>0.050982</td>\n",
       "      <td>1.069964e+09</td>\n",
       "      <td>6.196481e+10</td>\n",
       "    </tr>\n",
       "    <tr>\n",
       "      <th>1</th>\n",
       "      <td>1609471800</td>\n",
       "      <td>USDC</td>\n",
       "      <td>0.087046</td>\n",
       "      <td>0.066993</td>\n",
       "      <td>7.285430e+08</td>\n",
       "      <td>4.063042e+10</td>\n",
       "    </tr>\n",
       "    <tr>\n",
       "      <th>2</th>\n",
       "      <td>1609471800</td>\n",
       "      <td>USDT</td>\n",
       "      <td>0.099588</td>\n",
       "      <td>0.077548</td>\n",
       "      <td>6.430536e+07</td>\n",
       "      <td>3.696225e+09</td>\n",
       "    </tr>\n",
       "    <tr>\n",
       "      <th>3</th>\n",
       "      <td>1609471800</td>\n",
       "      <td>ETH</td>\n",
       "      <td>0.022952</td>\n",
       "      <td>0.000489</td>\n",
       "      <td>3.055365e+04</td>\n",
       "      <td>5.663257e+07</td>\n",
       "    </tr>\n",
       "    <tr>\n",
       "      <th>4</th>\n",
       "      <td>1609473600</td>\n",
       "      <td>DAI</td>\n",
       "      <td>0.073101</td>\n",
       "      <td>0.050912</td>\n",
       "      <td>1.069961e+09</td>\n",
       "      <td>6.197050e+10</td>\n",
       "    </tr>\n",
       "    <tr>\n",
       "      <th>...</th>\n",
       "      <td>...</td>\n",
       "      <td>...</td>\n",
       "      <td>...</td>\n",
       "      <td>...</td>\n",
       "      <td>...</td>\n",
       "      <td>...</td>\n",
       "    </tr>\n",
       "    <tr>\n",
       "      <th>66789</th>\n",
       "      <td>1639539000</td>\n",
       "      <td>ETH</td>\n",
       "      <td>0.027215</td>\n",
       "      <td>0.000761</td>\n",
       "      <td>5.316478e+04</td>\n",
       "      <td>7.481990e+07</td>\n",
       "    </tr>\n",
       "    <tr>\n",
       "      <th>66790</th>\n",
       "      <td>1639540800</td>\n",
       "      <td>ETH</td>\n",
       "      <td>0.027214</td>\n",
       "      <td>0.000761</td>\n",
       "      <td>5.316480e+04</td>\n",
       "      <td>7.482188e+07</td>\n",
       "    </tr>\n",
       "    <tr>\n",
       "      <th>66791</th>\n",
       "      <td>1639542600</td>\n",
       "      <td>ETH</td>\n",
       "      <td>0.027214</td>\n",
       "      <td>0.000761</td>\n",
       "      <td>5.316488e+04</td>\n",
       "      <td>7.482482e+07</td>\n",
       "    </tr>\n",
       "    <tr>\n",
       "      <th>66792</th>\n",
       "      <td>1639544400</td>\n",
       "      <td>ETH</td>\n",
       "      <td>0.027226</td>\n",
       "      <td>0.000764</td>\n",
       "      <td>5.316501e+04</td>\n",
       "      <td>7.461519e+07</td>\n",
       "    </tr>\n",
       "    <tr>\n",
       "      <th>66793</th>\n",
       "      <td>1639546200</td>\n",
       "      <td>ETH</td>\n",
       "      <td>0.027229</td>\n",
       "      <td>0.000764</td>\n",
       "      <td>5.316508e+04</td>\n",
       "      <td>7.456406e+07</td>\n",
       "    </tr>\n",
       "  </tbody>\n",
       "</table>\n",
       "<p>66794 rows × 6 columns</p>\n",
       "</div>"
      ],
      "text/plain": [
       "        Timestamp Token  Borrowing Rate  Deposit Rate  Borrow Volume  \\\n",
       "0      1609471800   DAI        0.073195      0.050982   1.069964e+09   \n",
       "1      1609471800  USDC        0.087046      0.066993   7.285430e+08   \n",
       "2      1609471800  USDT        0.099588      0.077548   6.430536e+07   \n",
       "3      1609471800   ETH        0.022952      0.000489   3.055365e+04   \n",
       "4      1609473600   DAI        0.073101      0.050912   1.069961e+09   \n",
       "...           ...   ...             ...           ...            ...   \n",
       "66789  1639539000   ETH        0.027215      0.000761   5.316478e+04   \n",
       "66790  1639540800   ETH        0.027214      0.000761   5.316480e+04   \n",
       "66791  1639542600   ETH        0.027214      0.000761   5.316488e+04   \n",
       "66792  1639544400   ETH        0.027226      0.000764   5.316501e+04   \n",
       "66793  1639546200   ETH        0.027229      0.000764   5.316508e+04   \n",
       "\n",
       "       Supply Volume  \n",
       "0       6.196481e+10  \n",
       "1       4.063042e+10  \n",
       "2       3.696225e+09  \n",
       "3       5.663257e+07  \n",
       "4       6.197050e+10  \n",
       "...              ...  \n",
       "66789   7.481990e+07  \n",
       "66790   7.482188e+07  \n",
       "66791   7.482482e+07  \n",
       "66792   7.461519e+07  \n",
       "66793   7.456406e+07  \n",
       "\n",
       "[66794 rows x 6 columns]"
      ]
     },
     "execution_count": 14,
     "metadata": {},
     "output_type": "execute_result"
    }
   ],
   "source": [
    "read_file(response)"
   ]
  },
  {
   "cell_type": "code",
   "execution_count": 15,
   "id": "5cb45b5d-0b67-43d9-9386-5ef74082a43a",
   "metadata": {},
   "outputs": [],
   "source": [
    "import pandas as pd\n",
    "df_peers = pd.DataFrame(ipfs.get_peers()[\"Peers\"]).dropna()\n",
    "\n",
    "df_peers[\"Latency\"] = df_peers[\"Latency\"].replace(\"n/a\",None)\n",
    "\n",
    "df_peers[\"Latency_float\"] = df_peers[\"Latency\"].str.strip(\"ms\").astype(\"float64\")\n",
    "\n",
    "df_peers[\"Stream_Count\"] = df_peers[\"Streams\"].apply(lambda x: len(x))\n",
    "\n",
    "peers = df_peers[\"Peer\"].to_list()"
   ]
  },
  {
   "cell_type": "code",
   "execution_count": 16,
   "id": "c445d8a1-aef9-4c9e-88b3-b006cec0e70a",
   "metadata": {},
   "outputs": [
    {
     "data": {
      "text/plain": [
       "'12D3KooWKfaq9fFyAyabRywMbTT32jXkDQ7LG13J2tWseXXrebXS'"
      ]
     },
     "execution_count": 16,
     "metadata": {},
     "output_type": "execute_result"
    }
   ],
   "source": [
    "peers[0]"
   ]
  },
  {
   "cell_type": "code",
   "execution_count": 18,
   "id": "979fcc57-3c73-4782-96ed-10d9fc1e9a9f",
   "metadata": {},
   "outputs": [],
   "source": [
    "for peer in peers:\n",
    "\n",
    "    dht = ipfs.get_dht(peer)\n",
    "    \n",
    "    with open(f\"dht/dht_{peer}.pkl\",\"w\") as f:\n",
    "    \n",
    "        f.writelines(dht.text)"
   ]
  },
  {
   "cell_type": "code",
   "execution_count": 19,
   "id": "0f17d653-11a5-4993-a7a1-74fbb0c61bea",
   "metadata": {},
   "outputs": [],
   "source": [
    "import json\n",
    "import glob\n",
    "\n",
    "df = pd.DataFrame()\n",
    "\n",
    "for dht_f in glob.glob(\"dht/dht_*\"):\n",
    "    \n",
    "    with open(dht_f,\"r\") as f:\n",
    "\n",
    "        d = f.readlines()\n",
    "\n",
    "        clean = [json.loads(i.strip()) for i in d]\n",
    "        \n",
    "        df = pd.concat([df,pd.DataFrame(clean)])"
   ]
  },
  {
   "cell_type": "code",
   "execution_count": 20,
   "id": "c955f5b0-e9e4-4f23-af44-968925739c97",
   "metadata": {},
   "outputs": [],
   "source": [
    "df.to_csv(\"snapshot1.csv\",index=False)"
   ]
  },
  {
   "cell_type": "code",
   "execution_count": null,
   "id": "b81cb18b-b0ab-44d6-9b16-373ef370c28d",
   "metadata": {},
   "outputs": [],
   "source": [
    "df_dhtpeers = pd.DataFrame(dht_file,columns=[\"peers\"])"
   ]
  },
  {
   "cell_type": "code",
   "execution_count": null,
   "id": "442051d9-a23e-4088-a645-27e4ac23c41f",
   "metadata": {},
   "outputs": [],
   "source": [
    "df_dhtpeers"
   ]
  },
  {
   "cell_type": "code",
   "execution_count": null,
   "id": "d8b0cced-e614-47c0-b2e3-9fbb5cd2b163",
   "metadata": {},
   "outputs": [],
   "source": [
    "ipfs.dht_get_file(\"bafkreiesap4b4a4xgvfxhsz6hdza7atezclk4op3iz5lusu5xxx7542ns4\")"
   ]
  },
  {
   "cell_type": "code",
   "execution_count": null,
   "id": "1d442bee-6d6d-49fa-ac4a-fddaafd7cf82",
   "metadata": {},
   "outputs": [],
   "source": [
    "_ = df_peers[\"Latency_float\"].hist()"
   ]
  },
  {
   "cell_type": "code",
   "execution_count": null,
   "id": "9475a947-cd1a-4665-a210-7bb1814dff58",
   "metadata": {},
   "outputs": [],
   "source": [
    "df_peers.describe()"
   ]
  },
  {
   "cell_type": "code",
   "execution_count": null,
   "id": "2d31304f-b909-47b4-b0fa-6bacbe1b0e59",
   "metadata": {},
   "outputs": [],
   "source": [
    "df_peers"
   ]
  },
  {
   "cell_type": "markdown",
   "id": "c3418d0b-e21f-41ff-8965-ce27dd704115",
   "metadata": {
    "tags": []
   },
   "source": [
    "# Pinata"
   ]
  },
  {
   "cell_type": "code",
   "execution_count": 17,
   "id": "69826175-5a34-44f9-832f-2f950e764f7e",
   "metadata": {},
   "outputs": [],
   "source": [
    "from storage.pinataV1 import PinataV1\n",
    "\n",
    "pinata = PinataV1()"
   ]
  },
  {
   "cell_type": "code",
   "execution_count": 18,
   "id": "bcc097d4-cc54-489c-90c6-a4479cfdd7cf",
   "metadata": {},
   "outputs": [],
   "source": [
    "cred = pinata.get_creds()"
   ]
  },
  {
   "cell_type": "code",
   "execution_count": null,
   "id": "a739dfb8-54b4-4c68-9a92-b85811486630",
   "metadata": {},
   "outputs": [],
   "source": [
    "pinata.upload_file(\"dataset/sample/All_Gateway_Properties.csv\",cred)"
   ]
  },
  {
   "cell_type": "code",
   "execution_count": 23,
   "id": "359e04fe-9ad4-413d-a09a-7c19919fca46",
   "metadata": {},
   "outputs": [
    {
     "data": {
      "text/plain": [
       "({'id': '676bdf01-09a1-4ace-b21d-b825d9200cb9',\n",
       "  'ipfsHash': 'bafybeialu36aw3i2drpvhzc7swsp7rs77wekt5bxmtafypizncltzrymum',\n",
       "  'status': 'prechecking',\n",
       "  'name': 'tabular-epochs100_ntp5_tw3.pkl'},\n",
       " 200)"
      ]
     },
     "execution_count": 23,
     "metadata": {},
     "output_type": "execute_result"
    }
   ],
   "source": [
    "pinata.pin(cred,response[\"value\"][\"cid\"],fn=\"tabular-epochs100_ntp5_tw3.pkl\")"
   ]
  },
  {
   "cell_type": "code",
   "execution_count": null,
   "id": "452236e5-5088-4c35-bba7-8a5ab5fbe12f",
   "metadata": {},
   "outputs": [],
   "source": [
    "pinata.unpin(\"QmQwwMbykhX3wyCdC5yBRXV4JQRe5FFLiyynaUiLbmvLzn\",cred)"
   ]
  },
  {
   "cell_type": "code",
   "execution_count": null,
   "id": "d734e0df-009e-4b60-8d15-d0cd35986264",
   "metadata": {},
   "outputs": [],
   "source": [
    "pinata.edit_hash(cred,\"Popcorn Limited - Dune Dashboards - 03182022.pdf\",\"bafkreief472lhr6b54baq4oansiwor4ed2te2xztwgjqez2btrns5d6dxi\")"
   ]
  },
  {
   "cell_type": "code",
   "execution_count": null,
   "id": "0653634d-82a5-42c1-914b-3b382c8b38e4",
   "metadata": {},
   "outputs": [],
   "source": [
    "f_name = ipfs.get_file(\"QmQwwMbykhX3wyCdC5yBRXV4JQRe5FFLiyynaUiLbmvLzn\",local_node=False)\n"
   ]
  },
  {
   "cell_type": "code",
   "execution_count": null,
   "id": "f3c954b3-4d63-48f3-b449-5ae7f9e90b7d",
   "metadata": {},
   "outputs": [],
   "source": [
    "pinata.pin_policy(\"bafybeif36uqfqj5on23qfdl3nglc7ncgcbnz4ixpleomskg7pqn3xmlgfi\",cred,region=\"FRA1\",replications=1)"
   ]
  },
  {
   "cell_type": "code",
   "execution_count": null,
   "id": "f97a06d3-effd-44a6-94b2-baf6a4823fc7",
   "metadata": {},
   "outputs": [],
   "source": [
    "pinata.globalpin_policy(cred,region=\"FRA1\",replications=1)"
   ]
  },
  {
   "cell_type": "markdown",
   "id": "7d96f948-251c-4677-a527-0db88fc09b0e",
   "metadata": {
    "tags": []
   },
   "source": [
    "## Request Files"
   ]
  },
  {
   "cell_type": "code",
   "execution_count": null,
   "id": "76af2563-15a7-4356-8896-70347db710a7",
   "metadata": {},
   "outputs": [],
   "source": [
    "import pandas as pd\n",
    "\n",
    "\"\"\"\n",
    "\"sort\" - Sort the results by the date added to the pinning queue (see value options below)\n",
    "\"ASC\" - Sort by ascending dates\n",
    "\"DESC\" - Sort by descending dates\n",
    "\"status\" - Filter by the status of the job in the pinning queue (see potential statuses below)\n",
    "\"prechecking\" - Pinata is running preliminary validations on your pin request.\n",
    "\"searching\" - Pinata is actively searching for your content on the IPFS network. This may take some time if your content is isolated.\n",
    "\"retrieving\" - Pinata has located your content and is now in the process of retrieving it.\n",
    "\"expired\" - Pinata wasn't able to find your content after a day of searching the IPFS network. Please make sure your content is hosted on the IPFS network before trying to pin again.\n",
    "\"over_free_limit\" - Pinning this object would put you over the free tier limit. Please add a credit card to continue pinning content.\n",
    "\"over_max_size\" - This object is too large of an item to pin. If you're seeing this, please contact us for a more custom solution.\n",
    "\"invalid_object\" - The object you're attempting to pin isn't readable by IPFS nodes. Please contact us if you receive this, as we'd like to better understand what you're attempting to pin.\n",
    "\"bad_host_node\" - You provided a host node that was either invalid or unreachable. Please make sure all provided host nodes are online and reachable.\n",
    "\"ipfs_pin_hash\" - Retrieve the record for a specific IPFS hash\n",
    "\"limit\" - Limit the amount of results returned per page of results (default is 5, and max is 1000)\n",
    "\"offset\" - Provide the record offset for records being returned. This is how you retrieve records on additional pages (default is 0)\n",
    "\n",
    "MetaData\n",
    "metadata[name]=exampleName\n",
    "\n",
    "&metadata[keyvalues]={\"exampleKey\":{\"value\":\"exampleValue\",\"op\":\"exampleOp\"},\"exampleKey2\":{\"value\":\"exampleValue2\",\"op\":\"exampleOp2\"}}\n",
    "\"\"\"\n",
    "params = {\"sort\":\"DESC\",\"status\":None,\"prechecking\":None,\n",
    "          \"searching\":None,\"retrieving\":None,\n",
    "          \"expired\":None,\"over_free_limit\":None,\n",
    "          \"over_max_size\":None,\"invalid_object\":None,\n",
    "          \"bad_host_node\":None,\"ipfs_pin_hash\":None,\n",
    "          \"limit\":None,\"offset\":None,\"metadata[name]\":None,\n",
    "          \"metadatakeyvalues\":\"keyvalues\"\n",
    "         }\n",
    "\n",
    "pf,status = pinata.get_pinned_files(cred,params)\n",
    "pd.DataFrame(pf[\"rows\"])"
   ]
  },
  {
   "cell_type": "markdown",
   "id": "77dbea05-d398-47b5-8e2e-ea7c1743bb54",
   "metadata": {
    "tags": []
   },
   "source": [
    "## Requesting Pin Jobs"
   ]
  },
  {
   "cell_type": "code",
   "execution_count": null,
   "id": "214b10d8-12c1-4095-a89b-d7b4282ea3db",
   "metadata": {},
   "outputs": [],
   "source": [
    "pf,status = pinata.get_pinned_jobs(cred,params)\n",
    "pf"
   ]
  },
  {
   "cell_type": "code",
   "execution_count": null,
   "id": "803da7a1-fddc-4dac-ab84-81d25e5e2192",
   "metadata": {},
   "outputs": [],
   "source": [
    "pinata.get_datausage(cred)"
   ]
  },
  {
   "cell_type": "code",
   "execution_count": null,
   "id": "1f58ab73-4267-4795-88e3-6b58296b962e",
   "metadata": {},
   "outputs": [],
   "source": [
    "#convert bytes to MB\n",
    "\n",
    "2103065 * 10**-6"
   ]
  },
  {
   "cell_type": "markdown",
   "id": "ba1be782-2f67-4a45-b962-48eb4723a763",
   "metadata": {},
   "source": [
    "# Work in Progress"
   ]
  },
  {
   "cell_type": "markdown",
   "id": "4aa30bca-0a3a-4fdb-a66c-e244b68a8dc1",
   "metadata": {},
   "source": [
    "# Pinata V2"
   ]
  },
  {
   "cell_type": "code",
   "execution_count": null,
   "id": "abd5ce3f-9fe8-4fec-a680-ded0cf25fae4",
   "metadata": {},
   "outputs": [],
   "source": [
    "# import requests module\n",
    "import requests\n",
    "import json\n",
    "from requests.auth import HTTPBasicAuth\n",
    "\n",
    "class PinataV2:\n",
    "    \n",
    "    def get_creds(self):\n",
    "\n",
    "        with open(\"creds.json\") as f:\n",
    "\n",
    "            cred = json.loads(f.read())\n",
    "\n",
    "        return cred[\"Pinata\"]\n",
    "\n",
    "    def upload_file(self,fn,cred):\n",
    "        \n",
    "\n",
    "\n",
    "        url = \"https://managed.mypinata.cloud/api/v1/content\"\n",
    "\n",
    "        payload={}\n",
    "        headers = {\n",
    "          'x-api-key': cred['API Key']\n",
    "        }\n",
    "\n",
    "        response = requests.request(\"GET\", url, headers=headers, data=payload)\n",
    "\n",
    "        print(response.text)\n",
    "\n",
    "        return response.json(),response.status_code"
   ]
  },
  {
   "cell_type": "code",
   "execution_count": null,
   "id": "a57472ef-afaa-48ce-b391-915e7d556217",
   "metadata": {},
   "outputs": [],
   "source": [
    "pinatav2 = PinataV2()"
   ]
  },
  {
   "cell_type": "code",
   "execution_count": null,
   "id": "5e24fdef-6e54-4a12-a701-4c4c2dc0778d",
   "metadata": {},
   "outputs": [],
   "source": [
    "cred = pinatav2.get_creds()"
   ]
  },
  {
   "cell_type": "code",
   "execution_count": null,
   "id": "3bb6ca9a-60bf-43d9-86f9-e4bdb9f0a009",
   "metadata": {},
   "outputs": [],
   "source": [
    "pinatav2.upload_file(\"storage/ipfs.py\",cred)"
   ]
  },
  {
   "cell_type": "markdown",
   "id": "4a052979-dd1d-40f0-903c-f1dfb365e652",
   "metadata": {
    "tags": []
   },
   "source": [
    "# Estuary"
   ]
  },
  {
   "cell_type": "code",
   "execution_count": null,
   "id": "2dd6091f-b505-44ff-ab3c-06fed2d9e9f7",
   "metadata": {},
   "outputs": [],
   "source": [
    "import requests\n",
    "import json\n",
    "\n",
    "\n",
    "class Estuary:\n",
    "    \n",
    "    def get_creds(self):\n",
    "\n",
    "        with open(\"creds.json\") as f:\n",
    "\n",
    "            cred = json.loads(f.read())\n",
    "\n",
    "        return cred[\"Estuary\"]\n",
    "    \n",
    "    def upload_file(self,fn,cred):\n",
    "\n",
    "        base_url1 = \"https://shuttle-4.estuary.tech/content/add\"\n",
    "        base2 = \"https://shuttle-5.estuary.tech/content/add\"\n",
    "        \n",
    "        header = {\"Content-Type\":\"multipart/form-data\",\n",
    "                  \"Authorization\":\"Bearer \" + cred[\"API Key\"],\n",
    "                  }\n",
    "        \n",
    "        \n",
    "        \n",
    "        #Filename,file, content_type, cookie expiration?\n",
    "        files = {'file': (fn, open(fn, 'rb'),\n",
    "                          \"multipart/form-data\", {'Expires': '0'})\n",
    "                }\n",
    "\n",
    "\n",
    "\n",
    "        response = requests.post(base_url1, headers=header,data=files)\n",
    "\n",
    "        return response.json(),response.status_code\n",
    "    \n",
    "    def get_pins(self,cred):\n",
    "\n",
    "        base_url = \"https://api.estuary.tech/pinning/pins\"\n",
    "\n",
    "        header = {\"Authorization\": \"Bearer \" + cred[\"API Key\"]}\n",
    "        \n",
    "        \n",
    "        response = requests.get(base_url,headers=header)\n",
    "\n",
    "        return response.json(),response.status_code\n",
    "\n",
    "\n",
    "\n"
   ]
  },
  {
   "cell_type": "code",
   "execution_count": null,
   "id": "ebff9c13-98f4-4580-bbfa-254ea77faf64",
   "metadata": {},
   "outputs": [],
   "source": [
    "e = Estuary()"
   ]
  },
  {
   "cell_type": "code",
   "execution_count": null,
   "id": "b69e6cfe-a858-45e3-be6b-e477a343780f",
   "metadata": {},
   "outputs": [],
   "source": [
    "cred = e.get_creds()"
   ]
  },
  {
   "cell_type": "code",
   "execution_count": null,
   "id": "325b678d-cf10-4cee-b494-1ea29490976c",
   "metadata": {},
   "outputs": [],
   "source": [
    "pins = e.get_pins(cred)"
   ]
  },
  {
   "cell_type": "code",
   "execution_count": null,
   "id": "51ee4ce6-1ce1-4bf6-96bd-a22ecb272f0b",
   "metadata": {},
   "outputs": [],
   "source": [
    "e.upload_file(\"dataset/sample/All_Gateway_Properties.csv\",cred)"
   ]
  },
  {
   "cell_type": "code",
   "execution_count": null,
   "id": "86a9918d-c70b-469e-a7ed-8ac801d0de6a",
   "metadata": {},
   "outputs": [],
   "source": []
  }
 ],
 "metadata": {
  "kernelspec": {
   "display_name": "Python 3 (ipykernel)",
   "language": "python",
   "name": "python3"
  },
  "language_info": {
   "codemirror_mode": {
    "name": "ipython",
    "version": 3
   },
   "file_extension": ".py",
   "mimetype": "text/x-python",
   "name": "python",
   "nbconvert_exporter": "python",
   "pygments_lexer": "ipython3",
   "version": "3.9.7"
  }
 },
 "nbformat": 4,
 "nbformat_minor": 5
}
